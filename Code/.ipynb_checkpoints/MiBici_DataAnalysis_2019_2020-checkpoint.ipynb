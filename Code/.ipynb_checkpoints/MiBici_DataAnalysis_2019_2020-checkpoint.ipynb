{
 "cells": [
  {
   "cell_type": "markdown",
   "id": "09eb1485",
   "metadata": {},
   "source": [
    "# Introduction"
   ]
  },
  {
   "cell_type": "markdown",
   "id": "e3f77b05",
   "metadata": {},
   "source": [
    "The goal of this jupyter notebook is to collect and clean the datasets from the MiBici bike-sharing system. This data is then used for an exploratory data analysis in python and data visualizations conducted in Tableau."
   ]
  },
  {
   "cell_type": "markdown",
   "id": "afb110ec",
   "metadata": {},
   "source": [
    "# Import Libraries"
   ]
  },
  {
   "cell_type": "code",
   "execution_count": 1,
   "id": "1d63596e",
   "metadata": {},
   "outputs": [],
   "source": [
    "# Web scraping libraries\n",
    "import requests\n",
    "import urllib.request\n",
    "from bs4 import BeautifulSoup\n",
    "\n",
    "\n",
    "# Downloading, moving and unzipping files\n",
    "import webbrowser\n",
    "from time import sleep\n",
    "import shutil\n",
    "import os\n",
    "import glob\n",
    "from pathlib import Path\n",
    "\n",
    "\n",
    "# Reverse Geocode\n",
    "import geopy\n",
    "from geopy.geocoders import Photon\n",
    "from geopy.extra.rate_limiter import RateLimiter\n",
    "\n",
    "\n",
    "# google directions api\n",
    "import polyline  # convert polyine into coordinates\n",
    "import folium    # mapping routes\n",
    "\n",
    "\n",
    "# DataFrame exploration and manipulation\n",
    "import pandas as pd\n",
    "import datetime as dt\n",
    "import re\n",
    "\n",
    "\n",
    "# Data Visualizations\n",
    "import matplotlib.pyplot as plt\n",
    "import seaborn as sns\n",
    "\n",
    "# Show all columns\n",
    "pd.set_option('display.max_columns', None)\n"
   ]
  },
  {
   "cell_type": "markdown",
   "id": "eda079da",
   "metadata": {},
   "source": [
    "# MiBici Data"
   ]
  },
  {
   "cell_type": "markdown",
   "id": "579f1139",
   "metadata": {},
   "source": [
    "[MiBici](\"https://www.mibici.net/es/datos-abiertos/\") is Guadalajara's public bike sharing system in the state of Jalisco, Mexico. Their open data system contains monthly datasets with information on each bike trip taken."
   ]
  },
  {
   "cell_type": "markdown",
   "id": "5214ab28",
   "metadata": {},
   "source": [
    "## Obtain MiBici Data Files"
   ]
  },
  {
   "cell_type": "markdown",
   "id": "5a04308e",
   "metadata": {},
   "source": [
    "The code for obtaining the MiBici data files from their website is based on the code produced by Fausto De La Rosa Mañón for their analysis on the NYC Citibike dataset. The article for their analysis can be found on [Medium](https://medium.com/@fausto.manon/building-a-citibike-database-with-python-9849a59fb90c)\n",
    "and the code on [GitHub](https://github.com/fmanon/Citibike_Trip_Data/blob/master/code/01_Create_Database.ipynb)."
   ]
  },
  {
   "cell_type": "markdown",
   "id": "918e7088",
   "metadata": {},
   "source": [
    "Request access to the MiBici Open Data webpage. `<Response [200]>` indicates that the request is successful."
   ]
  },
  {
   "cell_type": "code",
   "execution_count": 2,
   "id": "7eeb9169",
   "metadata": {},
   "outputs": [
    {
     "data": {
      "text/plain": [
       "<Response [200]>"
      ]
     },
     "execution_count": 2,
     "metadata": {},
     "output_type": "execute_result"
    }
   ],
   "source": [
    "url = 'https://www.mibici.net/es/datos-abiertos/'\n",
    "response = requests.get(url, headers={\"User-Agent\": \"XY\"})\n",
    "response"
   ]
  },
  {
   "cell_type": "markdown",
   "id": "75381b49",
   "metadata": {},
   "source": [
    "Parse the webpage using BeautifulSoup. This is to determine what HTML tag is used to identify the data files. "
   ]
  },
  {
   "cell_type": "code",
   "execution_count": 3,
   "id": "aafe6086",
   "metadata": {},
   "outputs": [],
   "source": [
    "soup = BeautifulSoup(response.text, 'xml')"
   ]
  },
  {
   "cell_type": "markdown",
   "id": "b8d1c2ee",
   "metadata": {},
   "source": [
    "The .csv files that we want are stored with an `/<a>` tag."
   ]
  },
  {
   "cell_type": "code",
   "execution_count": 37,
   "id": "58b629f2",
   "metadata": {},
   "outputs": [],
   "source": [
    "data_files = soup.find_all('a')"
   ]
  },
  {
   "cell_type": "markdown",
   "id": "fb657759",
   "metadata": {},
   "source": [
    "Edit the `data_files` variable to remove the non-data elements."
   ]
  },
  {
   "cell_type": "code",
   "execution_count": 39,
   "id": "830998a8",
   "metadata": {},
   "outputs": [],
   "source": [
    "data_files = list(data_files[59:83]) + list(data_files[106:107])"
   ]
  },
  {
   "cell_type": "code",
   "execution_count": 40,
   "id": "914c4a99",
   "metadata": {
    "scrolled": true
   },
   "outputs": [
    {
     "data": {
      "text/plain": [
       "[<a href=\"/site/assets/files/1214/datos_abiertos_2019_01.csv\"><li>Enero</li></a>,\n",
       " <a href=\"/site/assets/files/1217/datos_abiertos_2019_02.csv\"><li>Febrero</li></a>,\n",
       " <a href=\"/site/assets/files/1218/datos_abiertos_2019_03.csv\"><li>Marzo</li></a>,\n",
       " <a href=\"/site/assets/files/1219/datos_abiertos_2019_04.csv\"><li>Abril</li></a>,\n",
       " <a href=\"/site/assets/files/1220/datos_abiertos_2019_05.csv\"><li>Mayo</li></a>,\n",
       " <a href=\"/site/assets/files/1221/datos_abiertos_2019_06.csv\"><li>Junio</li></a>,\n",
       " <a href=\"/site/assets/files/1222/datos_abiertos_2019_07.csv\"><li>Julio</li></a>,\n",
       " <a href=\"/site/assets/files/1223/datos_abiertos_2019_08.csv\"><li>Agosto</li></a>,\n",
       " <a href=\"/site/assets/files/1224/datos_abiertos_2019_09.csv\"><li>Septiembre</li></a>,\n",
       " <a href=\"/site/assets/files/1225/datos_abiertos_2019_10.csv\"><li>Octubre</li></a>,\n",
       " <a href=\"/site/assets/files/1227/datos_abiertos_2019_11.csv\"><li>Noviembre</li></a>,\n",
       " <a href=\"/site/assets/files/1228/datos_abiertos_2019_12.csv\"><li>Diciembre</li></a>,\n",
       " <a href=\"/site/assets/files/1230/datos_abiertos_2020_01.csv\"><li>Enero</li></a>,\n",
       " <a href=\"/site/assets/files/1231/datos_abiertos_2020_02.csv\"><li>Febrero</li></a>,\n",
       " <a href=\"/site/assets/files/1232/datos_abiertos_2020_03.csv\"><li>Marzo</li></a>,\n",
       " <a href=\"/site/assets/files/1235/datos_abiertos_2020_04.csv\"><li>Abril</li></a>,\n",
       " <a href=\"/site/assets/files/1236/datos_abiertos_2020_05.csv\"><li>Mayo</li></a>,\n",
       " <a href=\"/site/assets/files/1237/datos_abiertos_2020_06.csv\"><li>Junio</li></a>,\n",
       " <a href=\"/site/assets/files/1238/datos_abiertos_2020_07.csv\"><li>Julio</li></a>,\n",
       " <a href=\"/site/assets/files/1239/datos_abiertos_2020_08.csv\"><li>Agosto</li></a>,\n",
       " <a href=\"/site/assets/files/1240/datos_abiertos_2020_09.csv\"><li>Septiembre</li></a>,\n",
       " <a href=\"/site/assets/files/1241/datos_abiertos_2020_10.csv\"><li>Octubre</li></a>,\n",
       " <a href=\"/site/assets/files/1317/datos_abiertos_2020_11.csv\"><li>Noviembre</li></a>,\n",
       " <a href=\"/site/assets/files/1318/datos_abiertos_2020_12.csv\"><li>Diciembre</li></a>,\n",
       " <a href=\"/site/assets/files/1118/nomenclatura_2022_11.csv\"><li>Nomenclatura de estaciones</li></a>]"
      ]
     },
     "execution_count": 40,
     "metadata": {},
     "output_type": "execute_result"
    }
   ],
   "source": [
    "data_files"
   ]
  },
  {
   "cell_type": "markdown",
   "id": "b0fcfa14",
   "metadata": {},
   "source": [
    "Edit the `data_files` variable to get the data file name address."
   ]
  },
  {
   "cell_type": "code",
   "execution_count": 41,
   "id": "79e31d36",
   "metadata": {},
   "outputs": [],
   "source": [
    "def get_file_names(data_list):\n",
    "    list = []\n",
    "    for index in range(len(data_list)):\n",
    "        list.append(data_list[index].attrs.get('href'))\n",
    "    return list"
   ]
  },
  {
   "cell_type": "code",
   "execution_count": 42,
   "id": "f68ce72a",
   "metadata": {},
   "outputs": [],
   "source": [
    "data_files = get_file_names(data_files)"
   ]
  },
  {
   "cell_type": "code",
   "execution_count": 43,
   "id": "7243591b",
   "metadata": {
    "scrolled": true
   },
   "outputs": [
    {
     "data": {
      "text/plain": [
       "['/site/assets/files/1214/datos_abiertos_2019_01.csv',\n",
       " '/site/assets/files/1217/datos_abiertos_2019_02.csv',\n",
       " '/site/assets/files/1218/datos_abiertos_2019_03.csv',\n",
       " '/site/assets/files/1219/datos_abiertos_2019_04.csv',\n",
       " '/site/assets/files/1220/datos_abiertos_2019_05.csv',\n",
       " '/site/assets/files/1221/datos_abiertos_2019_06.csv',\n",
       " '/site/assets/files/1222/datos_abiertos_2019_07.csv',\n",
       " '/site/assets/files/1223/datos_abiertos_2019_08.csv',\n",
       " '/site/assets/files/1224/datos_abiertos_2019_09.csv',\n",
       " '/site/assets/files/1225/datos_abiertos_2019_10.csv',\n",
       " '/site/assets/files/1227/datos_abiertos_2019_11.csv',\n",
       " '/site/assets/files/1228/datos_abiertos_2019_12.csv',\n",
       " '/site/assets/files/1230/datos_abiertos_2020_01.csv',\n",
       " '/site/assets/files/1231/datos_abiertos_2020_02.csv',\n",
       " '/site/assets/files/1232/datos_abiertos_2020_03.csv',\n",
       " '/site/assets/files/1235/datos_abiertos_2020_04.csv',\n",
       " '/site/assets/files/1236/datos_abiertos_2020_05.csv',\n",
       " '/site/assets/files/1237/datos_abiertos_2020_06.csv',\n",
       " '/site/assets/files/1238/datos_abiertos_2020_07.csv',\n",
       " '/site/assets/files/1239/datos_abiertos_2020_08.csv',\n",
       " '/site/assets/files/1240/datos_abiertos_2020_09.csv',\n",
       " '/site/assets/files/1241/datos_abiertos_2020_10.csv',\n",
       " '/site/assets/files/1317/datos_abiertos_2020_11.csv',\n",
       " '/site/assets/files/1318/datos_abiertos_2020_12.csv',\n",
       " '/site/assets/files/1118/nomenclatura_2022_11.csv']"
      ]
     },
     "execution_count": 43,
     "metadata": {},
     "output_type": "execute_result"
    }
   ],
   "source": [
    "data_files"
   ]
  },
  {
   "cell_type": "markdown",
   "id": "23d0f5b5",
   "metadata": {},
   "source": [
    "Retreive all of the csv files from the website by iterating through each list item and leveraging the `webbrowser` library to open each respective download link."
   ]
  },
  {
   "cell_type": "code",
   "execution_count": null,
   "id": "f401fff4",
   "metadata": {},
   "outputs": [],
   "source": [
    "url2 = 'https://www.mibici.net'\n",
    "for file in data_files:\n",
    "    webbrowser.open_new(url2 + file)\n",
    "    sleep(60)"
   ]
  },
  {
   "cell_type": "markdown",
   "id": "2329ab21",
   "metadata": {},
   "source": [
    "After downloading all of the respective files, relocate them from the `/Download` folder to the destination folder of the project."
   ]
  },
  {
   "cell_type": "code",
   "execution_count": null,
   "id": "91290ab5",
   "metadata": {},
   "outputs": [],
   "source": [
    "source = 'C:/Users/Delan/Downloads/'\n",
    "destination = '../../MiBici_Data/Original_BikeData/'\n",
    "\n",
    "# Unzip files and clean up data folder\n",
    "keywords = ['datos_abiertos', 'nomenclatura_2022']\n",
    "\n",
    "# Move from Download folder to data folder\n",
    "for item in os.listdir(source):\n",
    "    for keyword in keywords:\n",
    "        if keyword in item:\n",
    "            shutil.move(source + item, destination)"
   ]
  },
  {
   "cell_type": "markdown",
   "id": "4185faee",
   "metadata": {},
   "source": [
    "Move the nomenclature file (with station data) to the parent folder."
   ]
  },
  {
   "cell_type": "code",
   "execution_count": null,
   "id": "098393c0",
   "metadata": {},
   "outputs": [],
   "source": [
    "source = '../../MiBici_Data/Original_BikeData/'\n",
    "destination = '../../MiBici_Data/'\n",
    "\n",
    "# Unzip files and clean up data folder\n",
    "keywords = ['nomenclatura_2022']\n",
    "\n",
    "# Move from Download folder to data folder\n",
    "for item in os.listdir(source):\n",
    "    for keyword in keywords:\n",
    "        if keyword in item:\n",
    "            shutil.move(source + item, destination)"
   ]
  },
  {
   "cell_type": "markdown",
   "id": "49c96214",
   "metadata": {},
   "source": [
    "## Fix Column Names"
   ]
  },
  {
   "cell_type": "markdown",
   "id": "f3ac22ef",
   "metadata": {},
   "source": [
    "Check the details of the files, see what column headers they all share in common. \n",
    "* They share all have the same columns except the birth year of the rider.\n",
    "* There is an issue with the `ñ` in the word `año` for the birth year variable between some files."
   ]
  },
  {
   "cell_type": "code",
   "execution_count": null,
   "id": "8dd1b1d1",
   "metadata": {},
   "outputs": [],
   "source": [
    "files = glob.glob(r'../../MiBici_Data/Original_BikeData/*.csv')"
   ]
  },
  {
   "cell_type": "code",
   "execution_count": null,
   "id": "9ca71c51",
   "metadata": {},
   "outputs": [],
   "source": [
    "def get_common_columns(files, **kwargs):\n",
    "    \n",
    "    #Get set intersection of column-names of specified CSV files\n",
    "    common_columns = set(pd.read_csv(files[0], nrows=0, **kwargs, encoding='latin-1').columns)\n",
    "    \n",
    "    for f in files[1:]:\n",
    "        common_columns &= set(pd.read_csv(f, nrows=0, **kwargs, encoding='latin-1').columns)\n",
    "    return common_columns"
   ]
  },
  {
   "cell_type": "code",
   "execution_count": null,
   "id": "a3a5a07e",
   "metadata": {
    "scrolled": true
   },
   "outputs": [],
   "source": [
    "get_common_columns(files)"
   ]
  },
  {
   "cell_type": "markdown",
   "id": "c5f51fb3",
   "metadata": {},
   "source": [
    "Change column names and add additional variables to each file"
   ]
  },
  {
   "cell_type": "code",
   "execution_count": null,
   "id": "13d51ab7",
   "metadata": {},
   "outputs": [],
   "source": [
    "# function to translate the columns names into English\n",
    "def fix_colNames(data_frame):\n",
    "    return data_frame.rename(columns=({'Viaje_Id'          :'Trip_ID',\n",
    "                                       'Usuario_Id'        :'User_ID',\n",
    "                                       'Genero'            :'Gender',\n",
    "                                       'Año_de_nacimiento' :'Birth_Year',\n",
    "                                       'AÃ±o_de_nacimiento':'Birth_Year',\n",
    "                                 \n",
    "                                       'Inicio_del_viaje' :'Start_Time',\n",
    "                                       'Fin_del_viaje'    :'End_Time',\n",
    "                                       'Origen_Id'        :'Start_Station_ID',\n",
    "                                       'Destino_Id'       :'End_Station_ID'}\n",
    "                             ))"
   ]
  },
  {
   "cell_type": "code",
   "execution_count": null,
   "id": "ec7726c3",
   "metadata": {},
   "outputs": [],
   "source": [
    "# Function to convert start/end time variables into datetime objects and calculate the trip duration\n",
    "def Create_DateTime(data_frame, index):\n",
    "    \n",
    "    data_frame['Start_Time'] = pd.to_datetime(data_frame['Start_Time'])\n",
    "    data_frame['End_Time'] = pd.to_datetime(data_frame['End_Time'])\n",
    "    data_frame['Duration'] = (data_frame['End_Time'] - data_frame['Start_Time']).dt.total_seconds()/60\n",
    "\n",
    "    return data_frame"
   ]
  },
  {
   "cell_type": "code",
   "execution_count": null,
   "id": "85909ed3",
   "metadata": {},
   "outputs": [],
   "source": [
    "# Function to create more start time variables: hour of day, weekday, and month of trip\n",
    "# 1 = Monday -> 7 = Sunday\n",
    "def Create_StartVariables(data_frame):\n",
    "    \n",
    "    data_frame['Start_Hour']    = data_frame['Start_Time'].apply(lambda x: x.hour).astype('category')\n",
    "    data_frame['Start_Month']   = data_frame['Start_Time'].apply(lambda x: x.month).astype('category')\n",
    "    data_frame['Start_Weekday'] = data_frame['Start_Time'].apply(lambda x: x.isoweekday()).astype('category')\n",
    "    data_frame['Start_Weekday'] = data_frame['Start_Weekday'].map({1:'Monday', 2:'Tuesday', 3:'Wednesday', 4:'Thursday',\n",
    "                                                                   5:'Friday', 6:'Saturday', 7:'Sunday'})\n",
    "    return data_frame"
   ]
  },
  {
   "cell_type": "code",
   "execution_count": null,
   "id": "07fe5f96",
   "metadata": {},
   "outputs": [],
   "source": [
    "# obtain the csv data file names\n",
    "oldPath = \"../../MiBici_Data/Original_BikeData/\"\n",
    "newPath = \"../../MiBici_Data/FirstCleaning/\"\n",
    "\n",
    "# keep track of file count\n",
    "file_index = 1                                 \n",
    "\n",
    "# collect dataset file names per month into list\n",
    "temp_file_names = [os.path.basename(x) for x in glob.glob(oldPath+'*.csv')]\n",
    "\n",
    "# Loop through each file, make changes, save in 'CleanData' folder\n",
    "for file in temp_file_names:\n",
    "    \n",
    "    df = pd.read_csv(os.path.join(oldPath, file), encoding='latin-1')     # read in file as dataframe\n",
    "    \n",
    "    df = fix_colNames(df)                  # translate/rename columns\n",
    "    df = Create_DateTime(df, file_index)   # Clean Start/End time variables. Create trip duration variable\n",
    "    df = Create_StartVariables(df)         # obtain additional info on start_time: hour, weekday, month\n",
    "    \n",
    "    # Make a copy of the new formatted file into the 'CleanDataFolder'\n",
    "    df.to_csv(newPath + file, index=False)\n",
    "    \n",
    "    file_index = file_index + 1  # onto the next file"
   ]
  },
  {
   "cell_type": "markdown",
   "id": "894773af",
   "metadata": {},
   "source": [
    "## Add Location Data"
   ]
  },
  {
   "cell_type": "markdown",
   "id": "eb8145f1",
   "metadata": {},
   "source": [
    "Reverse geolocating is used to obtain more detailed information about the locations of each bike station (e.g., municipality, neighborhood, etc.)."
   ]
  },
  {
   "cell_type": "markdown",
   "id": "7e710e50",
   "metadata": {},
   "source": [
    "Read in the `nomenclatura` that contains the name, latitiude, and longitude information for each bike station"
   ]
  },
  {
   "cell_type": "code",
   "execution_count": null,
   "id": "d3c248e8",
   "metadata": {},
   "outputs": [],
   "source": [
    "all_stations_df = pd.read_csv('../../MiBici_Data/nomenclatura_2022_11.csv', encoding='latin-1')"
   ]
  },
  {
   "cell_type": "markdown",
   "id": "bd890c2d",
   "metadata": {},
   "source": [
    "Take a peek at the dataframe."
   ]
  },
  {
   "cell_type": "code",
   "execution_count": null,
   "id": "ccd4c734",
   "metadata": {},
   "outputs": [],
   "source": [
    "all_stations_df.head()"
   ]
  },
  {
   "cell_type": "markdown",
   "id": "260cbb18",
   "metadata": {},
   "source": [
    "Check for missing data."
   ]
  },
  {
   "cell_type": "code",
   "execution_count": null,
   "id": "90e8dcc6",
   "metadata": {
    "scrolled": true
   },
   "outputs": [],
   "source": [
    "all_stations_df.isnull().values.any()"
   ]
  },
  {
   "cell_type": "markdown",
   "id": "3b3e3a9d",
   "metadata": {},
   "source": [
    "Create a new variable that concatenates the latitude and longitude."
   ]
  },
  {
   "cell_type": "code",
   "execution_count": null,
   "id": "9f681182",
   "metadata": {},
   "outputs": [],
   "source": [
    "all_stations_df['geometry'] = all_stations_df['latitude'].map(str) + ',' + all_stations_df['longitude'].map(str)"
   ]
  },
  {
   "cell_type": "code",
   "execution_count": null,
   "id": "f73c34f7",
   "metadata": {},
   "outputs": [],
   "source": [
    "all_stations_df.head(10)"
   ]
  },
  {
   "cell_type": "markdown",
   "id": "643ec2db",
   "metadata": {},
   "source": [
    "Reverse geolocate each station"
   ]
  },
  {
   "cell_type": "code",
   "execution_count": null,
   "id": "25311dd1",
   "metadata": {},
   "outputs": [],
   "source": [
    "# use the Photon Geocoding service for openstreetmap data\n",
    "locator = Photon(user_agent=\"measurements\")\n",
    "\n",
    "# set a timer between address searches so that API doesn't get overwhelmed\n",
    "rgeocode = RateLimiter(locator.reverse, min_delay_seconds=0.001)  "
   ]
  },
  {
   "cell_type": "code",
   "execution_count": null,
   "id": "6f8cc1e3",
   "metadata": {
    "scrolled": true
   },
   "outputs": [],
   "source": [
    "# extract the address for each station\n",
    "all_stations_df['address'] = all_stations_df['geometry'].apply(rgeocode)"
   ]
  },
  {
   "cell_type": "code",
   "execution_count": null,
   "id": "c56d5ece",
   "metadata": {
    "scrolled": true
   },
   "outputs": [],
   "source": [
    "# take a ppek at the data\n",
    "all_stations_df.head()"
   ]
  },
  {
   "cell_type": "markdown",
   "id": "d500d999",
   "metadata": {},
   "source": [
    "Check for missing address data."
   ]
  },
  {
   "cell_type": "code",
   "execution_count": null,
   "id": "ad0d0bcd",
   "metadata": {
    "scrolled": true
   },
   "outputs": [],
   "source": [
    "all_stations_df.address.isnull().values.any()"
   ]
  },
  {
   "cell_type": "markdown",
   "id": "20c8d8db",
   "metadata": {},
   "source": [
    "Take a peek at the new address variable"
   ]
  },
  {
   "cell_type": "code",
   "execution_count": null,
   "id": "7f36803f",
   "metadata": {},
   "outputs": [],
   "source": [
    "all_stations_df.address[10].raw"
   ]
  },
  {
   "cell_type": "markdown",
   "id": "25c11096",
   "metadata": {},
   "source": [
    "Extract the neighbourhood and city names for each bike station."
   ]
  },
  {
   "cell_type": "code",
   "execution_count": null,
   "id": "21c329c4",
   "metadata": {},
   "outputs": [],
   "source": [
    "# neighborhood\n",
    "all_stations_df.address[0].raw.get('properties').get('locality')"
   ]
  },
  {
   "cell_type": "code",
   "execution_count": null,
   "id": "3c9e8620",
   "metadata": {},
   "outputs": [],
   "source": [
    "# city\n",
    "all_stations_df['address'][0].raw.get('properties').get('city')"
   ]
  },
  {
   "cell_type": "code",
   "execution_count": null,
   "id": "e0e18fe2",
   "metadata": {},
   "outputs": [],
   "source": [
    "all_stations_df['city']          = all_stations_df['address'].apply(lambda x : x.raw.get('properties').get('city'))\n",
    "all_stations_df['neighbourhood'] = all_stations_df['address'].apply(lambda x : x.raw.get('properties').get('locality'))"
   ]
  },
  {
   "cell_type": "code",
   "execution_count": null,
   "id": "54e2d951",
   "metadata": {},
   "outputs": [],
   "source": [
    "all_stations_df.head(5)"
   ]
  },
  {
   "cell_type": "markdown",
   "id": "af5b4340",
   "metadata": {},
   "source": [
    "Check unique values for city & neighborhoods"
   ]
  },
  {
   "cell_type": "code",
   "execution_count": null,
   "id": "a2b26176",
   "metadata": {},
   "outputs": [],
   "source": [
    "set(all_stations_df.city)"
   ]
  },
  {
   "cell_type": "code",
   "execution_count": null,
   "id": "006bebb1",
   "metadata": {
    "scrolled": true
   },
   "outputs": [],
   "source": [
    "set(all_stations_df.neighbourhood)"
   ]
  },
  {
   "cell_type": "markdown",
   "id": "00dceb69",
   "metadata": {},
   "source": [
    "Truncate city name from `San Pedro Tlaquepaque` to `Tlaquepaque`"
   ]
  },
  {
   "cell_type": "code",
   "execution_count": null,
   "id": "947453b2",
   "metadata": {},
   "outputs": [],
   "source": [
    "# Only one item is listed as 'San Pedro Tlaquepaque'\n",
    "sum(all_stations_df['city'] == 'San Pedro Tlaquepaque')"
   ]
  },
  {
   "cell_type": "code",
   "execution_count": null,
   "id": "cc047c01",
   "metadata": {},
   "outputs": [],
   "source": [
    "all_stations_df.loc[all_stations_df['city'] == 'San Pedro Tlaquepaque', 'city'] = 'Tlaquepaque'"
   ]
  },
  {
   "cell_type": "markdown",
   "id": "2bee2e8b",
   "metadata": {},
   "source": [
    "Check for missing data:\n",
    "* Rows with missing neighborhood data are manually corrected."
   ]
  },
  {
   "cell_type": "code",
   "execution_count": null,
   "id": "906c1707",
   "metadata": {},
   "outputs": [],
   "source": [
    "all_stations_df.isnull().values.any()"
   ]
  },
  {
   "cell_type": "code",
   "execution_count": null,
   "id": "7dcf47af",
   "metadata": {
    "scrolled": true
   },
   "outputs": [],
   "source": [
    "all_stations_df.isnull().sum()"
   ]
  },
  {
   "cell_type": "markdown",
   "id": "614d672f",
   "metadata": {},
   "source": [
    "Remove text in parenthesis in name column"
   ]
  },
  {
   "cell_type": "code",
   "execution_count": null,
   "id": "25235203",
   "metadata": {},
   "outputs": [],
   "source": [
    "# take a peek at data\n",
    "all_stations_df.head(5)"
   ]
  },
  {
   "cell_type": "code",
   "execution_count": null,
   "id": "08b90c08",
   "metadata": {},
   "outputs": [],
   "source": [
    "# remove parenthesis\n",
    "all_stations_df['name'] = all_stations_df['name'].str.split(')').str[1]"
   ]
  },
  {
   "cell_type": "code",
   "execution_count": null,
   "id": "34ea7c26",
   "metadata": {},
   "outputs": [],
   "source": [
    "all_stations_df.head()"
   ]
  },
  {
   "cell_type": "markdown",
   "id": "38676b46",
   "metadata": {},
   "source": [
    "Save the modified data frame to the project folder"
   ]
  },
  {
   "cell_type": "code",
   "execution_count": null,
   "id": "f123a4ff",
   "metadata": {},
   "outputs": [],
   "source": [
    "# all_stations_df.to_csv('../../MiBici_Data/nomenclatura_2022_11_updated.csv', index=False, encoding = 'utf-8')"
   ]
  },
  {
   "cell_type": "markdown",
   "id": "8dd7ecf9",
   "metadata": {},
   "source": [
    "## Combine Station/Main Datasets"
   ]
  },
  {
   "cell_type": "markdown",
   "id": "b76438f5",
   "metadata": {},
   "source": [
    "Read in new bike station dataset"
   ]
  },
  {
   "cell_type": "code",
   "execution_count": null,
   "id": "56133aa3",
   "metadata": {},
   "outputs": [],
   "source": [
    "# import edited station location dataset\n",
    "all_stations_new_df = pd.read_csv('../../MiBici_Data/nomenclatura_2022_11_updated.csv', encoding='utf-8')"
   ]
  },
  {
   "cell_type": "code",
   "execution_count": null,
   "id": "48cd86a5",
   "metadata": {},
   "outputs": [],
   "source": [
    "# Check to make sure formatting is OK\n",
    "all_stations_new_df.tail(5)"
   ]
  },
  {
   "cell_type": "markdown",
   "id": "f57f2db4",
   "metadata": {},
   "source": [
    "Loop through each station type (start/end) and merge location data to full dataset"
   ]
  },
  {
   "cell_type": "code",
   "execution_count": null,
   "id": "7a04b0e4",
   "metadata": {},
   "outputs": [],
   "source": [
    "def CombineLocation(full_df, location_df):\n",
    "    \n",
    "    # Set indices of both dataframes for start Locations\n",
    "    full_df.set_index('Start_Station_ID', drop=False, inplace=True) # Set full dataset index to start index\n",
    "    location_df.set_index('id', drop=False, inplace=True)           # Set location dataset index to 'id' index\n",
    "\n",
    "    # Merge location to full dataset\n",
    "    full_df = pd.merge(full_df, location_df.drop(['id', 'obcn', 'location'], axis=1), left_index=True, right_index=True, how='left')\n",
    "\n",
    "    # Rename new columns for start locations \n",
    "    full_df.rename(columns=({'name'          : 'Start_Name',\n",
    "                             'latitude'      : 'Start_Latitude',  \n",
    "                             'longitude'     : 'Start_Longitude',\n",
    "                             'status'        : 'Start_Status',\n",
    "                             'geometry'      : 'Start_Geometry',\n",
    "                             'address'       : 'Start_Address',\n",
    "                             'city'          : 'Start_City',\n",
    "                             'neighbourhood' : 'Start_Neighborhood'}\n",
    "                            ), inplace=True)\n",
    "    \n",
    "    # Set indices of both dataframes for start Locations\n",
    "    full_df.set_index('End_Station_ID', drop=False, inplace=True) # Set full dataset index to start index\n",
    "\n",
    "    # Merge location to full dataset\n",
    "    full_df = pd.merge(full_df, location_df.drop(['id', 'obcn', 'location'], axis=1), left_index=True, right_index=True, how='left')\n",
    "\n",
    "    # Rename new columns for start locations \n",
    "    full_df.rename(columns=({'name'          : 'End_Name',\n",
    "                             'latitude'      : 'End_Latitude',  \n",
    "                             'longitude'     : 'End_Longitude',\n",
    "                             'status'        : 'End_Status',\n",
    "                             'geometry'      : 'End_Geometry',\n",
    "                             'address'       : 'End_Address',\n",
    "                             'city'          : 'End_City',\n",
    "                             'neighbourhood' : 'End_Neighborhood'}\n",
    "                            ), inplace=True)\n",
    "    return full_df\n",
    "    "
   ]
  },
  {
   "cell_type": "code",
   "execution_count": null,
   "id": "2d05c695",
   "metadata": {},
   "outputs": [],
   "source": [
    "# obtain the csv data file names\n",
    "oldPath = \"../../MiBici_Data/FirstCleaning/\"\n",
    "newPath = \"../../MiBici_Data/SecondCleaning/\"\n",
    "files = [os.path.basename(x) for x in glob.glob('../../MiBici_Data/FirstCleaning/*.csv')]\n",
    "\n",
    "# Loop through each file, make changes, save in 'SecondCleaning' folder\n",
    "for file in files:\n",
    "    \n",
    "    df = pd.read_csv(os.path.join(oldPath, file), encoding='utf-8')           # read in file as dataframe\n",
    "    df = CombineLocation(df, all_stations_new_df)                             # add bike station data\n",
    "    df.iloc[:, 1:].to_csv(newPath + file, index=False, encoding = 'utf-8')    # Make a copy of the new formatted file into the 'SecondCleaning' without extrax index column"
   ]
  },
  {
   "cell_type": "markdown",
   "id": "c3819347",
   "metadata": {},
   "source": [
    "# Missing Data"
   ]
  },
  {
   "cell_type": "markdown",
   "id": "3f2f7bbe",
   "metadata": {},
   "source": [
    "Upload data and separate into data frames by year"
   ]
  },
  {
   "cell_type": "code",
   "execution_count": null,
   "id": "06ac989a",
   "metadata": {},
   "outputs": [],
   "source": [
    "# obtain the csv data file names\n",
    "path = \"../../MiBici_Data/SecondCleaning/\"\n",
    "files = [file for file in os.listdir(path) if file.endswith(\".csv\")]"
   ]
  },
  {
   "cell_type": "code",
   "execution_count": null,
   "id": "5c5af669",
   "metadata": {},
   "outputs": [],
   "source": [
    "# Loop through each file, check what year its from, save in appropriate dataframe\n",
    "MiBici2019 = pd.DataFrame()\n",
    "MiBici2020 = pd.DataFrame()\n",
    "\n",
    "for file in files:\n",
    "    if file[15:19] == '2019':\n",
    "        df_temp = pd.read_csv(os.path.join(path, file), encoding='utf-8')\n",
    "        MiBici2019 = pd.concat([MiBici2019, df_temp], axis=0)\n",
    "        \n",
    "    else:\n",
    "        df_temp = pd.read_csv(os.path.join(path, file), encoding='utf-8')\n",
    "        MiBici2020 = pd.concat([MiBici2020, df_temp], axis=0)"
   ]
  },
  {
   "cell_type": "markdown",
   "id": "be7c29f2",
   "metadata": {},
   "source": [
    "Define variables for the 66 datasets to make calculations easier"
   ]
  },
  {
   "cell_type": "code",
   "execution_count": null,
   "id": "eee7f4a1",
   "metadata": {},
   "outputs": [],
   "source": [
    "years_df = [MiBici2019, MiBici2020]\n",
    "years = ['2019', '2020']\n",
    "weekday_name = ['Monday', 'Tuesday', 'Wednesday', 'Thursday', 'Friday', 'Saturday', 'Sunday']"
   ]
  },
  {
   "cell_type": "markdown",
   "id": "b623835b",
   "metadata": {},
   "source": [
    "Check for missing data\n",
    "* Rides with missing Gender & Birth Year data will not be deleted\n",
    "* Rows with missing location-related data, are not missing all the same data"
   ]
  },
  {
   "cell_type": "code",
   "execution_count": null,
   "id": "3fc3758d",
   "metadata": {},
   "outputs": [],
   "source": [
    "pd.concat([MiBici2019.isna().sum(),\n",
    "           MiBici2020.isna().sum(), axis=1)"
   ]
  },
  {
   "cell_type": "markdown",
   "id": "c9e0844c",
   "metadata": {},
   "source": [
    "Further investigate rides with missing location-related data"
   ]
  },
  {
   "cell_type": "code",
   "execution_count": null,
   "id": "909bb061",
   "metadata": {
    "scrolled": true
   },
   "outputs": [],
   "source": [
    "MiBici2019[MiBici2019['End_Latitude'].isna()]"
   ]
  },
  {
   "cell_type": "markdown",
   "id": "b4a44937",
   "metadata": {},
   "source": [
    "# Clean Trip Duration"
   ]
  },
  {
   "cell_type": "markdown",
   "id": "ccb9a22d",
   "metadata": {},
   "source": [
    "Summary Statistics\n",
    "* Each year has trip durations over 100 hrs long\n",
    "* These are likely not true trips (stolen bike, uncorrectly parked, etc.)"
   ]
  },
  {
   "cell_type": "code",
   "execution_count": null,
   "id": "c1c8b8ee",
   "metadata": {},
   "outputs": [],
   "source": [
    "pd.concat([MiBici2019.Duration.describe().apply(lambda x: '%.2f' % x),\n",
    "           MiBici2020.Duration.describe().apply(lambda x: '%.2f' % x)\n",
    "          ], axis=1)"
   ]
  },
  {
   "cell_type": "markdown",
   "id": "6c912ab3",
   "metadata": {},
   "source": [
    "Check the histograms of the trip duration column"
   ]
  },
  {
   "cell_type": "code",
   "execution_count": null,
   "id": "6b259310",
   "metadata": {},
   "outputs": [],
   "source": [
    "# Loop through each dataset and create its plot\n",
    "fig, axs = plt.subplots(ncols=2, figsize=(40, 5), sharey=True)\n",
    "for i in range(len(years)):\n",
    "    sns.histplot(years_df[i]['Duration'], bins=range(0, 200, 1),  ax=axs[i])\n",
    "    axs[i].set_title(years[i])\n",
    "plt.show()"
   ]
  },
  {
   "cell_type": "markdown",
   "id": "c1228290",
   "metadata": {},
   "source": [
    "Check the quantiles of the trip duration column"
   ]
  },
  {
   "cell_type": "code",
   "execution_count": null,
   "id": "1bf8289c",
   "metadata": {},
   "outputs": [],
   "source": [
    "# Calculate the trip duration per year at each quantile\n",
    "quantiles = [.99, .9975, .998, .9985, .999]\n",
    "\n",
    "pd.DataFrame([[round(years_df[i].Duration.quantile(quantiles[n]), 4) for i in range(len(years))] \\\n",
    "              for n in range(len(quantiles))],\n",
    "             columns=years, index = quantiles)"
   ]
  },
  {
   "cell_type": "markdown",
   "id": "b7d1d5e4",
   "metadata": {},
   "source": [
    "Check distribution for rides <= 3 hours (180 minutes)"
   ]
  },
  {
   "cell_type": "code",
   "execution_count": null,
   "id": "97840e05",
   "metadata": {},
   "outputs": [],
   "source": [
    "pd.concat([i.Duration[i.Duration <= 180].describe().apply(lambda x: '%.2f' % x) for i in years_df], axis=1)"
   ]
  },
  {
   "cell_type": "code",
   "execution_count": null,
   "id": "7767ce62",
   "metadata": {},
   "outputs": [],
   "source": [
    "# Loop through each dataset and create its plot\n",
    "fig, axs = plt.subplots(ncols=2, figsize=(40, 5), sharey=True)\n",
    "for i in range(len(years)):\n",
    "    sns.histplot(years_df[i].Duration[years_df[i].Duration <= 180], bins=range(0, 180, 1),  ax=axs[i])\n",
    "    axs[i].set_title(years[i])\n",
    "plt.show()"
   ]
  },
  {
   "cell_type": "markdown",
   "id": "59d011b3",
   "metadata": {},
   "source": [
    "Remove the trips that have a trip duration longer than 3 hours (180 minutes)"
   ]
  },
  {
   "cell_type": "code",
   "execution_count": null,
   "id": "43231831",
   "metadata": {},
   "outputs": [],
   "source": [
    "MiBici2019 = MiBici2019[MiBici2019.Duration <= 180]\n",
    "MiBici2020 = MiBici2020[MiBici2020.Duration <= 180]"
   ]
  },
  {
   "cell_type": "markdown",
   "id": "218153c4",
   "metadata": {},
   "source": [
    "Remove trips with a duration less than 1.5 minutes"
   ]
  },
  {
   "cell_type": "code",
   "execution_count": null,
   "id": "6b2e22d3",
   "metadata": {},
   "outputs": [],
   "source": [
    "MiBici2019 = MiBici2019[MiBici2019.Duration >= 1.5]\n",
    "MiBici2020 = MiBici2020[MiBici2020.Duration >= 1.5]"
   ]
  },
  {
   "cell_type": "markdown",
   "id": "e9fdd98e",
   "metadata": {},
   "source": [
    "New Summary Statistics"
   ]
  },
  {
   "cell_type": "code",
   "execution_count": null,
   "id": "6b3e4c91",
   "metadata": {},
   "outputs": [],
   "source": [
    "pd.concat([MiBici2019.Duration.describe().apply(lambda x: '%.2f' % x),\n",
    "           MiBici2020.Duration.describe().apply(lambda x: '%.2f' % x)\n",
    "          ], axis=1)"
   ]
  },
  {
   "cell_type": "code",
   "execution_count": null,
   "id": "c11cf1af",
   "metadata": {},
   "outputs": [],
   "source": [
    "# Loop through each dataset and create its plot\n",
    "fig, axs = plt.subplots(ncols=2, figsize=(40, 5), sharey=True)\n",
    "for i in range(len(years)):\n",
    "    sns.histplot(years_df[i]['Duration'], bins=range(0,150,1), ax=axs[i])\n",
    "    axs[i].set_title(years[i])\n",
    "plt.show()"
   ]
  },
  {
   "cell_type": "markdown",
   "id": "aaee6a8b",
   "metadata": {},
   "source": [
    "# Explore Data"
   ]
  },
  {
   "cell_type": "markdown",
   "id": "13bc6b22",
   "metadata": {},
   "source": [
    "## Trip Counts"
   ]
  },
  {
   "cell_type": "code",
   "execution_count": null,
   "id": "25dc43d6",
   "metadata": {},
   "outputs": [],
   "source": [
    "tripCount_df = pd.DataFrame([len(MiBici2019),\n",
    "                             len(MiBici2020)],\n",
    "                            columns=['Count'],\n",
    "           index=years)\n",
    "tripCount_df"
   ]
  },
  {
   "cell_type": "code",
   "execution_count": null,
   "id": "93082b50",
   "metadata": {},
   "outputs": [],
   "source": [
    "plt.bar(tripCount_df.index, tripCount_df.Count)\n",
    "plt.show()"
   ]
  },
  {
   "cell_type": "code",
   "execution_count": null,
   "id": "356b60c4",
   "metadata": {},
   "outputs": [],
   "source": [
    "pd.DataFrame([years_df[i].groupby([\"Start_City\"]).size().apply(lambda x: '%.0f' % x) \\\n",
    "              for i in range(len(years)) \n",
    "             ], index=years)"
   ]
  },
  {
   "cell_type": "code",
   "execution_count": null,
   "id": "bc133280",
   "metadata": {},
   "outputs": [],
   "source": [
    "pd.DataFrame([years_df[i].groupby([\"Start_City\"]).size().apply(lambda x: '%.0f' % x) \\\n",
    "              for i in range(len(years)) \n",
    "             ], index=years).astype(int).plot()"
   ]
  },
  {
   "cell_type": "markdown",
   "id": "d487142f",
   "metadata": {},
   "source": [
    "## Gender"
   ]
  },
  {
   "cell_type": "code",
   "execution_count": null,
   "id": "1f7e9f65",
   "metadata": {},
   "outputs": [],
   "source": [
    "# Statistics\n",
    "pd.DataFrame([years_df[i].Gender.astype('category').describe(include='category') \\\n",
    "              for i in range(len(years)) \n",
    "             ], index=years)"
   ]
  },
  {
   "cell_type": "code",
   "execution_count": null,
   "id": "2d6881ac",
   "metadata": {},
   "outputs": [],
   "source": [
    "# Loop through each dataset and create its plot\n",
    "fig, axs = plt.subplots(ncols=2, figsize=(15, 3), sharey=True)\n",
    "for i in range(len(years)):\n",
    "    sns.countplot(x = 'Gender', data = years_df[i], ax=axs[i])\n",
    "    axs[i].set_title(years[i])\n",
    "plt.show()"
   ]
  },
  {
   "cell_type": "markdown",
   "id": "3113c509",
   "metadata": {},
   "source": [
    "## Birth Year"
   ]
  },
  {
   "cell_type": "markdown",
   "id": "990e32c6",
   "metadata": {},
   "source": [
    "Statistics"
   ]
  },
  {
   "cell_type": "code",
   "execution_count": null,
   "id": "7a129212",
   "metadata": {},
   "outputs": [],
   "source": [
    "pd.DataFrame([years_df[i].Birth_Year.describe().apply(lambda x: '%.0f' % x) \\\n",
    "              for i in range(len(years)) \n",
    "             ], index=years)"
   ]
  },
  {
   "cell_type": "markdown",
   "id": "1d02739a",
   "metadata": {},
   "source": [
    "## Age"
   ]
  },
  {
   "cell_type": "markdown",
   "id": "5e1869ff",
   "metadata": {},
   "source": [
    "Calculate age from birth year"
   ]
  },
  {
   "cell_type": "code",
   "execution_count": null,
   "id": "c4c102e4",
   "metadata": {},
   "outputs": [],
   "source": [
    "for i in range(len(years)):\n",
    "    years_df[i]['Age'] = int(years[i]) - years_df[i].Birth_Year"
   ]
  },
  {
   "cell_type": "code",
   "execution_count": null,
   "id": "8166448f",
   "metadata": {},
   "outputs": [],
   "source": [
    "# Move age column next to birth year column\n",
    "for yr in years_df:\n",
    "    column_to_move = yr.pop(\"Age\")\n",
    "    yr.insert(4, \"Age\", column_to_move)"
   ]
  },
  {
   "cell_type": "markdown",
   "id": "0c35791f",
   "metadata": {},
   "source": [
    "Age stats:\n",
    "* The most common rider age (mode) was 27, 26, 25, 26, 27 years respectively\n",
    "* The mean ages are betwwn 32-34 years\n",
    "* Median age is between 29-31 years"
   ]
  },
  {
   "cell_type": "code",
   "execution_count": null,
   "id": "074a6700",
   "metadata": {},
   "outputs": [],
   "source": [
    "# stats as integers\n",
    "pd.DataFrame([years_df[i].Age.describe().apply(lambda x: '%.0f' % x) \\\n",
    "              for i in range(len(years)) \n",
    "             ], index=years)"
   ]
  },
  {
   "cell_type": "code",
   "execution_count": null,
   "id": "df40858d",
   "metadata": {},
   "outputs": [],
   "source": [
    "# stats as categories\n",
    "pd.DataFrame([years_df[i].Age.astype('category').describe(include='category').apply(lambda x: '%.0f' % x) \\\n",
    "              for i in range(len(years)) \n",
    "             ], index=years)"
   ]
  },
  {
   "cell_type": "markdown",
   "id": "b18d1a1a",
   "metadata": {},
   "source": [
    "Categorize ages into bins"
   ]
  },
  {
   "cell_type": "code",
   "execution_count": null,
   "id": "7d3b6b18",
   "metadata": {},
   "outputs": [],
   "source": [
    "for i in range(len(years)):\n",
    "    years_df[i]['Age_category'] = pd.cut(years_df[i]['Age'], \n",
    "                                         bins = [0,20,30,40,50,60,70,80,200], \n",
    "                                         labels = [\"<20\", \"20s\", \"30s\", \"40s\", \"50s\", \"60s\", \"70s\", \"80+\"], \n",
    "                                         include_lowest=True)"
   ]
  },
  {
   "cell_type": "markdown",
   "id": "ba718bb8",
   "metadata": {},
   "source": [
    "Statistics & Plot"
   ]
  },
  {
   "cell_type": "code",
   "execution_count": null,
   "id": "5ab426c8",
   "metadata": {},
   "outputs": [],
   "source": [
    "pd.DataFrame([years_df[i].Age_category.describe() \\\n",
    "              for i in range(len(years)) \n",
    "             ], index=years)"
   ]
  },
  {
   "cell_type": "code",
   "execution_count": null,
   "id": "5c13a54c",
   "metadata": {},
   "outputs": [],
   "source": [
    "# Move age column next to borth year column\n",
    "fig, axs = plt.subplots(ncols=6, figsize=(20, 3), sharey=True)\n",
    "for i in range(len(years)):\n",
    "    sns.countplot(x=\"Age_category\", data=years_df[i], ax=axs[i])\n",
    "    axs[i].set_title(years[i])\n",
    "plt.show()"
   ]
  },
  {
   "cell_type": "markdown",
   "id": "4efc5722",
   "metadata": {},
   "source": [
    "## Age by Gender"
   ]
  },
  {
   "cell_type": "code",
   "execution_count": null,
   "id": "e4207a09",
   "metadata": {},
   "outputs": [],
   "source": [
    "fig, axs = plt.subplots(ncols=2, figsize=(20, 5), sharey=True)\n",
    "for i in range(len(years)):\n",
    "    sns.boxplot(x=\"Gender\", y=\"Age\",  data=years_df[i], ax=axs[i])\n",
    "    axs[i].set_title(years[i])\n",
    "plt.show()"
   ]
  },
  {
   "cell_type": "markdown",
   "id": "43931018",
   "metadata": {},
   "source": [
    "## Day of the Week"
   ]
  },
  {
   "cell_type": "markdown",
   "id": "1a392955",
   "metadata": {},
   "source": [
    "Most popular day to use the system (Monday-Wednesday)"
   ]
  },
  {
   "cell_type": "code",
   "execution_count": null,
   "id": "94889fd7",
   "metadata": {},
   "outputs": [],
   "source": [
    "# 1 = Monday -> 7 = Sunday\n",
    "weekday_name = ['Monday', 'Tuesday', 'Wednesday', 'Thursday', 'Friday', 'Saturday', 'Sunday']\n",
    "\n",
    "fig, axs = plt.subplots(ncols=2, figsize=(35, 3), sharey=True)\n",
    "for i in range(len(years)):\n",
    "    sns.countplot(x=\"Start_Weekday\", data=years_df[i], ax=axs[i])\n",
    "    axs[i].set_title(years[i])\n",
    "\n",
    "fig.tight_layout()\n",
    "plt.show()"
   ]
  },
  {
   "cell_type": "markdown",
   "id": "325906d4",
   "metadata": {},
   "source": [
    "Most popular hour to use the system \n",
    "* 8AM and 6 PM (rush hour: commuting times)\n",
    "* 2PM (perhaps when school ends)"
   ]
  },
  {
   "cell_type": "code",
   "execution_count": null,
   "id": "2d9d2f99",
   "metadata": {},
   "outputs": [],
   "source": [
    "fig, axs = plt.subplots(ncols=2, figsize=(35, 3), sharey=True)\n",
    "for i in range(len(years)):\n",
    "    sns.countplot(x=\"Start_Hour\", data=years_df[i], ax=axs[i])\n",
    "    axs[i].set_title(years[i])\n",
    "plt.show()"
   ]
  },
  {
   "cell_type": "markdown",
   "id": "cfc73cef",
   "metadata": {},
   "source": [
    "Hour distribution by day of the week"
   ]
  },
  {
   "cell_type": "code",
   "execution_count": null,
   "id": "61033db9",
   "metadata": {},
   "outputs": [],
   "source": [
    "fig, axs = plt.subplots(nrows=7, ncols=2, figsize=(35, 25), sharex=True, sharey=False)\n",
    "for i in range(len(years)):\n",
    "    for j in range(len(weekday_name)):        \n",
    "        sns.countplot(x=\"Start_Hour\", \n",
    "                      data=years_df[i][years_df[i].Start_Weekday == weekday_name[j]], \n",
    "                      ax=axs[j,i])\n",
    "        axs[j,i].set_title(weekday_name[j]+' ('+years[i]+')')\n",
    "\n",
    "fig.tight_layout()\n",
    "plt.show()"
   ]
  },
  {
   "cell_type": "markdown",
   "id": "2258168f",
   "metadata": {},
   "source": [
    "Trip duration by day of the week"
   ]
  },
  {
   "cell_type": "code",
   "execution_count": null,
   "id": "59ec0d66",
   "metadata": {},
   "outputs": [],
   "source": [
    "# annual mean by week day\n",
    "pd.DataFrame([[years_df[i][years_df[i]['Start_Weekday'] == weekday_name[j]]['Duration'].mean() for i in range(len(years))] \\\n",
    "              for j in range(len(weekday_name))],\n",
    "             columns=years, index = weekday_name).round(2)"
   ]
  },
  {
   "cell_type": "code",
   "execution_count": null,
   "id": "8b6939dd",
   "metadata": {},
   "outputs": [],
   "source": [
    "# annual median by week day\n",
    "pd.DataFrame([[years_df[i][years_df[i]['Start_Weekday'] == weekday_name[j]]['Duration'].median() for i in range(len(years))] \\\n",
    "              for j in range(len(weekday_name))],\n",
    "             columns=years, index = weekday_name).round(2)"
   ]
  },
  {
   "cell_type": "markdown",
   "id": "3e9c4aad",
   "metadata": {},
   "source": [
    "## Bike Stations"
   ]
  },
  {
   "cell_type": "markdown",
   "id": "93d1afd6",
   "metadata": {},
   "source": [
    "### Start Stations"
   ]
  },
  {
   "cell_type": "markdown",
   "id": "34f4cb5b",
   "metadata": {},
   "source": [
    "Create a table of the most popular starting stations and the most popular neighborhoods to start a trip"
   ]
  },
  {
   "cell_type": "code",
   "execution_count": null,
   "id": "285af105",
   "metadata": {},
   "outputs": [],
   "source": [
    "pd.concat([\n",
    "MiBici2019.groupby([\"Start_Name\"]).size().reset_index(name = \"Count\").sort_values(\"Count\", ascending = False).reset_index(drop=True).head(15),\n",
    "MiBici2019.groupby([\"Start_Neighborhood\"]).size().reset_index(name = \"Count\").sort_values(\"Count\", ascending = False).reset_index(drop=True).head(15)\n",
    "], axis=1)"
   ]
  },
  {
   "cell_type": "markdown",
   "id": "d2ff4fd8",
   "metadata": {},
   "source": [
    "### End Stations"
   ]
  },
  {
   "cell_type": "markdown",
   "id": "74f784c9",
   "metadata": {},
   "source": [
    "Create a table of the most popular ending stations and neighborhoods"
   ]
  },
  {
   "cell_type": "code",
   "execution_count": null,
   "id": "8720fec4",
   "metadata": {},
   "outputs": [],
   "source": [
    "pd.concat([\n",
    "MiBici2019.groupby([\"End_Name\"]).size().reset_index(name = \"Count\").sort_values(\"Count\", ascending = False).reset_index(drop=True).head(15),\n",
    "MiBici2019.groupby([\"End_Neighborhood\"]).size().reset_index(name = \"Count\").sort_values(\"Count\", ascending = False).reset_index(drop=True).head(15)\n",
    "], axis=1)"
   ]
  },
  {
   "cell_type": "markdown",
   "id": "4debb838",
   "metadata": {},
   "source": [
    "### Most Popular Routes"
   ]
  },
  {
   "cell_type": "markdown",
   "id": "2173f532",
   "metadata": {},
   "source": [
    "Create dropdown table to see most popular routes per year"
   ]
  },
  {
   "cell_type": "code",
   "execution_count": null,
   "id": "fb84235c",
   "metadata": {},
   "outputs": [],
   "source": [
    "MiBici2019.groupby([\"Start_Name\",\"End_Name\"]).size().reset_index(name = \"Number of Trips\").sort_values(\"Number of Trips\", ascending = False).reset_index(drop=True).head(15)"
   ]
  },
  {
   "cell_type": "markdown",
   "id": "1fa07006",
   "metadata": {},
   "source": [
    "# Combine & Export Annual Data"
   ]
  },
  {
   "cell_type": "markdown",
   "id": "4fa57a93",
   "metadata": {},
   "source": [
    "The data is exported so that one can come back and conduct analyses during another session."
   ]
  },
  {
   "cell_type": "code",
   "execution_count": null,
   "id": "c1d6c375",
   "metadata": {},
   "outputs": [],
   "source": [
    "# export data\n",
    "# MiBici2019.to_csv('../../MiBici_Data/MiBici2019.csv', index=False, encoding = 'utf-8')\n",
    "# MiBici2020.to_csv('../../MiBici_Data/MiBici2020.csv', index=False, encoding = 'utf-8')"
   ]
  },
  {
   "cell_type": "markdown",
   "id": "1273c258",
   "metadata": {},
   "source": [
    "Import data to conduct additional analyses."
   ]
  },
  {
   "cell_type": "code",
   "execution_count": 44,
   "id": "cbb8ed92",
   "metadata": {},
   "outputs": [],
   "source": [
    "# import data\n",
    "MiBici2019 = pd.read_csv('../../MiBici_Data/MiBici2019.csv', encoding='utf-8')\n",
    "MiBici2020 = pd.read_csv('../../MiBici_Data/MiBici2020.csv', encoding='utf-8')"
   ]
  },
  {
   "cell_type": "code",
   "execution_count": 46,
   "id": "c8f0e6de",
   "metadata": {},
   "outputs": [],
   "source": [
    "# sort data into lists to make it easier to loop through and conduct analyses\n",
    "years_df = [MiBici2019, MiBici2020]\n",
    "years = ['2019', '2020']\n",
    "weekday_name = ['Monday', 'Tuesday', 'Wednesday', 'Thursday', 'Friday', 'Saturday', 'Sunday']"
   ]
  },
  {
   "cell_type": "markdown",
   "id": "deefcd7f",
   "metadata": {},
   "source": [
    "# Research Questions"
   ]
  },
  {
   "cell_type": "markdown",
   "id": "fa8631e7",
   "metadata": {},
   "source": [
    "The goal of this section is to create smaller datasets that answer each research question"
   ]
  },
  {
   "cell_type": "markdown",
   "id": "a0c5d7c5",
   "metadata": {},
   "source": [
    "## 0) Summary Statistics"
   ]
  },
  {
   "cell_type": "markdown",
   "id": "02609a89",
   "metadata": {},
   "source": [
    "This section arranges the MiBici dataframes to answer the following questions:\n",
    "* The # of trips that start in each municpality\n",
    "* The # of stations in each municpality\n",
    "* The average trip duration by municpality\n",
    "* Annual number of trips taken by municipality **(see Q1: Daily Trip Count)**\n",
    "* The average # of trips taken per hour of day **(see Q3: Avg Workweek vs Weekend)**\n",
    "* The # trips that start/end at each station **(see Q4: Station Popularity)**\n"
   ]
  },
  {
   "cell_type": "markdown",
   "id": "77b52d3d",
   "metadata": {},
   "source": [
    "### Number of Trips"
   ]
  },
  {
   "cell_type": "code",
   "execution_count": 47,
   "id": "499cea0b",
   "metadata": {},
   "outputs": [
    {
     "data": {
      "text/plain": [
       "Start_City\n",
       "Guadalajara    6714904\n",
       "Tlaquepaque     120351\n",
       "Zapopan         414654\n",
       "dtype: int64"
      ]
     },
     "execution_count": 47,
     "metadata": {},
     "output_type": "execute_result"
    }
   ],
   "source": [
    "num_trips_region = \\\n",
    "pd.DataFrame([i.groupby([\"Start_City\"]).size() for i in years_df], index=years).T.sum(axis=1)\n",
    "num_trips_region"
   ]
  },
  {
   "cell_type": "code",
   "execution_count": 48,
   "id": "88c6c5d8",
   "metadata": {},
   "outputs": [
    {
     "ename": "NameError",
     "evalue": "name 'start_day' is not defined",
     "output_type": "error",
     "traceback": [
      "\u001b[1;31m---------------------------------------------------------------------------\u001b[0m",
      "\u001b[1;31mNameError\u001b[0m                                 Traceback (most recent call last)",
      "Input \u001b[1;32mIn [48]\u001b[0m, in \u001b[0;36m<cell line: 1>\u001b[1;34m()\u001b[0m\n\u001b[1;32m----> 1\u001b[0m pd\u001b[38;5;241m.\u001b[39mconcat([years_df[i][[\u001b[38;5;124m'\u001b[39m\u001b[38;5;124mStart_Time\u001b[39m\u001b[38;5;124m'\u001b[39m, \u001b[38;5;124m'\u001b[39m\u001b[38;5;124mStart_Month\u001b[39m\u001b[38;5;124m'\u001b[39m, \u001b[38;5;124m'\u001b[39m\u001b[38;5;124mStart_City\u001b[39m\u001b[38;5;124m'\u001b[39m, \u001b[38;5;124m'\u001b[39m\u001b[38;5;124mDuration\u001b[39m\u001b[38;5;124m'\u001b[39m, \u001b[38;5;124m'\u001b[39m\u001b[38;5;124mAge_category\u001b[39m\u001b[38;5;124m'\u001b[39m]][pd\u001b[38;5;241m.\u001b[39mto_datetime(years_df[i][\u001b[38;5;124m'\u001b[39m\u001b[38;5;124mStart_Time\u001b[39m\u001b[38;5;124m'\u001b[39m])\u001b[38;5;241m.\u001b[39mbetween(start_day[i], end_day[i])] \u001b[38;5;28;01mfor\u001b[39;00m i \u001b[38;5;129;01min\u001b[39;00m \u001b[38;5;28mrange\u001b[39m(\u001b[38;5;28mlen\u001b[39m(years))])\n",
      "Input \u001b[1;32mIn [48]\u001b[0m, in \u001b[0;36m<listcomp>\u001b[1;34m(.0)\u001b[0m\n\u001b[1;32m----> 1\u001b[0m pd\u001b[38;5;241m.\u001b[39mconcat([years_df[i][[\u001b[38;5;124m'\u001b[39m\u001b[38;5;124mStart_Time\u001b[39m\u001b[38;5;124m'\u001b[39m, \u001b[38;5;124m'\u001b[39m\u001b[38;5;124mStart_Month\u001b[39m\u001b[38;5;124m'\u001b[39m, \u001b[38;5;124m'\u001b[39m\u001b[38;5;124mStart_City\u001b[39m\u001b[38;5;124m'\u001b[39m, \u001b[38;5;124m'\u001b[39m\u001b[38;5;124mDuration\u001b[39m\u001b[38;5;124m'\u001b[39m, \u001b[38;5;124m'\u001b[39m\u001b[38;5;124mAge_category\u001b[39m\u001b[38;5;124m'\u001b[39m]][pd\u001b[38;5;241m.\u001b[39mto_datetime(years_df[i][\u001b[38;5;124m'\u001b[39m\u001b[38;5;124mStart_Time\u001b[39m\u001b[38;5;124m'\u001b[39m])\u001b[38;5;241m.\u001b[39mbetween(\u001b[43mstart_day\u001b[49m[i], end_day[i])] \u001b[38;5;28;01mfor\u001b[39;00m i \u001b[38;5;129;01min\u001b[39;00m \u001b[38;5;28mrange\u001b[39m(\u001b[38;5;28mlen\u001b[39m(years))])\n",
      "\u001b[1;31mNameError\u001b[0m: name 'start_day' is not defined"
     ]
    }
   ],
   "source": [
    "pd.concat([years_df[i][['Start_Time', 'Start_Month', 'Start_City', 'Duration', 'Age_category']][pd.to_datetime(years_df[i]['Start_Time']).between(start_day[i], end_day[i])] for i in range(len(years))])"
   ]
  },
  {
   "cell_type": "markdown",
   "id": "6105b5e0",
   "metadata": {},
   "source": [
    "### Number of Stations"
   ]
  },
  {
   "cell_type": "code",
   "execution_count": null,
   "id": "c0c05d96",
   "metadata": {},
   "outputs": [],
   "source": [
    "# station location dataset\n",
    "all_stations_new_df = pd.read_csv('../../MiBici_Data/nomenclatura_2022_11_updated.csv', encoding='utf-8')"
   ]
  },
  {
   "cell_type": "code",
   "execution_count": null,
   "id": "a6245d3c",
   "metadata": {
    "scrolled": true
   },
   "outputs": [],
   "source": [
    "# obtain count of rows by municipality\n",
    "num_stations_region = \\\n",
    "all_stations_new_df.groupby(['city']).size()\n",
    "num_stations_region"
   ]
  },
  {
   "cell_type": "markdown",
   "id": "cf1bea66",
   "metadata": {},
   "source": [
    "### Avg Trip Dur "
   ]
  },
  {
   "cell_type": "markdown",
   "id": "0d7b814e",
   "metadata": {},
   "source": [
    "Concatenate the trip durations across all MiBici datasets into one dataframe, group durations by municipality, then take the mean of each group"
   ]
  },
  {
   "cell_type": "code",
   "execution_count": null,
   "id": "04ad01a2",
   "metadata": {},
   "outputs": [],
   "source": [
    "avg_tripdur_region = \\\n",
    "pd.concat([i[['Start_City', 'Duration']] for i in years_df], axis=0).groupby(['Start_City'])['Duration'].mean()\n",
    "avg_tripdur_region"
   ]
  },
  {
   "cell_type": "code",
   "execution_count": null,
   "id": "f6162465",
   "metadata": {},
   "outputs": [],
   "source": [
    "pd.concat([i['Duration'] for i in years_df], axis=0).mean()"
   ]
  },
  {
   "cell_type": "markdown",
   "id": "450f05ec",
   "metadata": {},
   "source": [
    "### Combine Data & Export"
   ]
  },
  {
   "cell_type": "code",
   "execution_count": null,
   "id": "74124a52",
   "metadata": {},
   "outputs": [],
   "source": [
    "# combine three datasets above\n",
    "counts_df = \\\n",
    "pd.concat([pd.DataFrame(num_trips_region).reset_index(drop=False),\n",
    "           pd.DataFrame(num_stations_region).reset_index(drop=True),\n",
    "           pd.DataFrame(avg_tripdur_region).reset_index(drop=True)\n",
    "          ], axis=1)"
   ]
  },
  {
   "cell_type": "code",
   "execution_count": null,
   "id": "d90dbfce",
   "metadata": {},
   "outputs": [],
   "source": [
    "# change columns\n",
    "counts_df.columns = ['Region', 'Trips', 'Stations', 'Duration']"
   ]
  },
  {
   "cell_type": "code",
   "execution_count": null,
   "id": "e0a7acf3",
   "metadata": {},
   "outputs": [],
   "source": [
    "# add row with totals across regions\n",
    "counts_df.loc[3,:] = counts_df.sum(axis=0)"
   ]
  },
  {
   "cell_type": "code",
   "execution_count": null,
   "id": "577a6e5c",
   "metadata": {},
   "outputs": [],
   "source": [
    "counts_df"
   ]
  },
  {
   "cell_type": "code",
   "execution_count": null,
   "id": "d0e870ae",
   "metadata": {},
   "outputs": [],
   "source": [
    "# change last entry (row 3) for region and Duration (calculate mean dur across all datasets)\n",
    "counts_df.iloc[3,0] = 'Total'\n",
    "counts_df.iloc[3,3]  = pd.concat([i['Duration'] for i in years_df], axis=0).mean()"
   ]
  },
  {
   "cell_type": "code",
   "execution_count": null,
   "id": "95a89344",
   "metadata": {},
   "outputs": [],
   "source": [
    "counts_df"
   ]
  },
  {
   "cell_type": "code",
   "execution_count": null,
   "id": "8a17b925",
   "metadata": {},
   "outputs": [],
   "source": [
    "counts_df.to_csv('../../MiBici_Data/Tableau_Datasets/Summary_Statistics/counts.csv', index=False, encoding = 'utf-8')"
   ]
  },
  {
   "cell_type": "markdown",
   "id": "cd3843f6",
   "metadata": {},
   "source": [
    "### Station Popularity"
   ]
  },
  {
   "cell_type": "markdown",
   "id": "861e9dd9",
   "metadata": {},
   "source": [
    "Number of trips starting and ending at each station is calculated for each year (also municipalities counts are calculated)"
   ]
  },
  {
   "cell_type": "markdown",
   "id": "4a4b78f4",
   "metadata": {},
   "source": [
    "Create separate start & end station dataframes that contain the number of trips that start/end at each station"
   ]
  },
  {
   "cell_type": "code",
   "execution_count": null,
   "id": "89c6938e",
   "metadata": {},
   "outputs": [],
   "source": [
    "start_count_df = pd.DataFrame([i.groupby(['Start_City', 'Start_Name']).size() for i in years_df], index=years).T\n",
    "end_count_df   = pd.DataFrame([i.groupby(['End_City', 'End_Name']).size()   for i in years_df], index=years).T"
   ]
  },
  {
   "cell_type": "markdown",
   "id": "5c3ac213",
   "metadata": {},
   "source": [
    "Create column for total trips over all years"
   ]
  },
  {
   "cell_type": "code",
   "execution_count": null,
   "id": "1173fcb0",
   "metadata": {},
   "outputs": [],
   "source": [
    "start_count_df['Start_Count'] = start_count_df.sum(axis=1)\n",
    "end_count_df['End_Count']     = end_count_df.sum(axis=1)"
   ]
  },
  {
   "cell_type": "markdown",
   "id": "9076b285",
   "metadata": {},
   "source": [
    "Reset the index so that station names are a column"
   ]
  },
  {
   "cell_type": "code",
   "execution_count": null,
   "id": "ae3bbc44",
   "metadata": {},
   "outputs": [],
   "source": [
    "start_count_df.reset_index(drop=False, inplace=True)\n",
    "end_count_df.reset_index(drop=False, inplace=True)"
   ]
  },
  {
   "cell_type": "markdown",
   "id": "428b7a01",
   "metadata": {},
   "source": [
    "Rename station name column headers"
   ]
  },
  {
   "cell_type": "code",
   "execution_count": null,
   "id": "8bb671a4",
   "metadata": {},
   "outputs": [],
   "source": [
    "start_count_df.rename(columns={'Start_Name': 'Name'}, inplace=True)\n",
    "end_count_df.rename(columns={'End_Name': 'Name'}, inplace=True)\n",
    "\n",
    "start_count_df.rename(columns={'Start_City': 'City'}, inplace=True)\n",
    "end_count_df.rename(columns={'End_City': 'City'}, inplace=True)"
   ]
  },
  {
   "cell_type": "markdown",
   "id": "67d86ec6",
   "metadata": {},
   "source": [
    "Drop all columns except station name, city, and count"
   ]
  },
  {
   "cell_type": "code",
   "execution_count": null,
   "id": "c179c1bd",
   "metadata": {},
   "outputs": [],
   "source": [
    "start_count_df.drop(years, axis=1, inplace=True)\n",
    "end_count_df.drop(years, axis=1, inplace=True)\n",
    "end_count_df.drop(['City'], axis=1, inplace=True)"
   ]
  },
  {
   "cell_type": "markdown",
   "id": "0a9cfee5",
   "metadata": {},
   "source": [
    "Merge dataframes side-by-side by station name column"
   ]
  },
  {
   "cell_type": "code",
   "execution_count": null,
   "id": "70c04c54",
   "metadata": {},
   "outputs": [],
   "source": [
    "full_station_count_df = pd.merge(start_count_df, end_count_df, on = 'Name', how='outer')"
   ]
  },
  {
   "cell_type": "code",
   "execution_count": null,
   "id": "049a7e4e",
   "metadata": {},
   "outputs": [],
   "source": [
    "full_station_count_df"
   ]
  },
  {
   "cell_type": "markdown",
   "id": "527b36af",
   "metadata": {},
   "source": [
    "Export dataframe"
   ]
  },
  {
   "cell_type": "code",
   "execution_count": null,
   "id": "516810de",
   "metadata": {},
   "outputs": [],
   "source": [
    "# full_station_count_df.to_csv('../../MiBici_Data/Tableau_Datasets/Summary_Statistics/Station_Popularity.csv', index=False, encoding = 'utf-8')"
   ]
  },
  {
   "cell_type": "markdown",
   "id": "0c12e45d",
   "metadata": {},
   "source": [
    "## 1) Trips vs COVID"
   ]
  },
  {
   "cell_type": "markdown",
   "id": "b6af5bd6",
   "metadata": {},
   "source": [
    "### Weather Data"
   ]
  },
  {
   "cell_type": "markdown",
   "id": "658c9d83",
   "metadata": {},
   "source": [
    "**NOAA/NCEI U.S. Climate Division Data:**\n",
    "\n",
    "[Climate Data Online](https://www.ncei.noaa.gov/cdo-web/) provides free access to the National Climatic Data Center's archive of global historical weather and climate data in addition to station history information. These data include quality controlled daily, monthly, seasonal, and yearly measurements of temperature, precipitation, wind, and degree days as well as radar data and 30-year Climate Normals."
   ]
  },
  {
   "cell_type": "code",
   "execution_count": 49,
   "id": "8f452931",
   "metadata": {},
   "outputs": [],
   "source": [
    "weather_df = pd.read_csv('../../MiBici_Data/Weather/NOAA_NCEI_Climate_1Jan2017_30Nov2022.csv', encoding='utf-8')"
   ]
  },
  {
   "cell_type": "markdown",
   "id": "a1ae6594",
   "metadata": {},
   "source": [
    "Clean up dataframe"
   ]
  },
  {
   "cell_type": "code",
   "execution_count": 50,
   "id": "6e4a88ce",
   "metadata": {},
   "outputs": [],
   "source": [
    "# Drop uneeded columns\n",
    "weather_df = weather_df.drop(['STATION', 'NAME'], axis=1)\n",
    "\n",
    "# rename other columns\n",
    "weather_df.rename(columns={'DATE': 'Date'}, inplace=True)\n",
    "\n",
    "# Convert Date column to datetime variable\n",
    "weather_df.Date = pd.to_datetime(weather_df.Date)"
   ]
  },
  {
   "cell_type": "code",
   "execution_count": 51,
   "id": "6fbb0222",
   "metadata": {},
   "outputs": [
    {
     "data": {
      "text/html": [
       "<div>\n",
       "<style scoped>\n",
       "    .dataframe tbody tr th:only-of-type {\n",
       "        vertical-align: middle;\n",
       "    }\n",
       "\n",
       "    .dataframe tbody tr th {\n",
       "        vertical-align: top;\n",
       "    }\n",
       "\n",
       "    .dataframe thead th {\n",
       "        text-align: right;\n",
       "    }\n",
       "</style>\n",
       "<table border=\"1\" class=\"dataframe\">\n",
       "  <thead>\n",
       "    <tr style=\"text-align: right;\">\n",
       "      <th></th>\n",
       "      <th>Date</th>\n",
       "      <th>PRCP</th>\n",
       "      <th>TAVG</th>\n",
       "      <th>TMAX</th>\n",
       "      <th>TMIN</th>\n",
       "    </tr>\n",
       "  </thead>\n",
       "  <tbody>\n",
       "    <tr>\n",
       "      <th>0</th>\n",
       "      <td>2017-01-03</td>\n",
       "      <td>0.0</td>\n",
       "      <td>69</td>\n",
       "      <td>NaN</td>\n",
       "      <td>NaN</td>\n",
       "    </tr>\n",
       "    <tr>\n",
       "      <th>1</th>\n",
       "      <td>2017-01-04</td>\n",
       "      <td>0.0</td>\n",
       "      <td>61</td>\n",
       "      <td>82.0</td>\n",
       "      <td>45.0</td>\n",
       "    </tr>\n",
       "    <tr>\n",
       "      <th>2</th>\n",
       "      <td>2017-01-10</td>\n",
       "      <td>0.0</td>\n",
       "      <td>57</td>\n",
       "      <td>76.0</td>\n",
       "      <td>39.0</td>\n",
       "    </tr>\n",
       "    <tr>\n",
       "      <th>3</th>\n",
       "      <td>2017-01-11</td>\n",
       "      <td>0.0</td>\n",
       "      <td>56</td>\n",
       "      <td>NaN</td>\n",
       "      <td>NaN</td>\n",
       "    </tr>\n",
       "    <tr>\n",
       "      <th>4</th>\n",
       "      <td>2017-01-12</td>\n",
       "      <td>0.0</td>\n",
       "      <td>60</td>\n",
       "      <td>80.0</td>\n",
       "      <td>40.0</td>\n",
       "    </tr>\n",
       "    <tr>\n",
       "      <th>...</th>\n",
       "      <td>...</td>\n",
       "      <td>...</td>\n",
       "      <td>...</td>\n",
       "      <td>...</td>\n",
       "      <td>...</td>\n",
       "    </tr>\n",
       "    <tr>\n",
       "      <th>1934</th>\n",
       "      <td>2022-11-26</td>\n",
       "      <td>0.0</td>\n",
       "      <td>65</td>\n",
       "      <td>81.0</td>\n",
       "      <td>51.0</td>\n",
       "    </tr>\n",
       "    <tr>\n",
       "      <th>1935</th>\n",
       "      <td>2022-11-27</td>\n",
       "      <td>0.0</td>\n",
       "      <td>65</td>\n",
       "      <td>81.0</td>\n",
       "      <td>48.0</td>\n",
       "    </tr>\n",
       "    <tr>\n",
       "      <th>1936</th>\n",
       "      <td>2022-11-28</td>\n",
       "      <td>0.0</td>\n",
       "      <td>67</td>\n",
       "      <td>81.0</td>\n",
       "      <td>48.0</td>\n",
       "    </tr>\n",
       "    <tr>\n",
       "      <th>1937</th>\n",
       "      <td>2022-11-29</td>\n",
       "      <td>0.0</td>\n",
       "      <td>65</td>\n",
       "      <td>83.0</td>\n",
       "      <td>48.0</td>\n",
       "    </tr>\n",
       "    <tr>\n",
       "      <th>1938</th>\n",
       "      <td>2022-11-30</td>\n",
       "      <td>0.0</td>\n",
       "      <td>65</td>\n",
       "      <td>82.0</td>\n",
       "      <td>47.0</td>\n",
       "    </tr>\n",
       "  </tbody>\n",
       "</table>\n",
       "<p>1939 rows × 5 columns</p>\n",
       "</div>"
      ],
      "text/plain": [
       "           Date  PRCP  TAVG  TMAX  TMIN\n",
       "0    2017-01-03   0.0    69   NaN   NaN\n",
       "1    2017-01-04   0.0    61  82.0  45.0\n",
       "2    2017-01-10   0.0    57  76.0  39.0\n",
       "3    2017-01-11   0.0    56   NaN   NaN\n",
       "4    2017-01-12   0.0    60  80.0  40.0\n",
       "...         ...   ...   ...   ...   ...\n",
       "1934 2022-11-26   0.0    65  81.0  51.0\n",
       "1935 2022-11-27   0.0    65  81.0  48.0\n",
       "1936 2022-11-28   0.0    67  81.0  48.0\n",
       "1937 2022-11-29   0.0    65  83.0  48.0\n",
       "1938 2022-11-30   0.0    65  82.0  47.0\n",
       "\n",
       "[1939 rows x 5 columns]"
      ]
     },
     "execution_count": 51,
     "metadata": {},
     "output_type": "execute_result"
    }
   ],
   "source": [
    "weather_df"
   ]
  },
  {
   "cell_type": "markdown",
   "id": "8b4bbc75",
   "metadata": {},
   "source": [
    "Plot daily average temperature (F) in Guadalajara"
   ]
  },
  {
   "cell_type": "code",
   "execution_count": 52,
   "id": "0d969812",
   "metadata": {},
   "outputs": [
    {
     "data": {
      "image/png": "[encoded data removed]",
      "text/plain": [
       "<Figure size 1440x432 with 1 Axes>"
      ]
     },
     "metadata": {
      "needs_background": "light"
     },
     "output_type": "display_data"
    }
   ],
   "source": [
    "fig, ax = plt.subplots(figsize=(20, 6))\n",
    "\n",
    "#weather_df.TAVG.plot(label=\"Avg Temp (F)\", legend=True)\n",
    "plt.plot(weather_df.Date, weather_df.TAVG)\n",
    "\n",
    "plt.title('Average Temperature (F)')\n",
    "plt.show()"
   ]
  },
  {
   "cell_type": "markdown",
   "id": "c3d823b6",
   "metadata": {},
   "source": [
    "Plot daily precipitation"
   ]
  },
  {
   "cell_type": "code",
   "execution_count": 53,
   "id": "7467f7b5",
   "metadata": {},
   "outputs": [
    {
     "data": {
      "text/plain": [
       "Text(0.5, 1.0, 'Precipitation (in)')"
      ]
     },
     "execution_count": 53,
     "metadata": {},
     "output_type": "execute_result"
    },
    {
     "data": {
      "image/png": "[encoded data removed]",
      "text/plain": [
       "<Figure size 1440x432 with 1 Axes>"
      ]
     },
     "metadata": {
      "needs_background": "light"
     },
     "output_type": "display_data"
    }
   ],
   "source": [
    "fig, ax = plt.subplots(figsize=(20, 6))\n",
    "plt.plot(weather_df.Date, weather_df.PRCP)\n",
    "plt.title('Precipitation (in)')"
   ]
  },
  {
   "cell_type": "markdown",
   "id": "a64e626d",
   "metadata": {},
   "source": [
    "Plot temperature & rainfall"
   ]
  },
  {
   "cell_type": "code",
   "execution_count": 54,
   "id": "e40e1860",
   "metadata": {},
   "outputs": [
    {
     "data": {
      "text/plain": [
       "<matplotlib.collections.PathCollection at 0x187208f7fa0>"
      ]
     },
     "execution_count": 54,
     "metadata": {},
     "output_type": "execute_result"
    },
    {
     "data": {
      "image/png": "[encoded data removed]",
      "text/plain": [
       "<Figure size 1440x432 with 1 Axes>"
      ]
     },
     "metadata": {
      "needs_background": "light"
     },
     "output_type": "display_data"
    }
   ],
   "source": [
    "fig, ax = plt.subplots(figsize=(20, 6))\n",
    "y = [40]*len(weather_df.PRCP) \n",
    "plt.plot(weather_df.Date, weather_df.TAVG)   # BLUE LINE\n",
    "plt.scatter(weather_df.Date, y, s = weather_df.PRCP*100, color='red', edgecolor='black')  # rainfall: RED DOT"
   ]
  },
  {
   "cell_type": "markdown",
   "id": "d52ce95f",
   "metadata": {},
   "source": [
    "Add a column for prcp x axis values"
   ]
  },
  {
   "cell_type": "code",
   "execution_count": 55,
   "id": "ba00ded6",
   "metadata": {},
   "outputs": [],
   "source": [
    "weather_df.insert(2, \"X_PRCP\", [40]*len(weather_df.PRCP), True)"
   ]
  },
  {
   "cell_type": "code",
   "execution_count": 56,
   "id": "e989b973",
   "metadata": {},
   "outputs": [
    {
     "data": {
      "text/html": [
       "<div>\n",
       "<style scoped>\n",
       "    .dataframe tbody tr th:only-of-type {\n",
       "        vertical-align: middle;\n",
       "    }\n",
       "\n",
       "    .dataframe tbody tr th {\n",
       "        vertical-align: top;\n",
       "    }\n",
       "\n",
       "    .dataframe thead th {\n",
       "        text-align: right;\n",
       "    }\n",
       "</style>\n",
       "<table border=\"1\" class=\"dataframe\">\n",
       "  <thead>\n",
       "    <tr style=\"text-align: right;\">\n",
       "      <th></th>\n",
       "      <th>Date</th>\n",
       "      <th>PRCP</th>\n",
       "      <th>X_PRCP</th>\n",
       "      <th>TAVG</th>\n",
       "      <th>TMAX</th>\n",
       "      <th>TMIN</th>\n",
       "    </tr>\n",
       "  </thead>\n",
       "  <tbody>\n",
       "    <tr>\n",
       "      <th>0</th>\n",
       "      <td>2017-01-03</td>\n",
       "      <td>0.0</td>\n",
       "      <td>40</td>\n",
       "      <td>69</td>\n",
       "      <td>NaN</td>\n",
       "      <td>NaN</td>\n",
       "    </tr>\n",
       "    <tr>\n",
       "      <th>1</th>\n",
       "      <td>2017-01-04</td>\n",
       "      <td>0.0</td>\n",
       "      <td>40</td>\n",
       "      <td>61</td>\n",
       "      <td>82.0</td>\n",
       "      <td>45.0</td>\n",
       "    </tr>\n",
       "    <tr>\n",
       "      <th>2</th>\n",
       "      <td>2017-01-10</td>\n",
       "      <td>0.0</td>\n",
       "      <td>40</td>\n",
       "      <td>57</td>\n",
       "      <td>76.0</td>\n",
       "      <td>39.0</td>\n",
       "    </tr>\n",
       "    <tr>\n",
       "      <th>3</th>\n",
       "      <td>2017-01-11</td>\n",
       "      <td>0.0</td>\n",
       "      <td>40</td>\n",
       "      <td>56</td>\n",
       "      <td>NaN</td>\n",
       "      <td>NaN</td>\n",
       "    </tr>\n",
       "    <tr>\n",
       "      <th>4</th>\n",
       "      <td>2017-01-12</td>\n",
       "      <td>0.0</td>\n",
       "      <td>40</td>\n",
       "      <td>60</td>\n",
       "      <td>80.0</td>\n",
       "      <td>40.0</td>\n",
       "    </tr>\n",
       "    <tr>\n",
       "      <th>...</th>\n",
       "      <td>...</td>\n",
       "      <td>...</td>\n",
       "      <td>...</td>\n",
       "      <td>...</td>\n",
       "      <td>...</td>\n",
       "      <td>...</td>\n",
       "    </tr>\n",
       "    <tr>\n",
       "      <th>1934</th>\n",
       "      <td>2022-11-26</td>\n",
       "      <td>0.0</td>\n",
       "      <td>40</td>\n",
       "      <td>65</td>\n",
       "      <td>81.0</td>\n",
       "      <td>51.0</td>\n",
       "    </tr>\n",
       "    <tr>\n",
       "      <th>1935</th>\n",
       "      <td>2022-11-27</td>\n",
       "      <td>0.0</td>\n",
       "      <td>40</td>\n",
       "      <td>65</td>\n",
       "      <td>81.0</td>\n",
       "      <td>48.0</td>\n",
       "    </tr>\n",
       "    <tr>\n",
       "      <th>1936</th>\n",
       "      <td>2022-11-28</td>\n",
       "      <td>0.0</td>\n",
       "      <td>40</td>\n",
       "      <td>67</td>\n",
       "      <td>81.0</td>\n",
       "      <td>48.0</td>\n",
       "    </tr>\n",
       "    <tr>\n",
       "      <th>1937</th>\n",
       "      <td>2022-11-29</td>\n",
       "      <td>0.0</td>\n",
       "      <td>40</td>\n",
       "      <td>65</td>\n",
       "      <td>83.0</td>\n",
       "      <td>48.0</td>\n",
       "    </tr>\n",
       "    <tr>\n",
       "      <th>1938</th>\n",
       "      <td>2022-11-30</td>\n",
       "      <td>0.0</td>\n",
       "      <td>40</td>\n",
       "      <td>65</td>\n",
       "      <td>82.0</td>\n",
       "      <td>47.0</td>\n",
       "    </tr>\n",
       "  </tbody>\n",
       "</table>\n",
       "<p>1939 rows × 6 columns</p>\n",
       "</div>"
      ],
      "text/plain": [
       "           Date  PRCP  X_PRCP  TAVG  TMAX  TMIN\n",
       "0    2017-01-03   0.0      40    69   NaN   NaN\n",
       "1    2017-01-04   0.0      40    61  82.0  45.0\n",
       "2    2017-01-10   0.0      40    57  76.0  39.0\n",
       "3    2017-01-11   0.0      40    56   NaN   NaN\n",
       "4    2017-01-12   0.0      40    60  80.0  40.0\n",
       "...         ...   ...     ...   ...   ...   ...\n",
       "1934 2022-11-26   0.0      40    65  81.0  51.0\n",
       "1935 2022-11-27   0.0      40    65  81.0  48.0\n",
       "1936 2022-11-28   0.0      40    67  81.0  48.0\n",
       "1937 2022-11-29   0.0      40    65  83.0  48.0\n",
       "1938 2022-11-30   0.0      40    65  82.0  47.0\n",
       "\n",
       "[1939 rows x 6 columns]"
      ]
     },
     "execution_count": 56,
     "metadata": {},
     "output_type": "execute_result"
    }
   ],
   "source": [
    "weather_df"
   ]
  },
  {
   "cell_type": "markdown",
   "id": "d698006d",
   "metadata": {},
   "source": [
    "Truncate data between 2019 & 2020"
   ]
  },
  {
   "cell_type": "code",
   "execution_count": 60,
   "id": "1aca3db6",
   "metadata": {},
   "outputs": [],
   "source": [
    "weather_df = weather_df[(weather_df.Date > '2018-12-31') & (weather_df.Date < '2021-01-01')]"
   ]
  },
  {
   "cell_type": "markdown",
   "id": "c669a1d8",
   "metadata": {},
   "source": [
    "Export data"
   ]
  },
  {
   "cell_type": "code",
   "execution_count": 61,
   "id": "ef18223f",
   "metadata": {},
   "outputs": [],
   "source": [
    "# weather_df.to_csv('../../MiBici_Data/Tableau_Datasets/Question_1/NOAA_NCEI_Climate_2019_2020_clean.csv', index = False, encoding='utf-8')"
   ]
  },
  {
   "cell_type": "markdown",
   "id": "a892c20f",
   "metadata": {},
   "source": [
    "### COVID Data"
   ]
  },
  {
   "cell_type": "markdown",
   "id": "80d55a0d",
   "metadata": {},
   "source": [
    "**Gobierno de México:**\n",
    "\n",
    "The general directive of epidemiology for the Mexican government maintains a [dashboard](https://datos.covid-19.conacyt.mx/) of COVID-19 data for the country. In this analysis, the daily count of confirmed cases is used for the municipalities of interest."
   ]
  },
  {
   "cell_type": "markdown",
   "id": "6fd33448",
   "metadata": {},
   "source": [
    "Read in the COVID data that contains the daily cases per municipality."
   ]
  },
  {
   "cell_type": "code",
   "execution_count": 74,
   "id": "a73e5782",
   "metadata": {},
   "outputs": [],
   "source": [
    "covid_df = pd.read_csv('../../MiBici_Data/COVID/Casos_Diarios_Municipio_Confirmados_20221207.csv', encoding='utf-8')"
   ]
  },
  {
   "cell_type": "markdown",
   "id": "f746f0de",
   "metadata": {},
   "source": [
    "Select the appropriate data for the municipalities."
   ]
  },
  {
   "cell_type": "code",
   "execution_count": 75,
   "id": "b7c148e4",
   "metadata": {},
   "outputs": [],
   "source": [
    "covid_df = covid_df.loc[covid_df.nombre.isin(['Guadalajara', 'Zapopan', 'San Pedro Tlaquepaque'])].T"
   ]
  },
  {
   "cell_type": "markdown",
   "id": "7833a5dc",
   "metadata": {},
   "source": [
    "Clean up COVID dataframe"
   ]
  },
  {
   "cell_type": "code",
   "execution_count": 76,
   "id": "30454f65",
   "metadata": {},
   "outputs": [],
   "source": [
    "# Make the row indicies into a new column\n",
    "covid_df.reset_index(inplace=True)\n",
    "\n",
    "# drop the first two rows\n",
    "covid_df.drop([0,1], inplace=True)\n",
    "\n",
    "# replace the column names\n",
    "covid_df = covid_df.rename(columns = covid_df.iloc[0]).drop(covid_df.index[0])\n",
    "\n",
    "# rename other columns\n",
    "covid_df.rename(columns={'nombre': 'Date', 'San Pedro Tlaquepaque': 'Tlaquepaque'}, inplace=True)\n",
    "\n",
    "# Convert Date column to datetime variable\n",
    "covid_df.Date = pd.to_datetime(covid_df.Date)\n",
    "\n",
    "# Reset index\n",
    "covid_df.reset_index(drop=True, inplace=True)\n",
    "\n",
    "# Create new column of cases across all municipalities\n",
    "covid_df['Total'] = covid_df[['Zapopan', 'Guadalajara', 'Tlaquepaque']].sum(axis=1)"
   ]
  },
  {
   "cell_type": "code",
   "execution_count": 77,
   "id": "67665fc6",
   "metadata": {},
   "outputs": [
    {
     "data": {
      "text/html": [
       "<div>\n",
       "<style scoped>\n",
       "    .dataframe tbody tr th:only-of-type {\n",
       "        vertical-align: middle;\n",
       "    }\n",
       "\n",
       "    .dataframe tbody tr th {\n",
       "        vertical-align: top;\n",
       "    }\n",
       "\n",
       "    .dataframe thead th {\n",
       "        text-align: right;\n",
       "    }\n",
       "</style>\n",
       "<table border=\"1\" class=\"dataframe\">\n",
       "  <thead>\n",
       "    <tr style=\"text-align: right;\">\n",
       "      <th></th>\n",
       "      <th>Date</th>\n",
       "      <th>Zapopan</th>\n",
       "      <th>Guadalajara</th>\n",
       "      <th>Tlaquepaque</th>\n",
       "      <th>Total</th>\n",
       "    </tr>\n",
       "  </thead>\n",
       "  <tbody>\n",
       "    <tr>\n",
       "      <th>0</th>\n",
       "      <td>2020-02-26</td>\n",
       "      <td>0</td>\n",
       "      <td>0</td>\n",
       "      <td>0</td>\n",
       "      <td>0.0</td>\n",
       "    </tr>\n",
       "    <tr>\n",
       "      <th>1</th>\n",
       "      <td>2020-02-27</td>\n",
       "      <td>0</td>\n",
       "      <td>0</td>\n",
       "      <td>0</td>\n",
       "      <td>0.0</td>\n",
       "    </tr>\n",
       "    <tr>\n",
       "      <th>2</th>\n",
       "      <td>2020-02-28</td>\n",
       "      <td>0</td>\n",
       "      <td>0</td>\n",
       "      <td>0</td>\n",
       "      <td>0.0</td>\n",
       "    </tr>\n",
       "    <tr>\n",
       "      <th>3</th>\n",
       "      <td>2020-02-29</td>\n",
       "      <td>0</td>\n",
       "      <td>0</td>\n",
       "      <td>0</td>\n",
       "      <td>0.0</td>\n",
       "    </tr>\n",
       "    <tr>\n",
       "      <th>4</th>\n",
       "      <td>2020-03-01</td>\n",
       "      <td>0</td>\n",
       "      <td>0</td>\n",
       "      <td>0</td>\n",
       "      <td>0.0</td>\n",
       "    </tr>\n",
       "    <tr>\n",
       "      <th>...</th>\n",
       "      <td>...</td>\n",
       "      <td>...</td>\n",
       "      <td>...</td>\n",
       "      <td>...</td>\n",
       "      <td>...</td>\n",
       "    </tr>\n",
       "    <tr>\n",
       "      <th>1004</th>\n",
       "      <td>2022-11-26</td>\n",
       "      <td>2</td>\n",
       "      <td>9</td>\n",
       "      <td>0</td>\n",
       "      <td>11.0</td>\n",
       "    </tr>\n",
       "    <tr>\n",
       "      <th>1005</th>\n",
       "      <td>2022-11-27</td>\n",
       "      <td>2</td>\n",
       "      <td>5</td>\n",
       "      <td>0</td>\n",
       "      <td>7.0</td>\n",
       "    </tr>\n",
       "    <tr>\n",
       "      <th>1006</th>\n",
       "      <td>2022-11-28</td>\n",
       "      <td>13</td>\n",
       "      <td>28</td>\n",
       "      <td>1</td>\n",
       "      <td>42.0</td>\n",
       "    </tr>\n",
       "    <tr>\n",
       "      <th>1007</th>\n",
       "      <td>2022-11-29</td>\n",
       "      <td>10</td>\n",
       "      <td>26</td>\n",
       "      <td>3</td>\n",
       "      <td>39.0</td>\n",
       "    </tr>\n",
       "    <tr>\n",
       "      <th>1008</th>\n",
       "      <td>2022-11-30</td>\n",
       "      <td>13</td>\n",
       "      <td>16</td>\n",
       "      <td>7</td>\n",
       "      <td>36.0</td>\n",
       "    </tr>\n",
       "  </tbody>\n",
       "</table>\n",
       "<p>1009 rows × 5 columns</p>\n",
       "</div>"
      ],
      "text/plain": [
       "           Date Zapopan Guadalajara Tlaquepaque  Total\n",
       "0    2020-02-26       0           0           0    0.0\n",
       "1    2020-02-27       0           0           0    0.0\n",
       "2    2020-02-28       0           0           0    0.0\n",
       "3    2020-02-29       0           0           0    0.0\n",
       "4    2020-03-01       0           0           0    0.0\n",
       "...         ...     ...         ...         ...    ...\n",
       "1004 2022-11-26       2           9           0   11.0\n",
       "1005 2022-11-27       2           5           0    7.0\n",
       "1006 2022-11-28      13          28           1   42.0\n",
       "1007 2022-11-29      10          26           3   39.0\n",
       "1008 2022-11-30      13          16           7   36.0\n",
       "\n",
       "[1009 rows x 5 columns]"
      ]
     },
     "execution_count": 77,
     "metadata": {},
     "output_type": "execute_result"
    }
   ],
   "source": [
    "covid_df"
   ]
  },
  {
   "cell_type": "markdown",
   "id": "21c8759c",
   "metadata": {},
   "source": [
    "Truncate data for before 2021-01-01"
   ]
  },
  {
   "cell_type": "code",
   "execution_count": 79,
   "id": "0b92b937",
   "metadata": {},
   "outputs": [],
   "source": [
    "covid_df = covid_df[covid_df.Date < '2021-01-01']"
   ]
  },
  {
   "cell_type": "code",
   "execution_count": 80,
   "id": "88e39c8a",
   "metadata": {},
   "outputs": [
    {
     "data": {
      "text/html": [
       "<div>\n",
       "<style scoped>\n",
       "    .dataframe tbody tr th:only-of-type {\n",
       "        vertical-align: middle;\n",
       "    }\n",
       "\n",
       "    .dataframe tbody tr th {\n",
       "        vertical-align: top;\n",
       "    }\n",
       "\n",
       "    .dataframe thead th {\n",
       "        text-align: right;\n",
       "    }\n",
       "</style>\n",
       "<table border=\"1\" class=\"dataframe\">\n",
       "  <thead>\n",
       "    <tr style=\"text-align: right;\">\n",
       "      <th></th>\n",
       "      <th>Date</th>\n",
       "      <th>Zapopan</th>\n",
       "      <th>Guadalajara</th>\n",
       "      <th>Tlaquepaque</th>\n",
       "      <th>Total</th>\n",
       "    </tr>\n",
       "  </thead>\n",
       "  <tbody>\n",
       "    <tr>\n",
       "      <th>0</th>\n",
       "      <td>2020-02-26</td>\n",
       "      <td>0</td>\n",
       "      <td>0</td>\n",
       "      <td>0</td>\n",
       "      <td>0.0</td>\n",
       "    </tr>\n",
       "    <tr>\n",
       "      <th>1</th>\n",
       "      <td>2020-02-27</td>\n",
       "      <td>0</td>\n",
       "      <td>0</td>\n",
       "      <td>0</td>\n",
       "      <td>0.0</td>\n",
       "    </tr>\n",
       "    <tr>\n",
       "      <th>2</th>\n",
       "      <td>2020-02-28</td>\n",
       "      <td>0</td>\n",
       "      <td>0</td>\n",
       "      <td>0</td>\n",
       "      <td>0.0</td>\n",
       "    </tr>\n",
       "    <tr>\n",
       "      <th>3</th>\n",
       "      <td>2020-02-29</td>\n",
       "      <td>0</td>\n",
       "      <td>0</td>\n",
       "      <td>0</td>\n",
       "      <td>0.0</td>\n",
       "    </tr>\n",
       "    <tr>\n",
       "      <th>4</th>\n",
       "      <td>2020-03-01</td>\n",
       "      <td>0</td>\n",
       "      <td>0</td>\n",
       "      <td>0</td>\n",
       "      <td>0.0</td>\n",
       "    </tr>\n",
       "    <tr>\n",
       "      <th>...</th>\n",
       "      <td>...</td>\n",
       "      <td>...</td>\n",
       "      <td>...</td>\n",
       "      <td>...</td>\n",
       "      <td>...</td>\n",
       "    </tr>\n",
       "    <tr>\n",
       "      <th>305</th>\n",
       "      <td>2020-12-27</td>\n",
       "      <td>51</td>\n",
       "      <td>94</td>\n",
       "      <td>23</td>\n",
       "      <td>168.0</td>\n",
       "    </tr>\n",
       "    <tr>\n",
       "      <th>306</th>\n",
       "      <td>2020-12-28</td>\n",
       "      <td>122</td>\n",
       "      <td>235</td>\n",
       "      <td>42</td>\n",
       "      <td>399.0</td>\n",
       "    </tr>\n",
       "    <tr>\n",
       "      <th>307</th>\n",
       "      <td>2020-12-29</td>\n",
       "      <td>110</td>\n",
       "      <td>193</td>\n",
       "      <td>34</td>\n",
       "      <td>337.0</td>\n",
       "    </tr>\n",
       "    <tr>\n",
       "      <th>308</th>\n",
       "      <td>2020-12-30</td>\n",
       "      <td>120</td>\n",
       "      <td>191</td>\n",
       "      <td>40</td>\n",
       "      <td>351.0</td>\n",
       "    </tr>\n",
       "    <tr>\n",
       "      <th>309</th>\n",
       "      <td>2020-12-31</td>\n",
       "      <td>83</td>\n",
       "      <td>158</td>\n",
       "      <td>23</td>\n",
       "      <td>264.0</td>\n",
       "    </tr>\n",
       "  </tbody>\n",
       "</table>\n",
       "<p>310 rows × 5 columns</p>\n",
       "</div>"
      ],
      "text/plain": [
       "          Date Zapopan Guadalajara Tlaquepaque  Total\n",
       "0   2020-02-26       0           0           0    0.0\n",
       "1   2020-02-27       0           0           0    0.0\n",
       "2   2020-02-28       0           0           0    0.0\n",
       "3   2020-02-29       0           0           0    0.0\n",
       "4   2020-03-01       0           0           0    0.0\n",
       "..         ...     ...         ...         ...    ...\n",
       "305 2020-12-27      51          94          23  168.0\n",
       "306 2020-12-28     122         235          42  399.0\n",
       "307 2020-12-29     110         193          34  337.0\n",
       "308 2020-12-30     120         191          40  351.0\n",
       "309 2020-12-31      83         158          23  264.0\n",
       "\n",
       "[310 rows x 5 columns]"
      ]
     },
     "execution_count": 80,
     "metadata": {},
     "output_type": "execute_result"
    }
   ],
   "source": [
    "covid_df"
   ]
  },
  {
   "cell_type": "markdown",
   "id": "364f5732",
   "metadata": {},
   "source": [
    "Plot COVID cases by municipality"
   ]
  },
  {
   "cell_type": "code",
   "execution_count": 81,
   "id": "2cbfdd36",
   "metadata": {},
   "outputs": [
    {
     "data": {
      "image/png": "[encoded data removed]",
      "text/plain": [
       "<Figure size 1440x432 with 1 Axes>"
      ]
     },
     "metadata": {
      "needs_background": "light"
     },
     "output_type": "display_data"
    }
   ],
   "source": [
    "fig, ax = plt.subplots(figsize=(20, 6))\n",
    "\n",
    "covid_df.Zapopan.plot(label=\"Zapopan\", legend=True)\n",
    "covid_df.Guadalajara.plot(label=\"Guadalajara\", legend=True)\n",
    "covid_df.Tlaquepaque.plot(label=\"Tlaquepaque\", legend=True)\n",
    "covid_df.Total.plot(label=\"Total\", legend=True)\n",
    "\n",
    "plt.show()"
   ]
  },
  {
   "cell_type": "code",
   "execution_count": 82,
   "id": "77b8c780",
   "metadata": {},
   "outputs": [],
   "source": [
    "# Create temp dataframe of zeros for COVID data before first data collection '2020-02-25'\n",
    "# to later append to true covid data\n",
    "temp_df = pd.DataFrame({'Date': pd.date_range('2019-01-01', '2020-02-25', freq='D'),\n",
    "                        'Zapopan': [0]*len(pd.date_range('2019-01-01', '2020-02-25', freq='D')),\n",
    "                        'Guadalajara': [0]*len(pd.date_range('2019-01-01', '2020-02-25', freq='D')),\n",
    "                        'Tlaquepaque': [0]*len(pd.date_range('2019-01-01', '2020-02-25', freq='D')),\n",
    "                        'Total': [0]*len(pd.date_range('2019-01-01', '2020-02-25', freq='D')),\n",
    "                       })"
   ]
  },
  {
   "cell_type": "code",
   "execution_count": 83,
   "id": "e895f90f",
   "metadata": {},
   "outputs": [
    {
     "data": {
      "text/html": [
       "<div>\n",
       "<style scoped>\n",
       "    .dataframe tbody tr th:only-of-type {\n",
       "        vertical-align: middle;\n",
       "    }\n",
       "\n",
       "    .dataframe tbody tr th {\n",
       "        vertical-align: top;\n",
       "    }\n",
       "\n",
       "    .dataframe thead th {\n",
       "        text-align: right;\n",
       "    }\n",
       "</style>\n",
       "<table border=\"1\" class=\"dataframe\">\n",
       "  <thead>\n",
       "    <tr style=\"text-align: right;\">\n",
       "      <th></th>\n",
       "      <th>Date</th>\n",
       "      <th>Zapopan</th>\n",
       "      <th>Guadalajara</th>\n",
       "      <th>Tlaquepaque</th>\n",
       "      <th>Total</th>\n",
       "    </tr>\n",
       "  </thead>\n",
       "  <tbody>\n",
       "    <tr>\n",
       "      <th>0</th>\n",
       "      <td>2019-01-01</td>\n",
       "      <td>0</td>\n",
       "      <td>0</td>\n",
       "      <td>0</td>\n",
       "      <td>0</td>\n",
       "    </tr>\n",
       "    <tr>\n",
       "      <th>1</th>\n",
       "      <td>2019-01-02</td>\n",
       "      <td>0</td>\n",
       "      <td>0</td>\n",
       "      <td>0</td>\n",
       "      <td>0</td>\n",
       "    </tr>\n",
       "    <tr>\n",
       "      <th>2</th>\n",
       "      <td>2019-01-03</td>\n",
       "      <td>0</td>\n",
       "      <td>0</td>\n",
       "      <td>0</td>\n",
       "      <td>0</td>\n",
       "    </tr>\n",
       "    <tr>\n",
       "      <th>3</th>\n",
       "      <td>2019-01-04</td>\n",
       "      <td>0</td>\n",
       "      <td>0</td>\n",
       "      <td>0</td>\n",
       "      <td>0</td>\n",
       "    </tr>\n",
       "    <tr>\n",
       "      <th>4</th>\n",
       "      <td>2019-01-05</td>\n",
       "      <td>0</td>\n",
       "      <td>0</td>\n",
       "      <td>0</td>\n",
       "      <td>0</td>\n",
       "    </tr>\n",
       "    <tr>\n",
       "      <th>...</th>\n",
       "      <td>...</td>\n",
       "      <td>...</td>\n",
       "      <td>...</td>\n",
       "      <td>...</td>\n",
       "      <td>...</td>\n",
       "    </tr>\n",
       "    <tr>\n",
       "      <th>416</th>\n",
       "      <td>2020-02-21</td>\n",
       "      <td>0</td>\n",
       "      <td>0</td>\n",
       "      <td>0</td>\n",
       "      <td>0</td>\n",
       "    </tr>\n",
       "    <tr>\n",
       "      <th>417</th>\n",
       "      <td>2020-02-22</td>\n",
       "      <td>0</td>\n",
       "      <td>0</td>\n",
       "      <td>0</td>\n",
       "      <td>0</td>\n",
       "    </tr>\n",
       "    <tr>\n",
       "      <th>418</th>\n",
       "      <td>2020-02-23</td>\n",
       "      <td>0</td>\n",
       "      <td>0</td>\n",
       "      <td>0</td>\n",
       "      <td>0</td>\n",
       "    </tr>\n",
       "    <tr>\n",
       "      <th>419</th>\n",
       "      <td>2020-02-24</td>\n",
       "      <td>0</td>\n",
       "      <td>0</td>\n",
       "      <td>0</td>\n",
       "      <td>0</td>\n",
       "    </tr>\n",
       "    <tr>\n",
       "      <th>420</th>\n",
       "      <td>2020-02-25</td>\n",
       "      <td>0</td>\n",
       "      <td>0</td>\n",
       "      <td>0</td>\n",
       "      <td>0</td>\n",
       "    </tr>\n",
       "  </tbody>\n",
       "</table>\n",
       "<p>421 rows × 5 columns</p>\n",
       "</div>"
      ],
      "text/plain": [
       "          Date  Zapopan  Guadalajara  Tlaquepaque  Total\n",
       "0   2019-01-01        0            0            0      0\n",
       "1   2019-01-02        0            0            0      0\n",
       "2   2019-01-03        0            0            0      0\n",
       "3   2019-01-04        0            0            0      0\n",
       "4   2019-01-05        0            0            0      0\n",
       "..         ...      ...          ...          ...    ...\n",
       "416 2020-02-21        0            0            0      0\n",
       "417 2020-02-22        0            0            0      0\n",
       "418 2020-02-23        0            0            0      0\n",
       "419 2020-02-24        0            0            0      0\n",
       "420 2020-02-25        0            0            0      0\n",
       "\n",
       "[421 rows x 5 columns]"
      ]
     },
     "execution_count": 83,
     "metadata": {},
     "output_type": "execute_result"
    }
   ],
   "source": [
    "temp_df"
   ]
  },
  {
   "cell_type": "code",
   "execution_count": 84,
   "id": "c134963a",
   "metadata": {},
   "outputs": [],
   "source": [
    "# concatenate temp data to COVID data\n",
    "covid_df = pd.concat([temp_df, covid_df], axis=0)"
   ]
  },
  {
   "cell_type": "code",
   "execution_count": 85,
   "id": "7a291def",
   "metadata": {},
   "outputs": [],
   "source": [
    "# Reset indicies\n",
    "covid_df.reset_index(drop=True, inplace=True)"
   ]
  },
  {
   "cell_type": "code",
   "execution_count": 86,
   "id": "692feb13",
   "metadata": {},
   "outputs": [
    {
     "data": {
      "image/png": "[encoded data removed]",
      "text/plain": [
       "<Figure size 1440x432 with 1 Axes>"
      ]
     },
     "metadata": {
      "needs_background": "light"
     },
     "output_type": "display_data"
    }
   ],
   "source": [
    "# PLot new dataframe\n",
    "fig, ax = plt.subplots(figsize=(20, 6))\n",
    "\n",
    "covid_df.Zapopan.plot(label=\"Zapopan\", legend=True)\n",
    "covid_df.Guadalajara.plot(label=\"Guadalajara\", legend=True)\n",
    "covid_df.Tlaquepaque.plot(label=\"Tlaquepaque\", legend=True)\n",
    "covid_df.Total.plot(label=\"Total\", legend=True)\n",
    "\n",
    "plt.show()"
   ]
  },
  {
   "cell_type": "markdown",
   "id": "c7d3c667",
   "metadata": {},
   "source": [
    "Convert data frame to long format for Tableau"
   ]
  },
  {
   "cell_type": "code",
   "execution_count": 87,
   "id": "010812b9",
   "metadata": {},
   "outputs": [],
   "source": [
    "covid_long_df = pd.melt(covid_df, id_vars='Date', value_vars=['Total', 'Guadalajara', 'Tlaquepaque', 'Zapopan'])"
   ]
  },
  {
   "cell_type": "code",
   "execution_count": 88,
   "id": "dad6671c",
   "metadata": {},
   "outputs": [
    {
     "data": {
      "text/html": [
       "<div>\n",
       "<style scoped>\n",
       "    .dataframe tbody tr th:only-of-type {\n",
       "        vertical-align: middle;\n",
       "    }\n",
       "\n",
       "    .dataframe tbody tr th {\n",
       "        vertical-align: top;\n",
       "    }\n",
       "\n",
       "    .dataframe thead th {\n",
       "        text-align: right;\n",
       "    }\n",
       "</style>\n",
       "<table border=\"1\" class=\"dataframe\">\n",
       "  <thead>\n",
       "    <tr style=\"text-align: right;\">\n",
       "      <th></th>\n",
       "      <th>Date</th>\n",
       "      <th>variable</th>\n",
       "      <th>value</th>\n",
       "    </tr>\n",
       "  </thead>\n",
       "  <tbody>\n",
       "    <tr>\n",
       "      <th>0</th>\n",
       "      <td>2019-01-01</td>\n",
       "      <td>Total</td>\n",
       "      <td>0.0</td>\n",
       "    </tr>\n",
       "    <tr>\n",
       "      <th>1</th>\n",
       "      <td>2019-01-02</td>\n",
       "      <td>Total</td>\n",
       "      <td>0.0</td>\n",
       "    </tr>\n",
       "    <tr>\n",
       "      <th>2</th>\n",
       "      <td>2019-01-03</td>\n",
       "      <td>Total</td>\n",
       "      <td>0.0</td>\n",
       "    </tr>\n",
       "    <tr>\n",
       "      <th>3</th>\n",
       "      <td>2019-01-04</td>\n",
       "      <td>Total</td>\n",
       "      <td>0.0</td>\n",
       "    </tr>\n",
       "    <tr>\n",
       "      <th>4</th>\n",
       "      <td>2019-01-05</td>\n",
       "      <td>Total</td>\n",
       "      <td>0.0</td>\n",
       "    </tr>\n",
       "    <tr>\n",
       "      <th>...</th>\n",
       "      <td>...</td>\n",
       "      <td>...</td>\n",
       "      <td>...</td>\n",
       "    </tr>\n",
       "    <tr>\n",
       "      <th>2919</th>\n",
       "      <td>2020-12-27</td>\n",
       "      <td>Zapopan</td>\n",
       "      <td>51</td>\n",
       "    </tr>\n",
       "    <tr>\n",
       "      <th>2920</th>\n",
       "      <td>2020-12-28</td>\n",
       "      <td>Zapopan</td>\n",
       "      <td>122</td>\n",
       "    </tr>\n",
       "    <tr>\n",
       "      <th>2921</th>\n",
       "      <td>2020-12-29</td>\n",
       "      <td>Zapopan</td>\n",
       "      <td>110</td>\n",
       "    </tr>\n",
       "    <tr>\n",
       "      <th>2922</th>\n",
       "      <td>2020-12-30</td>\n",
       "      <td>Zapopan</td>\n",
       "      <td>120</td>\n",
       "    </tr>\n",
       "    <tr>\n",
       "      <th>2923</th>\n",
       "      <td>2020-12-31</td>\n",
       "      <td>Zapopan</td>\n",
       "      <td>83</td>\n",
       "    </tr>\n",
       "  </tbody>\n",
       "</table>\n",
       "<p>2924 rows × 3 columns</p>\n",
       "</div>"
      ],
      "text/plain": [
       "           Date variable value\n",
       "0    2019-01-01    Total   0.0\n",
       "1    2019-01-02    Total   0.0\n",
       "2    2019-01-03    Total   0.0\n",
       "3    2019-01-04    Total   0.0\n",
       "4    2019-01-05    Total   0.0\n",
       "...         ...      ...   ...\n",
       "2919 2020-12-27  Zapopan    51\n",
       "2920 2020-12-28  Zapopan   122\n",
       "2921 2020-12-29  Zapopan   110\n",
       "2922 2020-12-30  Zapopan   120\n",
       "2923 2020-12-31  Zapopan    83\n",
       "\n",
       "[2924 rows x 3 columns]"
      ]
     },
     "execution_count": 88,
     "metadata": {},
     "output_type": "execute_result"
    }
   ],
   "source": [
    "covid_long_df"
   ]
  },
  {
   "cell_type": "markdown",
   "id": "b7514e3e",
   "metadata": {},
   "source": [
    "Export data"
   ]
  },
  {
   "cell_type": "code",
   "execution_count": 89,
   "id": "132fa4b3",
   "metadata": {},
   "outputs": [],
   "source": [
    "# covid_df.to_csv('../../MiBici_Data/Tableau_Datasets/Question_1/COVID_daily_cases_clean_2019_2020.csv', index=False, encoding='utf-8')\n",
    "# covid_long_df.to_csv('../../MiBici_Data/Tableau_Datasets/Question_1/COVID_daily_cases_clean_long_2019_2020.csv', index=False, encoding='utf-8')"
   ]
  },
  {
   "cell_type": "markdown",
   "id": "0cae571b",
   "metadata": {},
   "source": [
    "### Daily Bike Trip Counts"
   ]
  },
  {
   "cell_type": "code",
   "execution_count": 90,
   "id": "2cd9ebd6",
   "metadata": {},
   "outputs": [],
   "source": [
    "# Loop through each file, save as dataframe, and obtain the row count for 2019-2020\n",
    "output = pd.Series(name=\"Rows\", dtype=int)\n",
    "\n",
    "for file in years_df:\n",
    "    df = file\n",
    "    df['Start_Time'] = pd.to_datetime(df['Start_Time']).dt.strftime('%Y-%m-%d')\n",
    "    output = pd.concat([output,df.groupby(['Start_City', 'Start_Time']).count().iloc[:,0]], axis=0)"
   ]
  },
  {
   "cell_type": "code",
   "execution_count": 91,
   "id": "aecdab03",
   "metadata": {},
   "outputs": [
    {
     "data": {
      "text/plain": [
       "(Guadalajara, 2019-01-01)    2281\n",
       "(Guadalajara, 2019-01-02)    8280\n",
       "(Guadalajara, 2019-01-03)    8933\n",
       "(Guadalajara, 2019-01-04)    9215\n",
       "(Guadalajara, 2019-01-05)    6991\n",
       "                             ... \n",
       "(Zapopan, 2020-12-27)         235\n",
       "(Zapopan, 2020-12-28)         446\n",
       "(Zapopan, 2020-12-29)         420\n",
       "(Zapopan, 2020-12-30)         407\n",
       "(Zapopan, 2020-12-31)         314\n",
       "Length: 2193, dtype: int64"
      ]
     },
     "execution_count": 91,
     "metadata": {},
     "output_type": "execute_result"
    }
   ],
   "source": [
    "output"
   ]
  },
  {
   "cell_type": "markdown",
   "id": "e0900934",
   "metadata": {},
   "source": [
    "Turn output into a formatted data frame for Tableau"
   ]
  },
  {
   "cell_type": "code",
   "execution_count": 92,
   "id": "4a9b3cb5",
   "metadata": {},
   "outputs": [],
   "source": [
    "# turn 'output' to dataframe\n",
    "output_df = pd.DataFrame(output).reset_index(drop=False)\n",
    "\n",
    "# spilt tuple into two columns of df and concat to output_df\n",
    "output_df = pd.concat([output_df, \n",
    "                       pd.DataFrame(output_df['index'].tolist(), columns=['Region', 'Date'])\n",
    "                      ], axis = 1)\n",
    "           \n",
    "# delete extra unformated tuple column\n",
    "output_df.drop('index', axis=1, inplace=True)\n",
    "\n",
    "# rename columns\n",
    "output_df.columns = ['Count', 'Region', 'Date']\n",
    "\n",
    "# conver Date column into datetime\n",
    "output_df.Date = pd.to_datetime(output_df.Date)"
   ]
  },
  {
   "cell_type": "code",
   "execution_count": 93,
   "id": "ee15ed4a",
   "metadata": {},
   "outputs": [
    {
     "data": {
      "text/html": [
       "<div>\n",
       "<style scoped>\n",
       "    .dataframe tbody tr th:only-of-type {\n",
       "        vertical-align: middle;\n",
       "    }\n",
       "\n",
       "    .dataframe tbody tr th {\n",
       "        vertical-align: top;\n",
       "    }\n",
       "\n",
       "    .dataframe thead th {\n",
       "        text-align: right;\n",
       "    }\n",
       "</style>\n",
       "<table border=\"1\" class=\"dataframe\">\n",
       "  <thead>\n",
       "    <tr style=\"text-align: right;\">\n",
       "      <th></th>\n",
       "      <th>Count</th>\n",
       "      <th>Region</th>\n",
       "      <th>Date</th>\n",
       "    </tr>\n",
       "  </thead>\n",
       "  <tbody>\n",
       "    <tr>\n",
       "      <th>0</th>\n",
       "      <td>2281</td>\n",
       "      <td>Guadalajara</td>\n",
       "      <td>2019-01-01</td>\n",
       "    </tr>\n",
       "    <tr>\n",
       "      <th>1</th>\n",
       "      <td>8280</td>\n",
       "      <td>Guadalajara</td>\n",
       "      <td>2019-01-02</td>\n",
       "    </tr>\n",
       "    <tr>\n",
       "      <th>2</th>\n",
       "      <td>8933</td>\n",
       "      <td>Guadalajara</td>\n",
       "      <td>2019-01-03</td>\n",
       "    </tr>\n",
       "    <tr>\n",
       "      <th>3</th>\n",
       "      <td>9215</td>\n",
       "      <td>Guadalajara</td>\n",
       "      <td>2019-01-04</td>\n",
       "    </tr>\n",
       "    <tr>\n",
       "      <th>4</th>\n",
       "      <td>6991</td>\n",
       "      <td>Guadalajara</td>\n",
       "      <td>2019-01-05</td>\n",
       "    </tr>\n",
       "    <tr>\n",
       "      <th>...</th>\n",
       "      <td>...</td>\n",
       "      <td>...</td>\n",
       "      <td>...</td>\n",
       "    </tr>\n",
       "    <tr>\n",
       "      <th>2188</th>\n",
       "      <td>235</td>\n",
       "      <td>Zapopan</td>\n",
       "      <td>2020-12-27</td>\n",
       "    </tr>\n",
       "    <tr>\n",
       "      <th>2189</th>\n",
       "      <td>446</td>\n",
       "      <td>Zapopan</td>\n",
       "      <td>2020-12-28</td>\n",
       "    </tr>\n",
       "    <tr>\n",
       "      <th>2190</th>\n",
       "      <td>420</td>\n",
       "      <td>Zapopan</td>\n",
       "      <td>2020-12-29</td>\n",
       "    </tr>\n",
       "    <tr>\n",
       "      <th>2191</th>\n",
       "      <td>407</td>\n",
       "      <td>Zapopan</td>\n",
       "      <td>2020-12-30</td>\n",
       "    </tr>\n",
       "    <tr>\n",
       "      <th>2192</th>\n",
       "      <td>314</td>\n",
       "      <td>Zapopan</td>\n",
       "      <td>2020-12-31</td>\n",
       "    </tr>\n",
       "  </tbody>\n",
       "</table>\n",
       "<p>2193 rows × 3 columns</p>\n",
       "</div>"
      ],
      "text/plain": [
       "      Count       Region       Date\n",
       "0      2281  Guadalajara 2019-01-01\n",
       "1      8280  Guadalajara 2019-01-02\n",
       "2      8933  Guadalajara 2019-01-03\n",
       "3      9215  Guadalajara 2019-01-04\n",
       "4      6991  Guadalajara 2019-01-05\n",
       "...     ...          ...        ...\n",
       "2188    235      Zapopan 2020-12-27\n",
       "2189    446      Zapopan 2020-12-28\n",
       "2190    420      Zapopan 2020-12-29\n",
       "2191    407      Zapopan 2020-12-30\n",
       "2192    314      Zapopan 2020-12-31\n",
       "\n",
       "[2193 rows x 3 columns]"
      ]
     },
     "execution_count": 93,
     "metadata": {},
     "output_type": "execute_result"
    }
   ],
   "source": [
    "output_df"
   ]
  },
  {
   "cell_type": "code",
   "execution_count": 94,
   "id": "7a388b1d",
   "metadata": {},
   "outputs": [],
   "source": [
    "# add category for the total # trips across all regions\n",
    "temp_df = pd.DataFrame(output_df.groupby(['Date'])['Count'].sum()).reset_index()\n",
    "temp_df['Region'] = ['Total']*len(temp_df)\n",
    "\n",
    "# rearrange order of columns\n",
    "temp_df = temp_df.reindex(columns=['Count', 'Region', 'Date'])"
   ]
  },
  {
   "cell_type": "markdown",
   "id": "6a30edf3",
   "metadata": {},
   "source": [
    "Combine two dataframes to export"
   ]
  },
  {
   "cell_type": "code",
   "execution_count": 95,
   "id": "a3069b7e",
   "metadata": {},
   "outputs": [],
   "source": [
    "output_df = pd.concat([output_df, temp_df], axis=0).reset_index(drop=True)"
   ]
  },
  {
   "cell_type": "markdown",
   "id": "61b226bb",
   "metadata": {},
   "source": [
    "Export data"
   ]
  },
  {
   "cell_type": "code",
   "execution_count": 96,
   "id": "55fbdad7",
   "metadata": {},
   "outputs": [],
   "source": [
    "# output_df.to_csv('../../MiBici_Data/Tableau_Datasets/Question_1/daily_trip_count.csv', index=False, encoding='utf-8')"
   ]
  },
  {
   "cell_type": "markdown",
   "id": "4c50326e",
   "metadata": {},
   "source": [
    "## 2) Trip Duration"
   ]
  },
  {
   "cell_type": "markdown",
   "id": "1bdb0223",
   "metadata": {},
   "source": [
    "### Summary Statistics"
   ]
  },
  {
   "cell_type": "code",
   "execution_count": 98,
   "id": "01822e69",
   "metadata": {},
   "outputs": [],
   "source": [
    "# Summary Statistics\n",
    "summary_avg_duration_df = \\\n",
    "pd.concat([MiBici2019.Duration.describe().apply(lambda x: '%.2f' % x),\n",
    "           MiBici2020.Duration.describe().apply(lambda x: '%.2f' % x)\n",
    "          ], axis=1, keys = years).T"
   ]
  },
  {
   "cell_type": "code",
   "execution_count": 99,
   "id": "e3fc7783",
   "metadata": {},
   "outputs": [
    {
     "data": {
      "text/html": [
       "<div>\n",
       "<style scoped>\n",
       "    .dataframe tbody tr th:only-of-type {\n",
       "        vertical-align: middle;\n",
       "    }\n",
       "\n",
       "    .dataframe tbody tr th {\n",
       "        vertical-align: top;\n",
       "    }\n",
       "\n",
       "    .dataframe thead th {\n",
       "        text-align: right;\n",
       "    }\n",
       "</style>\n",
       "<table border=\"1\" class=\"dataframe\">\n",
       "  <thead>\n",
       "    <tr style=\"text-align: right;\">\n",
       "      <th></th>\n",
       "      <th>count</th>\n",
       "      <th>mean</th>\n",
       "      <th>std</th>\n",
       "      <th>min</th>\n",
       "      <th>25%</th>\n",
       "      <th>50%</th>\n",
       "      <th>75%</th>\n",
       "      <th>max</th>\n",
       "    </tr>\n",
       "  </thead>\n",
       "  <tbody>\n",
       "    <tr>\n",
       "      <th>2019</th>\n",
       "      <td>4486450.00</td>\n",
       "      <td>11.42</td>\n",
       "      <td>7.53</td>\n",
       "      <td>1.50</td>\n",
       "      <td>6.18</td>\n",
       "      <td>9.82</td>\n",
       "      <td>15.02</td>\n",
       "      <td>179.93</td>\n",
       "    </tr>\n",
       "    <tr>\n",
       "      <th>2020</th>\n",
       "      <td>2763470.00</td>\n",
       "      <td>11.45</td>\n",
       "      <td>7.41</td>\n",
       "      <td>1.50</td>\n",
       "      <td>6.20</td>\n",
       "      <td>9.93</td>\n",
       "      <td>15.10</td>\n",
       "      <td>179.97</td>\n",
       "    </tr>\n",
       "  </tbody>\n",
       "</table>\n",
       "</div>"
      ],
      "text/plain": [
       "           count   mean   std   min   25%   50%    75%     max\n",
       "2019  4486450.00  11.42  7.53  1.50  6.18  9.82  15.02  179.93\n",
       "2020  2763470.00  11.45  7.41  1.50  6.20  9.93  15.10  179.97"
      ]
     },
     "execution_count": 99,
     "metadata": {},
     "output_type": "execute_result"
    }
   ],
   "source": [
    "summary_avg_duration_df"
   ]
  },
  {
   "cell_type": "code",
   "execution_count": null,
   "id": "1fb445cf",
   "metadata": {},
   "outputs": [],
   "source": [
    "# export sumary stats\n",
    "# summary_avg_duration_df.to_csv('../../MiBici_Data/Tableau_Datasets/Question_2/Summary_Stat_Trip_Duration.csv', encoding = 'utf-8')"
   ]
  },
  {
   "cell_type": "markdown",
   "id": "8747233b",
   "metadata": {},
   "source": [
    "### Line Plot"
   ]
  },
  {
   "cell_type": "code",
   "execution_count": 102,
   "id": "5dd91fd8",
   "metadata": {},
   "outputs": [
    {
     "data": {
      "image/png": "[encoded data removed]",
      "text/plain": [
       "<Figure size 1080x360 with 1 Axes>"
      ]
     },
     "metadata": {
      "needs_background": "light"
     },
     "output_type": "display_data"
    }
   ],
   "source": [
    "# plot of mean duration per day\n",
    "fig, axs = plt.subplots(figsize=(15, 5))\n",
    "\n",
    "MiBici2019.groupby(pd.to_datetime(MiBici2019['Start_Time']).dt.date)['Duration'].mean().plot()\n",
    "MiBici2020.groupby(pd.to_datetime(MiBici2020['Start_Time']).dt.date)['Duration'].mean().plot()\n",
    "\n",
    "plt.ylim([0, 15])\n",
    "\n",
    "plt.show()           "
   ]
  },
  {
   "cell_type": "markdown",
   "id": "f06810f9",
   "metadata": {},
   "source": [
    "### Histogram"
   ]
  },
  {
   "cell_type": "code",
   "execution_count": 100,
   "id": "8589c1b2",
   "metadata": {},
   "outputs": [
    {
     "data": {
      "image/png": "[encoded data removed]",
      "text/plain": [
       "<Figure size 2880x360 with 2 Axes>"
      ]
     },
     "metadata": {
      "needs_background": "light"
     },
     "output_type": "display_data"
    }
   ],
   "source": [
    "# Loop through each dataset and create its plot (histogram)\n",
    "fig, axs = plt.subplots(ncols=2, figsize=(40, 5), sharey=True)\n",
    "for i in range(len(years)):\n",
    "    sns.histplot(years_df[i]['Duration'], bins=range(0,150,1), ax=axs[i])\n",
    "    axs[i].set_title(years[i])\n",
    "plt.show()"
   ]
  },
  {
   "cell_type": "markdown",
   "id": "555a36ac",
   "metadata": {},
   "source": [
    "Obtain histogram data"
   ]
  },
  {
   "cell_type": "code",
   "execution_count": 104,
   "id": "64b5ecf1",
   "metadata": {},
   "outputs": [
    {
     "data": {
      "image/png": "[encoded data removed]",
      "text/plain": [
       "<Figure size 432x288 with 1 Axes>"
      ]
     },
     "metadata": {
      "needs_background": "light"
     },
     "output_type": "display_data"
    }
   ],
   "source": [
    "dur_hist_df = pd.DataFrame()\n",
    "\n",
    "for i in range(len(years)):\n",
    "    counts, bins, bars = plt.hist(years_df[i]['Duration'], \n",
    "                                  bins = range(1,176),\n",
    "                                  range=(years_df[i]['Duration'].min(), years_df[i]['Duration'].max())\n",
    "                                 )\n",
    "    year = [years[i]]*(len(counts))\n",
    "        \n",
    "    dur_hist_df = pd.concat([dur_hist_df, pd.DataFrame({'counts':list(counts), 'bins':list(bins)[:-1], 'year':year})], axis=0)"
   ]
  },
  {
   "cell_type": "markdown",
   "id": "1d94dd40",
   "metadata": {},
   "source": [
    "Export data"
   ]
  },
  {
   "cell_type": "code",
   "execution_count": 105,
   "id": "55421686",
   "metadata": {},
   "outputs": [],
   "source": [
    "# dur_hist_df.to_csv('../../MiBici_Data/Tableau_Datasets/Question_2/Trip_Duration_histogram.csv', index=False, encoding='utf-8')"
   ]
  },
  {
   "cell_type": "markdown",
   "id": "62b6ab85",
   "metadata": {},
   "source": [
    "## 3) Trips per Hour"
   ]
  },
  {
   "cell_type": "markdown",
   "id": "6ee0a9e9",
   "metadata": {},
   "source": [
    "### Avg Workweek vs Weekend"
   ]
  },
  {
   "cell_type": "markdown",
   "id": "e8e1f7d1",
   "metadata": {},
   "source": [
    "The goal is to determine the average number of trips taken at each hour of the day over the 6 years worth of data.\n",
    "* The data is split into workdays (M-F) and weekends (Sat/Sun)"
   ]
  },
  {
   "cell_type": "markdown",
   "id": "b8a77525",
   "metadata": {},
   "source": [
    "#### Weekend"
   ]
  },
  {
   "cell_type": "markdown",
   "id": "96b9b958",
   "metadata": {},
   "source": [
    "Calculate the total # of trips per hour for each year"
   ]
  },
  {
   "cell_type": "code",
   "execution_count": 106,
   "id": "8a96bc95",
   "metadata": {},
   "outputs": [],
   "source": [
    "# create subset of yearly dataframes that only contains trips that occur on saturday or sunday\n",
    "Avg_weekend_df = pd.DataFrame([years_df[i].loc[(years_df[i]['Start_Weekday'] == 'Saturday') | (years_df[i]['Start_Weekday'] == 'Sunday')].groupby('Start_Hour').size()   \\\n",
    "                               for i in range(len(years)) \n",
    "                              ], index=years).T"
   ]
  },
  {
   "cell_type": "markdown",
   "id": "e72e02f8",
   "metadata": {},
   "source": [
    "Sum across each row to get the total # trips over all years"
   ]
  },
  {
   "cell_type": "code",
   "execution_count": 107,
   "id": "fabb11ff",
   "metadata": {},
   "outputs": [],
   "source": [
    "Avg_weekend_df['Sum'] = Avg_weekend_df.sum(axis=1)"
   ]
  },
  {
   "cell_type": "code",
   "execution_count": 108,
   "id": "d44e089b",
   "metadata": {
    "scrolled": true
   },
   "outputs": [
    {
     "data": {
      "text/html": [
       "<div>\n",
       "<style scoped>\n",
       "    .dataframe tbody tr th:only-of-type {\n",
       "        vertical-align: middle;\n",
       "    }\n",
       "\n",
       "    .dataframe tbody tr th {\n",
       "        vertical-align: top;\n",
       "    }\n",
       "\n",
       "    .dataframe thead th {\n",
       "        text-align: right;\n",
       "    }\n",
       "</style>\n",
       "<table border=\"1\" class=\"dataframe\">\n",
       "  <thead>\n",
       "    <tr style=\"text-align: right;\">\n",
       "      <th></th>\n",
       "      <th>2019</th>\n",
       "      <th>2020</th>\n",
       "      <th>Sum</th>\n",
       "    </tr>\n",
       "    <tr>\n",
       "      <th>Start_Hour</th>\n",
       "      <th></th>\n",
       "      <th></th>\n",
       "      <th></th>\n",
       "    </tr>\n",
       "  </thead>\n",
       "  <tbody>\n",
       "    <tr>\n",
       "      <th>0</th>\n",
       "      <td>12.0</td>\n",
       "      <td>7.0</td>\n",
       "      <td>19.0</td>\n",
       "    </tr>\n",
       "    <tr>\n",
       "      <th>5</th>\n",
       "      <td>1.0</td>\n",
       "      <td>NaN</td>\n",
       "      <td>1.0</td>\n",
       "    </tr>\n",
       "    <tr>\n",
       "      <th>6</th>\n",
       "      <td>9985.0</td>\n",
       "      <td>7557.0</td>\n",
       "      <td>17542.0</td>\n",
       "    </tr>\n",
       "    <tr>\n",
       "      <th>7</th>\n",
       "      <td>20171.0</td>\n",
       "      <td>14745.0</td>\n",
       "      <td>34916.0</td>\n",
       "    </tr>\n",
       "    <tr>\n",
       "      <th>8</th>\n",
       "      <td>39152.0</td>\n",
       "      <td>24310.0</td>\n",
       "      <td>63462.0</td>\n",
       "    </tr>\n",
       "    <tr>\n",
       "      <th>9</th>\n",
       "      <td>47951.0</td>\n",
       "      <td>29572.0</td>\n",
       "      <td>77523.0</td>\n",
       "    </tr>\n",
       "    <tr>\n",
       "      <th>10</th>\n",
       "      <td>56907.0</td>\n",
       "      <td>35125.0</td>\n",
       "      <td>92032.0</td>\n",
       "    </tr>\n",
       "    <tr>\n",
       "      <th>11</th>\n",
       "      <td>65032.0</td>\n",
       "      <td>39865.0</td>\n",
       "      <td>104897.0</td>\n",
       "    </tr>\n",
       "    <tr>\n",
       "      <th>12</th>\n",
       "      <td>70894.0</td>\n",
       "      <td>43155.0</td>\n",
       "      <td>114049.0</td>\n",
       "    </tr>\n",
       "    <tr>\n",
       "      <th>13</th>\n",
       "      <td>76047.0</td>\n",
       "      <td>47951.0</td>\n",
       "      <td>123998.0</td>\n",
       "    </tr>\n",
       "    <tr>\n",
       "      <th>14</th>\n",
       "      <td>72010.0</td>\n",
       "      <td>47738.0</td>\n",
       "      <td>119748.0</td>\n",
       "    </tr>\n",
       "    <tr>\n",
       "      <th>15</th>\n",
       "      <td>57838.0</td>\n",
       "      <td>39613.0</td>\n",
       "      <td>97451.0</td>\n",
       "    </tr>\n",
       "    <tr>\n",
       "      <th>16</th>\n",
       "      <td>47420.0</td>\n",
       "      <td>31895.0</td>\n",
       "      <td>79315.0</td>\n",
       "    </tr>\n",
       "    <tr>\n",
       "      <th>17</th>\n",
       "      <td>44265.0</td>\n",
       "      <td>29835.0</td>\n",
       "      <td>74100.0</td>\n",
       "    </tr>\n",
       "    <tr>\n",
       "      <th>18</th>\n",
       "      <td>43827.0</td>\n",
       "      <td>30959.0</td>\n",
       "      <td>74786.0</td>\n",
       "    </tr>\n",
       "    <tr>\n",
       "      <th>19</th>\n",
       "      <td>45616.0</td>\n",
       "      <td>30439.0</td>\n",
       "      <td>76055.0</td>\n",
       "    </tr>\n",
       "    <tr>\n",
       "      <th>20</th>\n",
       "      <td>43020.0</td>\n",
       "      <td>28226.0</td>\n",
       "      <td>71246.0</td>\n",
       "    </tr>\n",
       "    <tr>\n",
       "      <th>21</th>\n",
       "      <td>37341.0</td>\n",
       "      <td>22710.0</td>\n",
       "      <td>60051.0</td>\n",
       "    </tr>\n",
       "    <tr>\n",
       "      <th>22</th>\n",
       "      <td>25423.0</td>\n",
       "      <td>13574.0</td>\n",
       "      <td>38997.0</td>\n",
       "    </tr>\n",
       "    <tr>\n",
       "      <th>23</th>\n",
       "      <td>14915.0</td>\n",
       "      <td>7345.0</td>\n",
       "      <td>22260.0</td>\n",
       "    </tr>\n",
       "  </tbody>\n",
       "</table>\n",
       "</div>"
      ],
      "text/plain": [
       "               2019     2020       Sum\n",
       "Start_Hour                            \n",
       "0              12.0      7.0      19.0\n",
       "5               1.0      NaN       1.0\n",
       "6            9985.0   7557.0   17542.0\n",
       "7           20171.0  14745.0   34916.0\n",
       "8           39152.0  24310.0   63462.0\n",
       "9           47951.0  29572.0   77523.0\n",
       "10          56907.0  35125.0   92032.0\n",
       "11          65032.0  39865.0  104897.0\n",
       "12          70894.0  43155.0  114049.0\n",
       "13          76047.0  47951.0  123998.0\n",
       "14          72010.0  47738.0  119748.0\n",
       "15          57838.0  39613.0   97451.0\n",
       "16          47420.0  31895.0   79315.0\n",
       "17          44265.0  29835.0   74100.0\n",
       "18          43827.0  30959.0   74786.0\n",
       "19          45616.0  30439.0   76055.0\n",
       "20          43020.0  28226.0   71246.0\n",
       "21          37341.0  22710.0   60051.0\n",
       "22          25423.0  13574.0   38997.0\n",
       "23          14915.0   7345.0   22260.0"
      ]
     },
     "execution_count": 108,
     "metadata": {},
     "output_type": "execute_result"
    }
   ],
   "source": [
    "Avg_weekend_df"
   ]
  },
  {
   "cell_type": "markdown",
   "id": "0d64377f",
   "metadata": {},
   "source": [
    "Divide each Year column by the number of weekends in a year to get the average # trips per hour.\n",
    "* There are 52 weeks in a year and 2 days in a weekend.\n",
    "* I assume that each year is the same so 52*2 = 104 days of the year are weekends"
   ]
  },
  {
   "cell_type": "code",
   "execution_count": 109,
   "id": "1b081086",
   "metadata": {},
   "outputs": [],
   "source": [
    "Avg_weekend_df.loc[:, years] = Avg_weekend_df.loc[:, years]/104"
   ]
  },
  {
   "cell_type": "code",
   "execution_count": 110,
   "id": "2e2b01f7",
   "metadata": {},
   "outputs": [
    {
     "data": {
      "text/plain": [
       "<AxesSubplot: xlabel='Start_Hour'>"
      ]
     },
     "execution_count": 110,
     "metadata": {},
     "output_type": "execute_result"
    },
    {
     "data": {
      "image/png": "[encoded data removed]",
      "text/plain": [
       "<Figure size 432x288 with 1 Axes>"
      ]
     },
     "metadata": {
      "needs_background": "light"
     },
     "output_type": "display_data"
    }
   ],
   "source": [
    "(Avg_weekend_df.loc[:, years]/104).sort_index().plot()"
   ]
  },
  {
   "cell_type": "markdown",
   "id": "3cfb639d",
   "metadata": {},
   "source": [
    "Divide the `Sum` column by the number of weekends over the 6 years to get the average.\n",
    "* There are 52 weeks in a year and 2 days in a weekend.\n",
    "* I assume that each year is the same so 52*2 = 104 days of the year are weekends\n",
    "* There is 2 years worth of data (104*2)"
   ]
  },
  {
   "cell_type": "code",
   "execution_count": 111,
   "id": "09ad5f13",
   "metadata": {},
   "outputs": [],
   "source": [
    "Avg_weekend_df['Avg'] = Avg_weekend_df['Sum']/(104*2)"
   ]
  },
  {
   "cell_type": "code",
   "execution_count": 112,
   "id": "6444e9fc",
   "metadata": {},
   "outputs": [
    {
     "data": {
      "text/plain": [
       "<AxesSubplot: xlabel='Start_Hour'>"
      ]
     },
     "execution_count": 112,
     "metadata": {},
     "output_type": "execute_result"
    },
    {
     "data": {
      "image/png": "[encoded data removed]",
      "text/plain": [
       "<Figure size 432x288 with 1 Axes>"
      ]
     },
     "metadata": {
      "needs_background": "light"
     },
     "output_type": "display_data"
    }
   ],
   "source": [
    "Avg_weekend_df['Avg'].sort_index().plot()"
   ]
  },
  {
   "cell_type": "code",
   "execution_count": 113,
   "id": "6572c9cc",
   "metadata": {},
   "outputs": [
    {
     "data": {
      "text/html": [
       "<div>\n",
       "<style scoped>\n",
       "    .dataframe tbody tr th:only-of-type {\n",
       "        vertical-align: middle;\n",
       "    }\n",
       "\n",
       "    .dataframe tbody tr th {\n",
       "        vertical-align: top;\n",
       "    }\n",
       "\n",
       "    .dataframe thead th {\n",
       "        text-align: right;\n",
       "    }\n",
       "</style>\n",
       "<table border=\"1\" class=\"dataframe\">\n",
       "  <thead>\n",
       "    <tr style=\"text-align: right;\">\n",
       "      <th></th>\n",
       "      <th>2019</th>\n",
       "      <th>2020</th>\n",
       "      <th>Sum</th>\n",
       "      <th>Avg</th>\n",
       "    </tr>\n",
       "    <tr>\n",
       "      <th>Start_Hour</th>\n",
       "      <th></th>\n",
       "      <th></th>\n",
       "      <th></th>\n",
       "      <th></th>\n",
       "    </tr>\n",
       "  </thead>\n",
       "  <tbody>\n",
       "    <tr>\n",
       "      <th>0</th>\n",
       "      <td>0.115385</td>\n",
       "      <td>0.067308</td>\n",
       "      <td>19.0</td>\n",
       "      <td>0.091346</td>\n",
       "    </tr>\n",
       "    <tr>\n",
       "      <th>5</th>\n",
       "      <td>0.009615</td>\n",
       "      <td>NaN</td>\n",
       "      <td>1.0</td>\n",
       "      <td>0.004808</td>\n",
       "    </tr>\n",
       "    <tr>\n",
       "      <th>6</th>\n",
       "      <td>96.009615</td>\n",
       "      <td>72.663462</td>\n",
       "      <td>17542.0</td>\n",
       "      <td>84.336538</td>\n",
       "    </tr>\n",
       "    <tr>\n",
       "      <th>7</th>\n",
       "      <td>193.951923</td>\n",
       "      <td>141.778846</td>\n",
       "      <td>34916.0</td>\n",
       "      <td>167.865385</td>\n",
       "    </tr>\n",
       "    <tr>\n",
       "      <th>8</th>\n",
       "      <td>376.461538</td>\n",
       "      <td>233.750000</td>\n",
       "      <td>63462.0</td>\n",
       "      <td>305.105769</td>\n",
       "    </tr>\n",
       "    <tr>\n",
       "      <th>9</th>\n",
       "      <td>461.067308</td>\n",
       "      <td>284.346154</td>\n",
       "      <td>77523.0</td>\n",
       "      <td>372.706731</td>\n",
       "    </tr>\n",
       "    <tr>\n",
       "      <th>10</th>\n",
       "      <td>547.182692</td>\n",
       "      <td>337.740385</td>\n",
       "      <td>92032.0</td>\n",
       "      <td>442.461538</td>\n",
       "    </tr>\n",
       "    <tr>\n",
       "      <th>11</th>\n",
       "      <td>625.307692</td>\n",
       "      <td>383.317308</td>\n",
       "      <td>104897.0</td>\n",
       "      <td>504.312500</td>\n",
       "    </tr>\n",
       "    <tr>\n",
       "      <th>12</th>\n",
       "      <td>681.673077</td>\n",
       "      <td>414.951923</td>\n",
       "      <td>114049.0</td>\n",
       "      <td>548.312500</td>\n",
       "    </tr>\n",
       "    <tr>\n",
       "      <th>13</th>\n",
       "      <td>731.221154</td>\n",
       "      <td>461.067308</td>\n",
       "      <td>123998.0</td>\n",
       "      <td>596.144231</td>\n",
       "    </tr>\n",
       "    <tr>\n",
       "      <th>14</th>\n",
       "      <td>692.403846</td>\n",
       "      <td>459.019231</td>\n",
       "      <td>119748.0</td>\n",
       "      <td>575.711538</td>\n",
       "    </tr>\n",
       "    <tr>\n",
       "      <th>15</th>\n",
       "      <td>556.134615</td>\n",
       "      <td>380.894231</td>\n",
       "      <td>97451.0</td>\n",
       "      <td>468.514423</td>\n",
       "    </tr>\n",
       "    <tr>\n",
       "      <th>16</th>\n",
       "      <td>455.961538</td>\n",
       "      <td>306.682692</td>\n",
       "      <td>79315.0</td>\n",
       "      <td>381.322115</td>\n",
       "    </tr>\n",
       "    <tr>\n",
       "      <th>17</th>\n",
       "      <td>425.625000</td>\n",
       "      <td>286.875000</td>\n",
       "      <td>74100.0</td>\n",
       "      <td>356.250000</td>\n",
       "    </tr>\n",
       "    <tr>\n",
       "      <th>18</th>\n",
       "      <td>421.413462</td>\n",
       "      <td>297.682692</td>\n",
       "      <td>74786.0</td>\n",
       "      <td>359.548077</td>\n",
       "    </tr>\n",
       "    <tr>\n",
       "      <th>19</th>\n",
       "      <td>438.615385</td>\n",
       "      <td>292.682692</td>\n",
       "      <td>76055.0</td>\n",
       "      <td>365.649038</td>\n",
       "    </tr>\n",
       "    <tr>\n",
       "      <th>20</th>\n",
       "      <td>413.653846</td>\n",
       "      <td>271.403846</td>\n",
       "      <td>71246.0</td>\n",
       "      <td>342.528846</td>\n",
       "    </tr>\n",
       "    <tr>\n",
       "      <th>21</th>\n",
       "      <td>359.048077</td>\n",
       "      <td>218.365385</td>\n",
       "      <td>60051.0</td>\n",
       "      <td>288.706731</td>\n",
       "    </tr>\n",
       "    <tr>\n",
       "      <th>22</th>\n",
       "      <td>244.451923</td>\n",
       "      <td>130.519231</td>\n",
       "      <td>38997.0</td>\n",
       "      <td>187.485577</td>\n",
       "    </tr>\n",
       "    <tr>\n",
       "      <th>23</th>\n",
       "      <td>143.413462</td>\n",
       "      <td>70.625000</td>\n",
       "      <td>22260.0</td>\n",
       "      <td>107.019231</td>\n",
       "    </tr>\n",
       "  </tbody>\n",
       "</table>\n",
       "</div>"
      ],
      "text/plain": [
       "                  2019        2020       Sum         Avg\n",
       "Start_Hour                                              \n",
       "0             0.115385    0.067308      19.0    0.091346\n",
       "5             0.009615         NaN       1.0    0.004808\n",
       "6            96.009615   72.663462   17542.0   84.336538\n",
       "7           193.951923  141.778846   34916.0  167.865385\n",
       "8           376.461538  233.750000   63462.0  305.105769\n",
       "9           461.067308  284.346154   77523.0  372.706731\n",
       "10          547.182692  337.740385   92032.0  442.461538\n",
       "11          625.307692  383.317308  104897.0  504.312500\n",
       "12          681.673077  414.951923  114049.0  548.312500\n",
       "13          731.221154  461.067308  123998.0  596.144231\n",
       "14          692.403846  459.019231  119748.0  575.711538\n",
       "15          556.134615  380.894231   97451.0  468.514423\n",
       "16          455.961538  306.682692   79315.0  381.322115\n",
       "17          425.625000  286.875000   74100.0  356.250000\n",
       "18          421.413462  297.682692   74786.0  359.548077\n",
       "19          438.615385  292.682692   76055.0  365.649038\n",
       "20          413.653846  271.403846   71246.0  342.528846\n",
       "21          359.048077  218.365385   60051.0  288.706731\n",
       "22          244.451923  130.519231   38997.0  187.485577\n",
       "23          143.413462   70.625000   22260.0  107.019231"
      ]
     },
     "execution_count": 113,
     "metadata": {},
     "output_type": "execute_result"
    }
   ],
   "source": [
    "Avg_weekend_df"
   ]
  },
  {
   "cell_type": "markdown",
   "id": "3128f85d",
   "metadata": {},
   "source": [
    "#### Workweek"
   ]
  },
  {
   "cell_type": "markdown",
   "id": "670b1568",
   "metadata": {},
   "source": [
    "Calculate the total # of trips per hour for each year"
   ]
  },
  {
   "cell_type": "code",
   "execution_count": 114,
   "id": "b2491ccc",
   "metadata": {},
   "outputs": [],
   "source": [
    "# create subset of yearly dataframes that only contains trips that occur mon-fri\n",
    "Avg_workweek_df = pd.DataFrame([years_df[i].loc[(years_df[i]['Start_Weekday'] != 'Saturday') & (years_df[i]['Start_Weekday'] != 'Sunday')].groupby('Start_Hour').size()   \\\n",
    "                                for i in range(len(years)) \n",
    "                               ], index=years).T"
   ]
  },
  {
   "cell_type": "markdown",
   "id": "c79a98aa",
   "metadata": {},
   "source": [
    "Sum across each row to get the total # trips over all years"
   ]
  },
  {
   "cell_type": "code",
   "execution_count": 115,
   "id": "7a18c1ba",
   "metadata": {},
   "outputs": [],
   "source": [
    "Avg_workweek_df['Sum'] = Avg_workweek_df.sum(axis=1)"
   ]
  },
  {
   "cell_type": "code",
   "execution_count": 116,
   "id": "c96b9b05",
   "metadata": {},
   "outputs": [
    {
     "data": {
      "text/html": [
       "<div>\n",
       "<style scoped>\n",
       "    .dataframe tbody tr th:only-of-type {\n",
       "        vertical-align: middle;\n",
       "    }\n",
       "\n",
       "    .dataframe tbody tr th {\n",
       "        vertical-align: top;\n",
       "    }\n",
       "\n",
       "    .dataframe thead th {\n",
       "        text-align: right;\n",
       "    }\n",
       "</style>\n",
       "<table border=\"1\" class=\"dataframe\">\n",
       "  <thead>\n",
       "    <tr style=\"text-align: right;\">\n",
       "      <th></th>\n",
       "      <th>2019</th>\n",
       "      <th>2020</th>\n",
       "      <th>Sum</th>\n",
       "    </tr>\n",
       "    <tr>\n",
       "      <th>Start_Hour</th>\n",
       "      <th></th>\n",
       "      <th></th>\n",
       "      <th></th>\n",
       "    </tr>\n",
       "  </thead>\n",
       "  <tbody>\n",
       "    <tr>\n",
       "      <th>0</th>\n",
       "      <td>24.0</td>\n",
       "      <td>4.0</td>\n",
       "      <td>28.0</td>\n",
       "    </tr>\n",
       "    <tr>\n",
       "      <th>4</th>\n",
       "      <td>3.0</td>\n",
       "      <td>NaN</td>\n",
       "      <td>3.0</td>\n",
       "    </tr>\n",
       "    <tr>\n",
       "      <th>5</th>\n",
       "      <td>18.0</td>\n",
       "      <td>1.0</td>\n",
       "      <td>19.0</td>\n",
       "    </tr>\n",
       "    <tr>\n",
       "      <th>6</th>\n",
       "      <td>93125.0</td>\n",
       "      <td>52115.0</td>\n",
       "      <td>145240.0</td>\n",
       "    </tr>\n",
       "    <tr>\n",
       "      <th>7</th>\n",
       "      <td>186858.0</td>\n",
       "      <td>104249.0</td>\n",
       "      <td>291107.0</td>\n",
       "    </tr>\n",
       "    <tr>\n",
       "      <th>8</th>\n",
       "      <td>308912.0</td>\n",
       "      <td>169750.0</td>\n",
       "      <td>478662.0</td>\n",
       "    </tr>\n",
       "    <tr>\n",
       "      <th>9</th>\n",
       "      <td>206590.0</td>\n",
       "      <td>133553.0</td>\n",
       "      <td>340143.0</td>\n",
       "    </tr>\n",
       "    <tr>\n",
       "      <th>10</th>\n",
       "      <td>161809.0</td>\n",
       "      <td>108782.0</td>\n",
       "      <td>270591.0</td>\n",
       "    </tr>\n",
       "    <tr>\n",
       "      <th>11</th>\n",
       "      <td>156099.0</td>\n",
       "      <td>106897.0</td>\n",
       "      <td>262996.0</td>\n",
       "    </tr>\n",
       "    <tr>\n",
       "      <th>12</th>\n",
       "      <td>172601.0</td>\n",
       "      <td>114445.0</td>\n",
       "      <td>287046.0</td>\n",
       "    </tr>\n",
       "    <tr>\n",
       "      <th>13</th>\n",
       "      <td>212652.0</td>\n",
       "      <td>135948.0</td>\n",
       "      <td>348600.0</td>\n",
       "    </tr>\n",
       "    <tr>\n",
       "      <th>14</th>\n",
       "      <td>257334.0</td>\n",
       "      <td>159631.0</td>\n",
       "      <td>416965.0</td>\n",
       "    </tr>\n",
       "    <tr>\n",
       "      <th>15</th>\n",
       "      <td>251693.0</td>\n",
       "      <td>157739.0</td>\n",
       "      <td>409432.0</td>\n",
       "    </tr>\n",
       "    <tr>\n",
       "      <th>16</th>\n",
       "      <td>223754.0</td>\n",
       "      <td>141966.0</td>\n",
       "      <td>365720.0</td>\n",
       "    </tr>\n",
       "    <tr>\n",
       "      <th>17</th>\n",
       "      <td>260111.0</td>\n",
       "      <td>168987.0</td>\n",
       "      <td>429098.0</td>\n",
       "    </tr>\n",
       "    <tr>\n",
       "      <th>18</th>\n",
       "      <td>376960.0</td>\n",
       "      <td>231690.0</td>\n",
       "      <td>608650.0</td>\n",
       "    </tr>\n",
       "    <tr>\n",
       "      <th>19</th>\n",
       "      <td>308787.0</td>\n",
       "      <td>182979.0</td>\n",
       "      <td>491766.0</td>\n",
       "    </tr>\n",
       "    <tr>\n",
       "      <th>20</th>\n",
       "      <td>209320.0</td>\n",
       "      <td>121692.0</td>\n",
       "      <td>331012.0</td>\n",
       "    </tr>\n",
       "    <tr>\n",
       "      <th>21</th>\n",
       "      <td>153180.0</td>\n",
       "      <td>83603.0</td>\n",
       "      <td>236783.0</td>\n",
       "    </tr>\n",
       "    <tr>\n",
       "      <th>22</th>\n",
       "      <td>86153.0</td>\n",
       "      <td>43768.0</td>\n",
       "      <td>129921.0</td>\n",
       "    </tr>\n",
       "    <tr>\n",
       "      <th>23</th>\n",
       "      <td>42640.0</td>\n",
       "      <td>21050.0</td>\n",
       "      <td>63690.0</td>\n",
       "    </tr>\n",
       "  </tbody>\n",
       "</table>\n",
       "</div>"
      ],
      "text/plain": [
       "                2019      2020       Sum\n",
       "Start_Hour                              \n",
       "0               24.0       4.0      28.0\n",
       "4                3.0       NaN       3.0\n",
       "5               18.0       1.0      19.0\n",
       "6            93125.0   52115.0  145240.0\n",
       "7           186858.0  104249.0  291107.0\n",
       "8           308912.0  169750.0  478662.0\n",
       "9           206590.0  133553.0  340143.0\n",
       "10          161809.0  108782.0  270591.0\n",
       "11          156099.0  106897.0  262996.0\n",
       "12          172601.0  114445.0  287046.0\n",
       "13          212652.0  135948.0  348600.0\n",
       "14          257334.0  159631.0  416965.0\n",
       "15          251693.0  157739.0  409432.0\n",
       "16          223754.0  141966.0  365720.0\n",
       "17          260111.0  168987.0  429098.0\n",
       "18          376960.0  231690.0  608650.0\n",
       "19          308787.0  182979.0  491766.0\n",
       "20          209320.0  121692.0  331012.0\n",
       "21          153180.0   83603.0  236783.0\n",
       "22           86153.0   43768.0  129921.0\n",
       "23           42640.0   21050.0   63690.0"
      ]
     },
     "execution_count": 116,
     "metadata": {},
     "output_type": "execute_result"
    }
   ],
   "source": [
    "Avg_workweek_df"
   ]
  },
  {
   "cell_type": "markdown",
   "id": "7374c1f1",
   "metadata": {},
   "source": [
    "Divide each `Year` column by the number of work weeks in a year to get the average.\n",
    "* There are 52 weeks in a year and 5 days in a work week.\n",
    "* I assume that each year is the same so 52*5 = 260 days"
   ]
  },
  {
   "cell_type": "code",
   "execution_count": 117,
   "id": "d4316616",
   "metadata": {},
   "outputs": [],
   "source": [
    "Avg_workweek_df.loc[:, years] = Avg_workweek_df.loc[:, years]/260"
   ]
  },
  {
   "cell_type": "code",
   "execution_count": 118,
   "id": "000e3a8f",
   "metadata": {},
   "outputs": [
    {
     "data": {
      "text/plain": [
       "<AxesSubplot: xlabel='Start_Hour'>"
      ]
     },
     "execution_count": 118,
     "metadata": {},
     "output_type": "execute_result"
    },
    {
     "data": {
      "image/png": "[encoded data removed]",
      "text/plain": [
       "<Figure size 432x288 with 1 Axes>"
      ]
     },
     "metadata": {
      "needs_background": "light"
     },
     "output_type": "display_data"
    }
   ],
   "source": [
    "(Avg_workweek_df.loc[:, years]/260).sort_index().plot()"
   ]
  },
  {
   "cell_type": "markdown",
   "id": "76ea6046",
   "metadata": {},
   "source": [
    "Divide the `Sum` column by the number of work weeks over the 6 years to get the average.\n",
    "* There are 52 weeks in a year and 5 days in a work week.\n",
    "* I assume that each year is the same so 52*5 = 260 days\n",
    "* There is 2 years worth of data"
   ]
  },
  {
   "cell_type": "code",
   "execution_count": 119,
   "id": "0c5b3e19",
   "metadata": {},
   "outputs": [],
   "source": [
    "Avg_workweek_df['Avg'] = Avg_workweek_df['Sum']/(260*2)"
   ]
  },
  {
   "cell_type": "code",
   "execution_count": 120,
   "id": "5ac16dbb",
   "metadata": {
    "scrolled": true
   },
   "outputs": [
    {
     "data": {
      "text/plain": [
       "<AxesSubplot: xlabel='Start_Hour'>"
      ]
     },
     "execution_count": 120,
     "metadata": {},
     "output_type": "execute_result"
    },
    {
     "data": {
      "image/png": "[encoded data removed]",
      "text/plain": [
       "<Figure size 432x288 with 1 Axes>"
      ]
     },
     "metadata": {
      "needs_background": "light"
     },
     "output_type": "display_data"
    }
   ],
   "source": [
    "Avg_workweek_df['Avg'].sort_index().plot()"
   ]
  },
  {
   "cell_type": "code",
   "execution_count": 121,
   "id": "f70a0047",
   "metadata": {
    "scrolled": true
   },
   "outputs": [
    {
     "data": {
      "text/html": [
       "<div>\n",
       "<style scoped>\n",
       "    .dataframe tbody tr th:only-of-type {\n",
       "        vertical-align: middle;\n",
       "    }\n",
       "\n",
       "    .dataframe tbody tr th {\n",
       "        vertical-align: top;\n",
       "    }\n",
       "\n",
       "    .dataframe thead th {\n",
       "        text-align: right;\n",
       "    }\n",
       "</style>\n",
       "<table border=\"1\" class=\"dataframe\">\n",
       "  <thead>\n",
       "    <tr style=\"text-align: right;\">\n",
       "      <th></th>\n",
       "      <th>2019</th>\n",
       "      <th>2020</th>\n",
       "      <th>Sum</th>\n",
       "      <th>Avg</th>\n",
       "    </tr>\n",
       "    <tr>\n",
       "      <th>Start_Hour</th>\n",
       "      <th></th>\n",
       "      <th></th>\n",
       "      <th></th>\n",
       "      <th></th>\n",
       "    </tr>\n",
       "  </thead>\n",
       "  <tbody>\n",
       "    <tr>\n",
       "      <th>0</th>\n",
       "      <td>0.092308</td>\n",
       "      <td>0.015385</td>\n",
       "      <td>28.0</td>\n",
       "      <td>0.053846</td>\n",
       "    </tr>\n",
       "    <tr>\n",
       "      <th>4</th>\n",
       "      <td>0.011538</td>\n",
       "      <td>NaN</td>\n",
       "      <td>3.0</td>\n",
       "      <td>0.005769</td>\n",
       "    </tr>\n",
       "    <tr>\n",
       "      <th>5</th>\n",
       "      <td>0.069231</td>\n",
       "      <td>0.003846</td>\n",
       "      <td>19.0</td>\n",
       "      <td>0.036538</td>\n",
       "    </tr>\n",
       "    <tr>\n",
       "      <th>6</th>\n",
       "      <td>358.173077</td>\n",
       "      <td>200.442308</td>\n",
       "      <td>145240.0</td>\n",
       "      <td>279.307692</td>\n",
       "    </tr>\n",
       "    <tr>\n",
       "      <th>7</th>\n",
       "      <td>718.684615</td>\n",
       "      <td>400.957692</td>\n",
       "      <td>291107.0</td>\n",
       "      <td>559.821154</td>\n",
       "    </tr>\n",
       "    <tr>\n",
       "      <th>8</th>\n",
       "      <td>1188.123077</td>\n",
       "      <td>652.884615</td>\n",
       "      <td>478662.0</td>\n",
       "      <td>920.503846</td>\n",
       "    </tr>\n",
       "    <tr>\n",
       "      <th>9</th>\n",
       "      <td>794.576923</td>\n",
       "      <td>513.665385</td>\n",
       "      <td>340143.0</td>\n",
       "      <td>654.121154</td>\n",
       "    </tr>\n",
       "    <tr>\n",
       "      <th>10</th>\n",
       "      <td>622.342308</td>\n",
       "      <td>418.392308</td>\n",
       "      <td>270591.0</td>\n",
       "      <td>520.367308</td>\n",
       "    </tr>\n",
       "    <tr>\n",
       "      <th>11</th>\n",
       "      <td>600.380769</td>\n",
       "      <td>411.142308</td>\n",
       "      <td>262996.0</td>\n",
       "      <td>505.761538</td>\n",
       "    </tr>\n",
       "    <tr>\n",
       "      <th>12</th>\n",
       "      <td>663.850000</td>\n",
       "      <td>440.173077</td>\n",
       "      <td>287046.0</td>\n",
       "      <td>552.011538</td>\n",
       "    </tr>\n",
       "    <tr>\n",
       "      <th>13</th>\n",
       "      <td>817.892308</td>\n",
       "      <td>522.876923</td>\n",
       "      <td>348600.0</td>\n",
       "      <td>670.384615</td>\n",
       "    </tr>\n",
       "    <tr>\n",
       "      <th>14</th>\n",
       "      <td>989.746154</td>\n",
       "      <td>613.965385</td>\n",
       "      <td>416965.0</td>\n",
       "      <td>801.855769</td>\n",
       "    </tr>\n",
       "    <tr>\n",
       "      <th>15</th>\n",
       "      <td>968.050000</td>\n",
       "      <td>606.688462</td>\n",
       "      <td>409432.0</td>\n",
       "      <td>787.369231</td>\n",
       "    </tr>\n",
       "    <tr>\n",
       "      <th>16</th>\n",
       "      <td>860.592308</td>\n",
       "      <td>546.023077</td>\n",
       "      <td>365720.0</td>\n",
       "      <td>703.307692</td>\n",
       "    </tr>\n",
       "    <tr>\n",
       "      <th>17</th>\n",
       "      <td>1000.426923</td>\n",
       "      <td>649.950000</td>\n",
       "      <td>429098.0</td>\n",
       "      <td>825.188462</td>\n",
       "    </tr>\n",
       "    <tr>\n",
       "      <th>18</th>\n",
       "      <td>1449.846154</td>\n",
       "      <td>891.115385</td>\n",
       "      <td>608650.0</td>\n",
       "      <td>1170.480769</td>\n",
       "    </tr>\n",
       "    <tr>\n",
       "      <th>19</th>\n",
       "      <td>1187.642308</td>\n",
       "      <td>703.765385</td>\n",
       "      <td>491766.0</td>\n",
       "      <td>945.703846</td>\n",
       "    </tr>\n",
       "    <tr>\n",
       "      <th>20</th>\n",
       "      <td>805.076923</td>\n",
       "      <td>468.046154</td>\n",
       "      <td>331012.0</td>\n",
       "      <td>636.561538</td>\n",
       "    </tr>\n",
       "    <tr>\n",
       "      <th>21</th>\n",
       "      <td>589.153846</td>\n",
       "      <td>321.550000</td>\n",
       "      <td>236783.0</td>\n",
       "      <td>455.351923</td>\n",
       "    </tr>\n",
       "    <tr>\n",
       "      <th>22</th>\n",
       "      <td>331.357692</td>\n",
       "      <td>168.338462</td>\n",
       "      <td>129921.0</td>\n",
       "      <td>249.848077</td>\n",
       "    </tr>\n",
       "    <tr>\n",
       "      <th>23</th>\n",
       "      <td>164.000000</td>\n",
       "      <td>80.961538</td>\n",
       "      <td>63690.0</td>\n",
       "      <td>122.480769</td>\n",
       "    </tr>\n",
       "  </tbody>\n",
       "</table>\n",
       "</div>"
      ],
      "text/plain": [
       "                   2019        2020       Sum          Avg\n",
       "Start_Hour                                                \n",
       "0              0.092308    0.015385      28.0     0.053846\n",
       "4              0.011538         NaN       3.0     0.005769\n",
       "5              0.069231    0.003846      19.0     0.036538\n",
       "6            358.173077  200.442308  145240.0   279.307692\n",
       "7            718.684615  400.957692  291107.0   559.821154\n",
       "8           1188.123077  652.884615  478662.0   920.503846\n",
       "9            794.576923  513.665385  340143.0   654.121154\n",
       "10           622.342308  418.392308  270591.0   520.367308\n",
       "11           600.380769  411.142308  262996.0   505.761538\n",
       "12           663.850000  440.173077  287046.0   552.011538\n",
       "13           817.892308  522.876923  348600.0   670.384615\n",
       "14           989.746154  613.965385  416965.0   801.855769\n",
       "15           968.050000  606.688462  409432.0   787.369231\n",
       "16           860.592308  546.023077  365720.0   703.307692\n",
       "17          1000.426923  649.950000  429098.0   825.188462\n",
       "18          1449.846154  891.115385  608650.0  1170.480769\n",
       "19          1187.642308  703.765385  491766.0   945.703846\n",
       "20           805.076923  468.046154  331012.0   636.561538\n",
       "21           589.153846  321.550000  236783.0   455.351923\n",
       "22           331.357692  168.338462  129921.0   249.848077\n",
       "23           164.000000   80.961538   63690.0   122.480769"
      ]
     },
     "execution_count": 121,
     "metadata": {},
     "output_type": "execute_result"
    }
   ],
   "source": [
    "Avg_workweek_df"
   ]
  },
  {
   "cell_type": "markdown",
   "id": "41596d10",
   "metadata": {},
   "source": [
    "#### Combine Datasets & Export"
   ]
  },
  {
   "cell_type": "markdown",
   "id": "7e4e524e",
   "metadata": {},
   "source": [
    "Delete 'Sum' column since it's not needed."
   ]
  },
  {
   "cell_type": "code",
   "execution_count": 125,
   "id": "5ae7db3e",
   "metadata": {},
   "outputs": [],
   "source": [
    "Avg_workweek_df.drop('Sum', axis=1, inplace=True)\n",
    "Avg_weekend_df.drop('Sum', axis=1, inplace=True)"
   ]
  },
  {
   "cell_type": "code",
   "execution_count": 126,
   "id": "f60f2e4b",
   "metadata": {},
   "outputs": [],
   "source": [
    "# Make wide dataframes into long dataframes\n",
    "Avg_workweek_long_df = \\\n",
    "pd.melt(Avg_workweek_df.reset_index(drop=False), id_vars='Start_Hour', \n",
    "        value_vars=['2019', '2020', 'Avg'])\n",
    "\n",
    "Avg_weekend_long_df = \\\n",
    "pd.melt(Avg_weekend_df.reset_index(drop=False), id_vars='Start_Hour', \n",
    "        value_vars=['2019', '2020', 'Avg'])"
   ]
  },
  {
   "cell_type": "code",
   "execution_count": 127,
   "id": "51633f53",
   "metadata": {},
   "outputs": [
    {
     "data": {
      "text/html": [
       "<div>\n",
       "<style scoped>\n",
       "    .dataframe tbody tr th:only-of-type {\n",
       "        vertical-align: middle;\n",
       "    }\n",
       "\n",
       "    .dataframe tbody tr th {\n",
       "        vertical-align: top;\n",
       "    }\n",
       "\n",
       "    .dataframe thead th {\n",
       "        text-align: right;\n",
       "    }\n",
       "</style>\n",
       "<table border=\"1\" class=\"dataframe\">\n",
       "  <thead>\n",
       "    <tr style=\"text-align: right;\">\n",
       "      <th></th>\n",
       "      <th>Start_Hour</th>\n",
       "      <th>variable</th>\n",
       "      <th>value</th>\n",
       "    </tr>\n",
       "  </thead>\n",
       "  <tbody>\n",
       "    <tr>\n",
       "      <th>0</th>\n",
       "      <td>0</td>\n",
       "      <td>2019</td>\n",
       "      <td>0.092308</td>\n",
       "    </tr>\n",
       "    <tr>\n",
       "      <th>1</th>\n",
       "      <td>4</td>\n",
       "      <td>2019</td>\n",
       "      <td>0.011538</td>\n",
       "    </tr>\n",
       "    <tr>\n",
       "      <th>2</th>\n",
       "      <td>5</td>\n",
       "      <td>2019</td>\n",
       "      <td>0.069231</td>\n",
       "    </tr>\n",
       "    <tr>\n",
       "      <th>3</th>\n",
       "      <td>6</td>\n",
       "      <td>2019</td>\n",
       "      <td>358.173077</td>\n",
       "    </tr>\n",
       "    <tr>\n",
       "      <th>4</th>\n",
       "      <td>7</td>\n",
       "      <td>2019</td>\n",
       "      <td>718.684615</td>\n",
       "    </tr>\n",
       "  </tbody>\n",
       "</table>\n",
       "</div>"
      ],
      "text/plain": [
       "   Start_Hour variable       value\n",
       "0           0     2019    0.092308\n",
       "1           4     2019    0.011538\n",
       "2           5     2019    0.069231\n",
       "3           6     2019  358.173077\n",
       "4           7     2019  718.684615"
      ]
     },
     "execution_count": 127,
     "metadata": {},
     "output_type": "execute_result"
    }
   ],
   "source": [
    "Avg_workweek_long_df.head(5)"
   ]
  },
  {
   "cell_type": "code",
   "execution_count": 128,
   "id": "dadfb0fc",
   "metadata": {},
   "outputs": [],
   "source": [
    "# Rename columns\n",
    "Avg_workweek_long_df.rename(columns={'variable':'Year', 'value':'Count'}, inplace=True)\n",
    "Avg_weekend_long_df.rename(columns={'variable':'Year', 'value':'Count'}, inplace=True)"
   ]
  },
  {
   "cell_type": "code",
   "execution_count": 129,
   "id": "60e84470",
   "metadata": {},
   "outputs": [
    {
     "data": {
      "text/html": [
       "<div>\n",
       "<style scoped>\n",
       "    .dataframe tbody tr th:only-of-type {\n",
       "        vertical-align: middle;\n",
       "    }\n",
       "\n",
       "    .dataframe tbody tr th {\n",
       "        vertical-align: top;\n",
       "    }\n",
       "\n",
       "    .dataframe thead th {\n",
       "        text-align: right;\n",
       "    }\n",
       "</style>\n",
       "<table border=\"1\" class=\"dataframe\">\n",
       "  <thead>\n",
       "    <tr style=\"text-align: right;\">\n",
       "      <th></th>\n",
       "      <th>Start_Hour</th>\n",
       "      <th>Year</th>\n",
       "      <th>Count</th>\n",
       "    </tr>\n",
       "  </thead>\n",
       "  <tbody>\n",
       "    <tr>\n",
       "      <th>0</th>\n",
       "      <td>0</td>\n",
       "      <td>2019</td>\n",
       "      <td>0.092308</td>\n",
       "    </tr>\n",
       "    <tr>\n",
       "      <th>1</th>\n",
       "      <td>4</td>\n",
       "      <td>2019</td>\n",
       "      <td>0.011538</td>\n",
       "    </tr>\n",
       "    <tr>\n",
       "      <th>2</th>\n",
       "      <td>5</td>\n",
       "      <td>2019</td>\n",
       "      <td>0.069231</td>\n",
       "    </tr>\n",
       "    <tr>\n",
       "      <th>3</th>\n",
       "      <td>6</td>\n",
       "      <td>2019</td>\n",
       "      <td>358.173077</td>\n",
       "    </tr>\n",
       "    <tr>\n",
       "      <th>4</th>\n",
       "      <td>7</td>\n",
       "      <td>2019</td>\n",
       "      <td>718.684615</td>\n",
       "    </tr>\n",
       "  </tbody>\n",
       "</table>\n",
       "</div>"
      ],
      "text/plain": [
       "   Start_Hour  Year       Count\n",
       "0           0  2019    0.092308\n",
       "1           4  2019    0.011538\n",
       "2           5  2019    0.069231\n",
       "3           6  2019  358.173077\n",
       "4           7  2019  718.684615"
      ]
     },
     "execution_count": 129,
     "metadata": {},
     "output_type": "execute_result"
    }
   ],
   "source": [
    "Avg_workweek_long_df.head(5)"
   ]
  },
  {
   "cell_type": "code",
   "execution_count": 130,
   "id": "b836ef2a",
   "metadata": {},
   "outputs": [],
   "source": [
    "# Add additional column to differentiate between weekend/workweek\n",
    "Avg_workweek_long_df['Week_Period'] = ['Workweek']*len(Avg_workweek_long_df)\n",
    "\n",
    "Avg_weekend_long_df['Week_Period'] = ['Weekend']*len(Avg_weekend_long_df)"
   ]
  },
  {
   "cell_type": "code",
   "execution_count": 131,
   "id": "5b1f53e4",
   "metadata": {},
   "outputs": [
    {
     "data": {
      "text/html": [
       "<div>\n",
       "<style scoped>\n",
       "    .dataframe tbody tr th:only-of-type {\n",
       "        vertical-align: middle;\n",
       "    }\n",
       "\n",
       "    .dataframe tbody tr th {\n",
       "        vertical-align: top;\n",
       "    }\n",
       "\n",
       "    .dataframe thead th {\n",
       "        text-align: right;\n",
       "    }\n",
       "</style>\n",
       "<table border=\"1\" class=\"dataframe\">\n",
       "  <thead>\n",
       "    <tr style=\"text-align: right;\">\n",
       "      <th></th>\n",
       "      <th>Start_Hour</th>\n",
       "      <th>Year</th>\n",
       "      <th>Count</th>\n",
       "      <th>Week_Period</th>\n",
       "    </tr>\n",
       "  </thead>\n",
       "  <tbody>\n",
       "    <tr>\n",
       "      <th>0</th>\n",
       "      <td>0</td>\n",
       "      <td>2019</td>\n",
       "      <td>0.092308</td>\n",
       "      <td>Workweek</td>\n",
       "    </tr>\n",
       "    <tr>\n",
       "      <th>1</th>\n",
       "      <td>4</td>\n",
       "      <td>2019</td>\n",
       "      <td>0.011538</td>\n",
       "      <td>Workweek</td>\n",
       "    </tr>\n",
       "    <tr>\n",
       "      <th>2</th>\n",
       "      <td>5</td>\n",
       "      <td>2019</td>\n",
       "      <td>0.069231</td>\n",
       "      <td>Workweek</td>\n",
       "    </tr>\n",
       "    <tr>\n",
       "      <th>3</th>\n",
       "      <td>6</td>\n",
       "      <td>2019</td>\n",
       "      <td>358.173077</td>\n",
       "      <td>Workweek</td>\n",
       "    </tr>\n",
       "    <tr>\n",
       "      <th>4</th>\n",
       "      <td>7</td>\n",
       "      <td>2019</td>\n",
       "      <td>718.684615</td>\n",
       "      <td>Workweek</td>\n",
       "    </tr>\n",
       "  </tbody>\n",
       "</table>\n",
       "</div>"
      ],
      "text/plain": [
       "   Start_Hour  Year       Count Week_Period\n",
       "0           0  2019    0.092308    Workweek\n",
       "1           4  2019    0.011538    Workweek\n",
       "2           5  2019    0.069231    Workweek\n",
       "3           6  2019  358.173077    Workweek\n",
       "4           7  2019  718.684615    Workweek"
      ]
     },
     "execution_count": 131,
     "metadata": {},
     "output_type": "execute_result"
    }
   ],
   "source": [
    "Avg_workweek_long_df.head(5)"
   ]
  },
  {
   "cell_type": "code",
   "execution_count": 132,
   "id": "deca93b4",
   "metadata": {},
   "outputs": [],
   "source": [
    "# pd.concat([Avg_workweek_long_df, Avg_weekend_long_df], axis=0) \\\n",
    "# .to_csv('../../MiBici_Data/Tableau_Datasets/Question_3/AvgTrip_PerHour_Annual.csv', index=False, encoding = 'utf-8')"
   ]
  },
  {
   "cell_type": "markdown",
   "id": "b34d156d",
   "metadata": {},
   "source": [
    "### Circular HeatMap"
   ]
  },
  {
   "cell_type": "markdown",
   "id": "e063139b",
   "metadata": {},
   "source": [
    "Ultimate goal is to obtain a dataset that has the number trips per hour for every date (Y-m-d) in the dataset."
   ]
  },
  {
   "cell_type": "code",
   "execution_count": 133,
   "id": "13b73fc2",
   "metadata": {},
   "outputs": [],
   "source": [
    "# Obtain the start time and start hr columns per year and combine them into one dataframe\n",
    "df_hourly = pd.concat([i[['Start_Time', 'Start_Hour']] for i in years_df], axis=0).sort_values('Start_Time')"
   ]
  },
  {
   "cell_type": "code",
   "execution_count": 134,
   "id": "328c5325",
   "metadata": {},
   "outputs": [],
   "source": [
    "# sort dataframe by start time\n",
    "df_hourly.sort_values('Start_Time', inplace = True)"
   ]
  },
  {
   "cell_type": "code",
   "execution_count": 135,
   "id": "ad99e81a",
   "metadata": {},
   "outputs": [],
   "source": [
    "# obtain the # of trips per hour of each day\n",
    "df_hr_count = pd.DataFrame(df_hourly.groupby(['Start_Time', 'Start_Hour']).size())"
   ]
  },
  {
   "cell_type": "code",
   "execution_count": 136,
   "id": "ea68c54b",
   "metadata": {},
   "outputs": [],
   "source": [
    "# reset indices\n",
    "df_hr_count.reset_index(drop=False, inplace=True)"
   ]
  },
  {
   "cell_type": "code",
   "execution_count": 137,
   "id": "feb914ab",
   "metadata": {},
   "outputs": [],
   "source": [
    "# create a column that combines the start time and hour 'y-m-d h:00'\n",
    "df_hr_count['Start_Time_Hour'] = pd.to_datetime(df_hr_count.Start_Time + ' ' + df_hr_count.Start_Hour.astype('str')+':00')"
   ]
  },
  {
   "cell_type": "code",
   "execution_count": 138,
   "id": "5c9f8679",
   "metadata": {},
   "outputs": [],
   "source": [
    "# rename columns\n",
    "df_hr_count.columns = ['Start_Time', 'Start_Hour', 'Count', 'Start_Time_Hour']"
   ]
  },
  {
   "cell_type": "code",
   "execution_count": 139,
   "id": "5364420e",
   "metadata": {},
   "outputs": [
    {
     "data": {
      "text/html": [
       "<div>\n",
       "<style scoped>\n",
       "    .dataframe tbody tr th:only-of-type {\n",
       "        vertical-align: middle;\n",
       "    }\n",
       "\n",
       "    .dataframe tbody tr th {\n",
       "        vertical-align: top;\n",
       "    }\n",
       "\n",
       "    .dataframe thead th {\n",
       "        text-align: right;\n",
       "    }\n",
       "</style>\n",
       "<table border=\"1\" class=\"dataframe\">\n",
       "  <thead>\n",
       "    <tr style=\"text-align: right;\">\n",
       "      <th></th>\n",
       "      <th>Start_Time</th>\n",
       "      <th>Start_Hour</th>\n",
       "      <th>Count</th>\n",
       "      <th>Start_Time_Hour</th>\n",
       "    </tr>\n",
       "  </thead>\n",
       "  <tbody>\n",
       "    <tr>\n",
       "      <th>0</th>\n",
       "      <td>2019-01-01</td>\n",
       "      <td>0</td>\n",
       "      <td>1</td>\n",
       "      <td>2019-01-01 00:00:00</td>\n",
       "    </tr>\n",
       "    <tr>\n",
       "      <th>1</th>\n",
       "      <td>2019-01-01</td>\n",
       "      <td>6</td>\n",
       "      <td>52</td>\n",
       "      <td>2019-01-01 06:00:00</td>\n",
       "    </tr>\n",
       "    <tr>\n",
       "      <th>2</th>\n",
       "      <td>2019-01-01</td>\n",
       "      <td>7</td>\n",
       "      <td>39</td>\n",
       "      <td>2019-01-01 07:00:00</td>\n",
       "    </tr>\n",
       "    <tr>\n",
       "      <th>3</th>\n",
       "      <td>2019-01-01</td>\n",
       "      <td>8</td>\n",
       "      <td>46</td>\n",
       "      <td>2019-01-01 08:00:00</td>\n",
       "    </tr>\n",
       "    <tr>\n",
       "      <th>4</th>\n",
       "      <td>2019-01-01</td>\n",
       "      <td>9</td>\n",
       "      <td>74</td>\n",
       "      <td>2019-01-01 09:00:00</td>\n",
       "    </tr>\n",
       "    <tr>\n",
       "      <th>...</th>\n",
       "      <td>...</td>\n",
       "      <td>...</td>\n",
       "      <td>...</td>\n",
       "      <td>...</td>\n",
       "    </tr>\n",
       "    <tr>\n",
       "      <th>13214</th>\n",
       "      <td>2020-12-31</td>\n",
       "      <td>19</td>\n",
       "      <td>199</td>\n",
       "      <td>2020-12-31 19:00:00</td>\n",
       "    </tr>\n",
       "    <tr>\n",
       "      <th>13215</th>\n",
       "      <td>2020-12-31</td>\n",
       "      <td>20</td>\n",
       "      <td>115</td>\n",
       "      <td>2020-12-31 20:00:00</td>\n",
       "    </tr>\n",
       "    <tr>\n",
       "      <th>13216</th>\n",
       "      <td>2020-12-31</td>\n",
       "      <td>21</td>\n",
       "      <td>76</td>\n",
       "      <td>2020-12-31 21:00:00</td>\n",
       "    </tr>\n",
       "    <tr>\n",
       "      <th>13217</th>\n",
       "      <td>2020-12-31</td>\n",
       "      <td>22</td>\n",
       "      <td>33</td>\n",
       "      <td>2020-12-31 22:00:00</td>\n",
       "    </tr>\n",
       "    <tr>\n",
       "      <th>13218</th>\n",
       "      <td>2020-12-31</td>\n",
       "      <td>23</td>\n",
       "      <td>18</td>\n",
       "      <td>2020-12-31 23:00:00</td>\n",
       "    </tr>\n",
       "  </tbody>\n",
       "</table>\n",
       "<p>13219 rows × 4 columns</p>\n",
       "</div>"
      ],
      "text/plain": [
       "       Start_Time  Start_Hour  Count     Start_Time_Hour\n",
       "0      2019-01-01           0      1 2019-01-01 00:00:00\n",
       "1      2019-01-01           6     52 2019-01-01 06:00:00\n",
       "2      2019-01-01           7     39 2019-01-01 07:00:00\n",
       "3      2019-01-01           8     46 2019-01-01 08:00:00\n",
       "4      2019-01-01           9     74 2019-01-01 09:00:00\n",
       "...           ...         ...    ...                 ...\n",
       "13214  2020-12-31          19    199 2020-12-31 19:00:00\n",
       "13215  2020-12-31          20    115 2020-12-31 20:00:00\n",
       "13216  2020-12-31          21     76 2020-12-31 21:00:00\n",
       "13217  2020-12-31          22     33 2020-12-31 22:00:00\n",
       "13218  2020-12-31          23     18 2020-12-31 23:00:00\n",
       "\n",
       "[13219 rows x 4 columns]"
      ]
     },
     "execution_count": 139,
     "metadata": {},
     "output_type": "execute_result"
    }
   ],
   "source": [
    "df_hr_count"
   ]
  },
  {
   "cell_type": "markdown",
   "id": "4f38dc9d",
   "metadata": {},
   "source": [
    "Find the hours per day that are misising from the dataframe. MiBici doesn't usually operate between 1h-5h. These will be added to the dataframe eventually with a count value of zero"
   ]
  },
  {
   "cell_type": "code",
   "execution_count": 140,
   "id": "0ea445c5",
   "metadata": {},
   "outputs": [
    {
     "data": {
      "text/plain": [
       "DatetimeIndex(['2019-01-01 01:00:00', '2019-01-01 02:00:00',\n",
       "               '2019-01-01 03:00:00', '2019-01-01 04:00:00',\n",
       "               '2019-01-01 05:00:00', '2019-01-02 00:00:00',\n",
       "               '2019-01-02 01:00:00', '2019-01-02 02:00:00',\n",
       "               '2019-01-02 03:00:00', '2019-01-02 04:00:00',\n",
       "               ...\n",
       "               '2020-12-30 02:00:00', '2020-12-30 03:00:00',\n",
       "               '2020-12-30 04:00:00', '2020-12-30 05:00:00',\n",
       "               '2020-12-31 00:00:00', '2020-12-31 01:00:00',\n",
       "               '2020-12-31 02:00:00', '2020-12-31 03:00:00',\n",
       "               '2020-12-31 04:00:00', '2020-12-31 05:00:00'],\n",
       "              dtype='datetime64[ns]', length=4325, freq=None)"
      ]
     },
     "execution_count": 140,
     "metadata": {},
     "output_type": "execute_result"
    }
   ],
   "source": [
    "# create a range of dates/hours and compare to what is in df_hr_counts\n",
    "pd.date_range(start = '2019-01-01 00:00:00', end = '2020-12-31 23:59:59', freq = 'H').difference(df_hr_count.Start_Time_Hour)"
   ]
  },
  {
   "cell_type": "code",
   "execution_count": 141,
   "id": "4086ccbe",
   "metadata": {},
   "outputs": [],
   "source": [
    "# create dataframe of missing hours.\n",
    "df_missing_hrs = pd.DataFrame()\n",
    "df_missing_hrs['Start_Time_Hour'] = pd.date_range(start = '2019-01-01 00:00:00', end = '2020-12-31 23:59:59', freq = 'H').difference(df_hr_count.Start_Time_Hour)"
   ]
  },
  {
   "cell_type": "code",
   "execution_count": 142,
   "id": "ebcf1e5e",
   "metadata": {},
   "outputs": [
    {
     "data": {
      "text/html": [
       "<div>\n",
       "<style scoped>\n",
       "    .dataframe tbody tr th:only-of-type {\n",
       "        vertical-align: middle;\n",
       "    }\n",
       "\n",
       "    .dataframe tbody tr th {\n",
       "        vertical-align: top;\n",
       "    }\n",
       "\n",
       "    .dataframe thead th {\n",
       "        text-align: right;\n",
       "    }\n",
       "</style>\n",
       "<table border=\"1\" class=\"dataframe\">\n",
       "  <thead>\n",
       "    <tr style=\"text-align: right;\">\n",
       "      <th></th>\n",
       "      <th>Start_Time_Hour</th>\n",
       "    </tr>\n",
       "  </thead>\n",
       "  <tbody>\n",
       "    <tr>\n",
       "      <th>0</th>\n",
       "      <td>2019-01-01 01:00:00</td>\n",
       "    </tr>\n",
       "    <tr>\n",
       "      <th>1</th>\n",
       "      <td>2019-01-01 02:00:00</td>\n",
       "    </tr>\n",
       "    <tr>\n",
       "      <th>2</th>\n",
       "      <td>2019-01-01 03:00:00</td>\n",
       "    </tr>\n",
       "    <tr>\n",
       "      <th>3</th>\n",
       "      <td>2019-01-01 04:00:00</td>\n",
       "    </tr>\n",
       "    <tr>\n",
       "      <th>4</th>\n",
       "      <td>2019-01-01 05:00:00</td>\n",
       "    </tr>\n",
       "    <tr>\n",
       "      <th>...</th>\n",
       "      <td>...</td>\n",
       "    </tr>\n",
       "    <tr>\n",
       "      <th>4320</th>\n",
       "      <td>2020-12-31 01:00:00</td>\n",
       "    </tr>\n",
       "    <tr>\n",
       "      <th>4321</th>\n",
       "      <td>2020-12-31 02:00:00</td>\n",
       "    </tr>\n",
       "    <tr>\n",
       "      <th>4322</th>\n",
       "      <td>2020-12-31 03:00:00</td>\n",
       "    </tr>\n",
       "    <tr>\n",
       "      <th>4323</th>\n",
       "      <td>2020-12-31 04:00:00</td>\n",
       "    </tr>\n",
       "    <tr>\n",
       "      <th>4324</th>\n",
       "      <td>2020-12-31 05:00:00</td>\n",
       "    </tr>\n",
       "  </tbody>\n",
       "</table>\n",
       "<p>4325 rows × 1 columns</p>\n",
       "</div>"
      ],
      "text/plain": [
       "         Start_Time_Hour\n",
       "0    2019-01-01 01:00:00\n",
       "1    2019-01-01 02:00:00\n",
       "2    2019-01-01 03:00:00\n",
       "3    2019-01-01 04:00:00\n",
       "4    2019-01-01 05:00:00\n",
       "...                  ...\n",
       "4320 2020-12-31 01:00:00\n",
       "4321 2020-12-31 02:00:00\n",
       "4322 2020-12-31 03:00:00\n",
       "4323 2020-12-31 04:00:00\n",
       "4324 2020-12-31 05:00:00\n",
       "\n",
       "[4325 rows x 1 columns]"
      ]
     },
     "execution_count": 142,
     "metadata": {},
     "output_type": "execute_result"
    }
   ],
   "source": [
    "df_missing_hrs"
   ]
  },
  {
   "cell_type": "markdown",
   "id": "34a80f83",
   "metadata": {},
   "source": [
    "Create dataframe of missing hours in similar style of `df_hr_count` to concatenate the two"
   ]
  },
  {
   "cell_type": "code",
   "execution_count": 143,
   "id": "e6cec8ac",
   "metadata": {},
   "outputs": [],
   "source": [
    "df_missing_hrs['Start_Time'] = df_missing_hrs['Start_Time_Hour'].dt.strftime(\"%Y-%m-%d\")\n",
    "df_missing_hrs['Start_Hour'] = df_missing_hrs['Start_Time_Hour'].dt.strftime(\"%H\")\n",
    "df_missing_hrs['Count'] = 0"
   ]
  },
  {
   "cell_type": "code",
   "execution_count": 144,
   "id": "fe063ee2",
   "metadata": {},
   "outputs": [
    {
     "data": {
      "text/html": [
       "<div>\n",
       "<style scoped>\n",
       "    .dataframe tbody tr th:only-of-type {\n",
       "        vertical-align: middle;\n",
       "    }\n",
       "\n",
       "    .dataframe tbody tr th {\n",
       "        vertical-align: top;\n",
       "    }\n",
       "\n",
       "    .dataframe thead th {\n",
       "        text-align: right;\n",
       "    }\n",
       "</style>\n",
       "<table border=\"1\" class=\"dataframe\">\n",
       "  <thead>\n",
       "    <tr style=\"text-align: right;\">\n",
       "      <th></th>\n",
       "      <th>Start_Time_Hour</th>\n",
       "      <th>Start_Time</th>\n",
       "      <th>Start_Hour</th>\n",
       "      <th>Count</th>\n",
       "    </tr>\n",
       "  </thead>\n",
       "  <tbody>\n",
       "    <tr>\n",
       "      <th>0</th>\n",
       "      <td>2019-01-01 01:00:00</td>\n",
       "      <td>2019-01-01</td>\n",
       "      <td>01</td>\n",
       "      <td>0</td>\n",
       "    </tr>\n",
       "    <tr>\n",
       "      <th>1</th>\n",
       "      <td>2019-01-01 02:00:00</td>\n",
       "      <td>2019-01-01</td>\n",
       "      <td>02</td>\n",
       "      <td>0</td>\n",
       "    </tr>\n",
       "    <tr>\n",
       "      <th>2</th>\n",
       "      <td>2019-01-01 03:00:00</td>\n",
       "      <td>2019-01-01</td>\n",
       "      <td>03</td>\n",
       "      <td>0</td>\n",
       "    </tr>\n",
       "    <tr>\n",
       "      <th>3</th>\n",
       "      <td>2019-01-01 04:00:00</td>\n",
       "      <td>2019-01-01</td>\n",
       "      <td>04</td>\n",
       "      <td>0</td>\n",
       "    </tr>\n",
       "    <tr>\n",
       "      <th>4</th>\n",
       "      <td>2019-01-01 05:00:00</td>\n",
       "      <td>2019-01-01</td>\n",
       "      <td>05</td>\n",
       "      <td>0</td>\n",
       "    </tr>\n",
       "    <tr>\n",
       "      <th>...</th>\n",
       "      <td>...</td>\n",
       "      <td>...</td>\n",
       "      <td>...</td>\n",
       "      <td>...</td>\n",
       "    </tr>\n",
       "    <tr>\n",
       "      <th>4320</th>\n",
       "      <td>2020-12-31 01:00:00</td>\n",
       "      <td>2020-12-31</td>\n",
       "      <td>01</td>\n",
       "      <td>0</td>\n",
       "    </tr>\n",
       "    <tr>\n",
       "      <th>4321</th>\n",
       "      <td>2020-12-31 02:00:00</td>\n",
       "      <td>2020-12-31</td>\n",
       "      <td>02</td>\n",
       "      <td>0</td>\n",
       "    </tr>\n",
       "    <tr>\n",
       "      <th>4322</th>\n",
       "      <td>2020-12-31 03:00:00</td>\n",
       "      <td>2020-12-31</td>\n",
       "      <td>03</td>\n",
       "      <td>0</td>\n",
       "    </tr>\n",
       "    <tr>\n",
       "      <th>4323</th>\n",
       "      <td>2020-12-31 04:00:00</td>\n",
       "      <td>2020-12-31</td>\n",
       "      <td>04</td>\n",
       "      <td>0</td>\n",
       "    </tr>\n",
       "    <tr>\n",
       "      <th>4324</th>\n",
       "      <td>2020-12-31 05:00:00</td>\n",
       "      <td>2020-12-31</td>\n",
       "      <td>05</td>\n",
       "      <td>0</td>\n",
       "    </tr>\n",
       "  </tbody>\n",
       "</table>\n",
       "<p>4325 rows × 4 columns</p>\n",
       "</div>"
      ],
      "text/plain": [
       "         Start_Time_Hour  Start_Time Start_Hour  Count\n",
       "0    2019-01-01 01:00:00  2019-01-01         01      0\n",
       "1    2019-01-01 02:00:00  2019-01-01         02      0\n",
       "2    2019-01-01 03:00:00  2019-01-01         03      0\n",
       "3    2019-01-01 04:00:00  2019-01-01         04      0\n",
       "4    2019-01-01 05:00:00  2019-01-01         05      0\n",
       "...                  ...         ...        ...    ...\n",
       "4320 2020-12-31 01:00:00  2020-12-31         01      0\n",
       "4321 2020-12-31 02:00:00  2020-12-31         02      0\n",
       "4322 2020-12-31 03:00:00  2020-12-31         03      0\n",
       "4323 2020-12-31 04:00:00  2020-12-31         04      0\n",
       "4324 2020-12-31 05:00:00  2020-12-31         05      0\n",
       "\n",
       "[4325 rows x 4 columns]"
      ]
     },
     "execution_count": 144,
     "metadata": {},
     "output_type": "execute_result"
    }
   ],
   "source": [
    "df_missing_hrs"
   ]
  },
  {
   "cell_type": "markdown",
   "id": "b348da8e",
   "metadata": {},
   "source": [
    "Combine the df_hr_count & df_missing_hrs dataframes"
   ]
  },
  {
   "cell_type": "code",
   "execution_count": 145,
   "id": "2d55f727",
   "metadata": {},
   "outputs": [],
   "source": [
    "# combine datasets\n",
    "Radial_df = pd.concat([df_hr_count, df_missing_hrs], axis = 0)\n",
    "\n",
    "#rename columns\n",
    "Radial_df.columns = ['Date', 'Hr', 'Count', 'Date_Hr_Count']\n",
    "\n",
    "# reorder columns\n",
    "Radial_df = Radial_df[['Date_Hr_Count', 'Hr', 'Count', 'Date']]"
   ]
  },
  {
   "cell_type": "code",
   "execution_count": 146,
   "id": "82c07cfc",
   "metadata": {},
   "outputs": [
    {
     "data": {
      "text/html": [
       "<div>\n",
       "<style scoped>\n",
       "    .dataframe tbody tr th:only-of-type {\n",
       "        vertical-align: middle;\n",
       "    }\n",
       "\n",
       "    .dataframe tbody tr th {\n",
       "        vertical-align: top;\n",
       "    }\n",
       "\n",
       "    .dataframe thead th {\n",
       "        text-align: right;\n",
       "    }\n",
       "</style>\n",
       "<table border=\"1\" class=\"dataframe\">\n",
       "  <thead>\n",
       "    <tr style=\"text-align: right;\">\n",
       "      <th></th>\n",
       "      <th>Date_Hr_Count</th>\n",
       "      <th>Hr</th>\n",
       "      <th>Count</th>\n",
       "      <th>Date</th>\n",
       "    </tr>\n",
       "  </thead>\n",
       "  <tbody>\n",
       "    <tr>\n",
       "      <th>0</th>\n",
       "      <td>2019-01-01 00:00:00</td>\n",
       "      <td>0</td>\n",
       "      <td>1</td>\n",
       "      <td>2019-01-01</td>\n",
       "    </tr>\n",
       "    <tr>\n",
       "      <th>1</th>\n",
       "      <td>2019-01-01 06:00:00</td>\n",
       "      <td>6</td>\n",
       "      <td>52</td>\n",
       "      <td>2019-01-01</td>\n",
       "    </tr>\n",
       "    <tr>\n",
       "      <th>2</th>\n",
       "      <td>2019-01-01 07:00:00</td>\n",
       "      <td>7</td>\n",
       "      <td>39</td>\n",
       "      <td>2019-01-01</td>\n",
       "    </tr>\n",
       "    <tr>\n",
       "      <th>3</th>\n",
       "      <td>2019-01-01 08:00:00</td>\n",
       "      <td>8</td>\n",
       "      <td>46</td>\n",
       "      <td>2019-01-01</td>\n",
       "    </tr>\n",
       "    <tr>\n",
       "      <th>4</th>\n",
       "      <td>2019-01-01 09:00:00</td>\n",
       "      <td>9</td>\n",
       "      <td>74</td>\n",
       "      <td>2019-01-01</td>\n",
       "    </tr>\n",
       "    <tr>\n",
       "      <th>...</th>\n",
       "      <td>...</td>\n",
       "      <td>...</td>\n",
       "      <td>...</td>\n",
       "      <td>...</td>\n",
       "    </tr>\n",
       "    <tr>\n",
       "      <th>4320</th>\n",
       "      <td>2020-12-31 01:00:00</td>\n",
       "      <td>01</td>\n",
       "      <td>0</td>\n",
       "      <td>2020-12-31</td>\n",
       "    </tr>\n",
       "    <tr>\n",
       "      <th>4321</th>\n",
       "      <td>2020-12-31 02:00:00</td>\n",
       "      <td>02</td>\n",
       "      <td>0</td>\n",
       "      <td>2020-12-31</td>\n",
       "    </tr>\n",
       "    <tr>\n",
       "      <th>4322</th>\n",
       "      <td>2020-12-31 03:00:00</td>\n",
       "      <td>03</td>\n",
       "      <td>0</td>\n",
       "      <td>2020-12-31</td>\n",
       "    </tr>\n",
       "    <tr>\n",
       "      <th>4323</th>\n",
       "      <td>2020-12-31 04:00:00</td>\n",
       "      <td>04</td>\n",
       "      <td>0</td>\n",
       "      <td>2020-12-31</td>\n",
       "    </tr>\n",
       "    <tr>\n",
       "      <th>4324</th>\n",
       "      <td>2020-12-31 05:00:00</td>\n",
       "      <td>05</td>\n",
       "      <td>0</td>\n",
       "      <td>2020-12-31</td>\n",
       "    </tr>\n",
       "  </tbody>\n",
       "</table>\n",
       "<p>17544 rows × 4 columns</p>\n",
       "</div>"
      ],
      "text/plain": [
       "           Date_Hr_Count  Hr  Count        Date\n",
       "0    2019-01-01 00:00:00   0      1  2019-01-01\n",
       "1    2019-01-01 06:00:00   6     52  2019-01-01\n",
       "2    2019-01-01 07:00:00   7     39  2019-01-01\n",
       "3    2019-01-01 08:00:00   8     46  2019-01-01\n",
       "4    2019-01-01 09:00:00   9     74  2019-01-01\n",
       "...                  ...  ..    ...         ...\n",
       "4320 2020-12-31 01:00:00  01      0  2020-12-31\n",
       "4321 2020-12-31 02:00:00  02      0  2020-12-31\n",
       "4322 2020-12-31 03:00:00  03      0  2020-12-31\n",
       "4323 2020-12-31 04:00:00  04      0  2020-12-31\n",
       "4324 2020-12-31 05:00:00  05      0  2020-12-31\n",
       "\n",
       "[17544 rows x 4 columns]"
      ]
     },
     "execution_count": 146,
     "metadata": {},
     "output_type": "execute_result"
    }
   ],
   "source": [
    "Radial_df"
   ]
  },
  {
   "cell_type": "markdown",
   "id": "c48a4371",
   "metadata": {},
   "source": [
    "Reformat for Tableau"
   ]
  },
  {
   "cell_type": "code",
   "execution_count": 150,
   "id": "b7499f88",
   "metadata": {},
   "outputs": [],
   "source": [
    "# Turn Hr column to type integer\n",
    "Radial_df['Hr'] = Radial_df['Hr'].astype('int')"
   ]
  },
  {
   "cell_type": "code",
   "execution_count": 151,
   "id": "6e10b96a",
   "metadata": {},
   "outputs": [],
   "source": [
    "# Turn Date_Hr_Count column into type datetime \n",
    "Radial_df['Date_Hr_Count'] = pd.to_datetime(Radial_df['Date_Hr_Count'])"
   ]
  },
  {
   "cell_type": "code",
   "execution_count": 152,
   "id": "d7a4ff22",
   "metadata": {},
   "outputs": [],
   "source": [
    "# sort dataframe by date\n",
    "Radial_df.sort_values(by=['Date_Hr_Count'], ignore_index=True, inplace=True)"
   ]
  },
  {
   "cell_type": "code",
   "execution_count": 153,
   "id": "d0014dd4",
   "metadata": {},
   "outputs": [],
   "source": [
    "# Extract year from Date column and create new column \n",
    "Radial_df['Year'] = Radial_df['Date_Hr_Count'].dt.year"
   ]
  },
  {
   "cell_type": "code",
   "execution_count": 154,
   "id": "c6a74286",
   "metadata": {},
   "outputs": [
    {
     "data": {
      "text/html": [
       "<div>\n",
       "<style scoped>\n",
       "    .dataframe tbody tr th:only-of-type {\n",
       "        vertical-align: middle;\n",
       "    }\n",
       "\n",
       "    .dataframe tbody tr th {\n",
       "        vertical-align: top;\n",
       "    }\n",
       "\n",
       "    .dataframe thead th {\n",
       "        text-align: right;\n",
       "    }\n",
       "</style>\n",
       "<table border=\"1\" class=\"dataframe\">\n",
       "  <thead>\n",
       "    <tr style=\"text-align: right;\">\n",
       "      <th></th>\n",
       "      <th>Date_Hr_Count</th>\n",
       "      <th>Hr</th>\n",
       "      <th>Count</th>\n",
       "      <th>Date</th>\n",
       "      <th>Year</th>\n",
       "    </tr>\n",
       "  </thead>\n",
       "  <tbody>\n",
       "    <tr>\n",
       "      <th>0</th>\n",
       "      <td>2019-01-01 00:00:00</td>\n",
       "      <td>0</td>\n",
       "      <td>1</td>\n",
       "      <td>2019-01-01</td>\n",
       "      <td>2019</td>\n",
       "    </tr>\n",
       "    <tr>\n",
       "      <th>1</th>\n",
       "      <td>2019-01-01 01:00:00</td>\n",
       "      <td>1</td>\n",
       "      <td>0</td>\n",
       "      <td>2019-01-01</td>\n",
       "      <td>2019</td>\n",
       "    </tr>\n",
       "    <tr>\n",
       "      <th>2</th>\n",
       "      <td>2019-01-01 02:00:00</td>\n",
       "      <td>2</td>\n",
       "      <td>0</td>\n",
       "      <td>2019-01-01</td>\n",
       "      <td>2019</td>\n",
       "    </tr>\n",
       "    <tr>\n",
       "      <th>3</th>\n",
       "      <td>2019-01-01 03:00:00</td>\n",
       "      <td>3</td>\n",
       "      <td>0</td>\n",
       "      <td>2019-01-01</td>\n",
       "      <td>2019</td>\n",
       "    </tr>\n",
       "    <tr>\n",
       "      <th>4</th>\n",
       "      <td>2019-01-01 04:00:00</td>\n",
       "      <td>4</td>\n",
       "      <td>0</td>\n",
       "      <td>2019-01-01</td>\n",
       "      <td>2019</td>\n",
       "    </tr>\n",
       "    <tr>\n",
       "      <th>...</th>\n",
       "      <td>...</td>\n",
       "      <td>...</td>\n",
       "      <td>...</td>\n",
       "      <td>...</td>\n",
       "      <td>...</td>\n",
       "    </tr>\n",
       "    <tr>\n",
       "      <th>17539</th>\n",
       "      <td>2020-12-31 19:00:00</td>\n",
       "      <td>19</td>\n",
       "      <td>199</td>\n",
       "      <td>2020-12-31</td>\n",
       "      <td>2020</td>\n",
       "    </tr>\n",
       "    <tr>\n",
       "      <th>17540</th>\n",
       "      <td>2020-12-31 20:00:00</td>\n",
       "      <td>20</td>\n",
       "      <td>115</td>\n",
       "      <td>2020-12-31</td>\n",
       "      <td>2020</td>\n",
       "    </tr>\n",
       "    <tr>\n",
       "      <th>17541</th>\n",
       "      <td>2020-12-31 21:00:00</td>\n",
       "      <td>21</td>\n",
       "      <td>76</td>\n",
       "      <td>2020-12-31</td>\n",
       "      <td>2020</td>\n",
       "    </tr>\n",
       "    <tr>\n",
       "      <th>17542</th>\n",
       "      <td>2020-12-31 22:00:00</td>\n",
       "      <td>22</td>\n",
       "      <td>33</td>\n",
       "      <td>2020-12-31</td>\n",
       "      <td>2020</td>\n",
       "    </tr>\n",
       "    <tr>\n",
       "      <th>17543</th>\n",
       "      <td>2020-12-31 23:00:00</td>\n",
       "      <td>23</td>\n",
       "      <td>18</td>\n",
       "      <td>2020-12-31</td>\n",
       "      <td>2020</td>\n",
       "    </tr>\n",
       "  </tbody>\n",
       "</table>\n",
       "<p>17544 rows × 5 columns</p>\n",
       "</div>"
      ],
      "text/plain": [
       "            Date_Hr_Count  Hr  Count        Date  Year\n",
       "0     2019-01-01 00:00:00   0      1  2019-01-01  2019\n",
       "1     2019-01-01 01:00:00   1      0  2019-01-01  2019\n",
       "2     2019-01-01 02:00:00   2      0  2019-01-01  2019\n",
       "3     2019-01-01 03:00:00   3      0  2019-01-01  2019\n",
       "4     2019-01-01 04:00:00   4      0  2019-01-01  2019\n",
       "...                   ...  ..    ...         ...   ...\n",
       "17539 2020-12-31 19:00:00  19    199  2020-12-31  2020\n",
       "17540 2020-12-31 20:00:00  20    115  2020-12-31  2020\n",
       "17541 2020-12-31 21:00:00  21     76  2020-12-31  2020\n",
       "17542 2020-12-31 22:00:00  22     33  2020-12-31  2020\n",
       "17543 2020-12-31 23:00:00  23     18  2020-12-31  2020\n",
       "\n",
       "[17544 rows x 5 columns]"
      ]
     },
     "execution_count": 154,
     "metadata": {},
     "output_type": "execute_result"
    }
   ],
   "source": [
    "Radial_df"
   ]
  },
  {
   "cell_type": "markdown",
   "id": "7d15b158",
   "metadata": {},
   "source": [
    "Add column `day_index` that indicates the day of the year for each date [1, 2, ..., 366]"
   ]
  },
  {
   "cell_type": "code",
   "execution_count": 172,
   "id": "73b01c49",
   "metadata": {},
   "outputs": [],
   "source": [
    "Radial_df['day_index'] = Radial_df.Date_Hr_Count.dt.strftime('%j').astype('int') + 300"
   ]
  },
  {
   "cell_type": "code",
   "execution_count": 173,
   "id": "b8d3bc63",
   "metadata": {},
   "outputs": [
    {
     "data": {
      "text/html": [
       "<div>\n",
       "<style scoped>\n",
       "    .dataframe tbody tr th:only-of-type {\n",
       "        vertical-align: middle;\n",
       "    }\n",
       "\n",
       "    .dataframe tbody tr th {\n",
       "        vertical-align: top;\n",
       "    }\n",
       "\n",
       "    .dataframe thead th {\n",
       "        text-align: right;\n",
       "    }\n",
       "</style>\n",
       "<table border=\"1\" class=\"dataframe\">\n",
       "  <thead>\n",
       "    <tr style=\"text-align: right;\">\n",
       "      <th></th>\n",
       "      <th>Date_Hr_Count</th>\n",
       "      <th>Hr</th>\n",
       "      <th>Count</th>\n",
       "      <th>Date</th>\n",
       "      <th>Year</th>\n",
       "      <th>day_index</th>\n",
       "    </tr>\n",
       "  </thead>\n",
       "  <tbody>\n",
       "    <tr>\n",
       "      <th>0</th>\n",
       "      <td>2019-01-01 00:00:00</td>\n",
       "      <td>0</td>\n",
       "      <td>1</td>\n",
       "      <td>2019-01-01</td>\n",
       "      <td>2019</td>\n",
       "      <td>301</td>\n",
       "    </tr>\n",
       "    <tr>\n",
       "      <th>1</th>\n",
       "      <td>2019-01-01 01:00:00</td>\n",
       "      <td>1</td>\n",
       "      <td>0</td>\n",
       "      <td>2019-01-01</td>\n",
       "      <td>2019</td>\n",
       "      <td>301</td>\n",
       "    </tr>\n",
       "    <tr>\n",
       "      <th>2</th>\n",
       "      <td>2019-01-01 02:00:00</td>\n",
       "      <td>2</td>\n",
       "      <td>0</td>\n",
       "      <td>2019-01-01</td>\n",
       "      <td>2019</td>\n",
       "      <td>301</td>\n",
       "    </tr>\n",
       "    <tr>\n",
       "      <th>3</th>\n",
       "      <td>2019-01-01 03:00:00</td>\n",
       "      <td>3</td>\n",
       "      <td>0</td>\n",
       "      <td>2019-01-01</td>\n",
       "      <td>2019</td>\n",
       "      <td>301</td>\n",
       "    </tr>\n",
       "    <tr>\n",
       "      <th>4</th>\n",
       "      <td>2019-01-01 04:00:00</td>\n",
       "      <td>4</td>\n",
       "      <td>0</td>\n",
       "      <td>2019-01-01</td>\n",
       "      <td>2019</td>\n",
       "      <td>301</td>\n",
       "    </tr>\n",
       "    <tr>\n",
       "      <th>...</th>\n",
       "      <td>...</td>\n",
       "      <td>...</td>\n",
       "      <td>...</td>\n",
       "      <td>...</td>\n",
       "      <td>...</td>\n",
       "      <td>...</td>\n",
       "    </tr>\n",
       "    <tr>\n",
       "      <th>17539</th>\n",
       "      <td>2020-12-31 19:00:00</td>\n",
       "      <td>19</td>\n",
       "      <td>199</td>\n",
       "      <td>2020-12-31</td>\n",
       "      <td>2020</td>\n",
       "      <td>666</td>\n",
       "    </tr>\n",
       "    <tr>\n",
       "      <th>17540</th>\n",
       "      <td>2020-12-31 20:00:00</td>\n",
       "      <td>20</td>\n",
       "      <td>115</td>\n",
       "      <td>2020-12-31</td>\n",
       "      <td>2020</td>\n",
       "      <td>666</td>\n",
       "    </tr>\n",
       "    <tr>\n",
       "      <th>17541</th>\n",
       "      <td>2020-12-31 21:00:00</td>\n",
       "      <td>21</td>\n",
       "      <td>76</td>\n",
       "      <td>2020-12-31</td>\n",
       "      <td>2020</td>\n",
       "      <td>666</td>\n",
       "    </tr>\n",
       "    <tr>\n",
       "      <th>17542</th>\n",
       "      <td>2020-12-31 22:00:00</td>\n",
       "      <td>22</td>\n",
       "      <td>33</td>\n",
       "      <td>2020-12-31</td>\n",
       "      <td>2020</td>\n",
       "      <td>666</td>\n",
       "    </tr>\n",
       "    <tr>\n",
       "      <th>17543</th>\n",
       "      <td>2020-12-31 23:00:00</td>\n",
       "      <td>23</td>\n",
       "      <td>18</td>\n",
       "      <td>2020-12-31</td>\n",
       "      <td>2020</td>\n",
       "      <td>666</td>\n",
       "    </tr>\n",
       "  </tbody>\n",
       "</table>\n",
       "<p>17544 rows × 6 columns</p>\n",
       "</div>"
      ],
      "text/plain": [
       "            Date_Hr_Count  Hr  Count        Date  Year  day_index\n",
       "0     2019-01-01 00:00:00   0      1  2019-01-01  2019        301\n",
       "1     2019-01-01 01:00:00   1      0  2019-01-01  2019        301\n",
       "2     2019-01-01 02:00:00   2      0  2019-01-01  2019        301\n",
       "3     2019-01-01 03:00:00   3      0  2019-01-01  2019        301\n",
       "4     2019-01-01 04:00:00   4      0  2019-01-01  2019        301\n",
       "...                   ...  ..    ...         ...   ...        ...\n",
       "17539 2020-12-31 19:00:00  19    199  2020-12-31  2020        666\n",
       "17540 2020-12-31 20:00:00  20    115  2020-12-31  2020        666\n",
       "17541 2020-12-31 21:00:00  21     76  2020-12-31  2020        666\n",
       "17542 2020-12-31 22:00:00  22     33  2020-12-31  2020        666\n",
       "17543 2020-12-31 23:00:00  23     18  2020-12-31  2020        666\n",
       "\n",
       "[17544 rows x 6 columns]"
      ]
     },
     "execution_count": 173,
     "metadata": {},
     "output_type": "execute_result"
    }
   ],
   "source": [
    "Radial_df"
   ]
  },
  {
   "cell_type": "markdown",
   "id": "ed55f557",
   "metadata": {},
   "source": [
    "export data"
   ]
  },
  {
   "cell_type": "code",
   "execution_count": 174,
   "id": "fd892f41",
   "metadata": {},
   "outputs": [],
   "source": [
    "# Radial_df.to_csv('../../MiBici_Data/Tableau_Datasets/Question_3/Radial_HeatMap.csv', index=False)"
   ]
  },
  {
   "cell_type": "markdown",
   "id": "c7ade583",
   "metadata": {},
   "source": [
    "## 4) Popular Stations/Routes"
   ]
  },
  {
   "cell_type": "markdown",
   "id": "4783118f",
   "metadata": {},
   "source": [
    "### Popular Stations"
   ]
  },
  {
   "cell_type": "code",
   "execution_count": 175,
   "id": "c0515c66",
   "metadata": {},
   "outputs": [],
   "source": [
    "startStation_pop_df = \\\n",
    "pd.concat([years_df[i].groupby([\"Start_City\", \"Start_Neighborhood\", \"Start_Name\", \"Start_Latitude\", \"Start_Longitude\"]).size()  \\\n",
    "                      .reset_index(name = \"Number of Trips\")    \\\n",
    "                      .sort_values(\"Number of Trips\", ascending = False) \\\n",
    "                      .reset_index(drop=True)   \\\n",
    "              for i in range(len(years)) \n",
    "          ], axis=0, keys=years)"
   ]
  },
  {
   "cell_type": "code",
   "execution_count": 176,
   "id": "10487ffb",
   "metadata": {},
   "outputs": [
    {
     "data": {
      "text/html": [
       "<div>\n",
       "<style scoped>\n",
       "    .dataframe tbody tr th:only-of-type {\n",
       "        vertical-align: middle;\n",
       "    }\n",
       "\n",
       "    .dataframe tbody tr th {\n",
       "        vertical-align: top;\n",
       "    }\n",
       "\n",
       "    .dataframe thead th {\n",
       "        text-align: right;\n",
       "    }\n",
       "</style>\n",
       "<table border=\"1\" class=\"dataframe\">\n",
       "  <thead>\n",
       "    <tr style=\"text-align: right;\">\n",
       "      <th></th>\n",
       "      <th></th>\n",
       "      <th>Start_City</th>\n",
       "      <th>Start_Neighborhood</th>\n",
       "      <th>Start_Name</th>\n",
       "      <th>Start_Latitude</th>\n",
       "      <th>Start_Longitude</th>\n",
       "      <th>Number of Trips</th>\n",
       "    </tr>\n",
       "  </thead>\n",
       "  <tbody>\n",
       "    <tr>\n",
       "      <th rowspan=\"5\" valign=\"top\">2019</th>\n",
       "      <th>0</th>\n",
       "      <td>Guadalajara</td>\n",
       "      <td>Las Nueve Esquinas</td>\n",
       "      <td>Lopez Cotilla/ Marcos Castellanos</td>\n",
       "      <td>20.674087</td>\n",
       "      <td>-103.356320</td>\n",
       "      <td>92809</td>\n",
       "    </tr>\n",
       "    <tr>\n",
       "      <th>1</th>\n",
       "      <td>Guadalajara</td>\n",
       "      <td>Americana</td>\n",
       "      <td>C. Constancio Hernández/ Av. Juaréz</td>\n",
       "      <td>20.674721</td>\n",
       "      <td>-103.358548</td>\n",
       "      <td>77448</td>\n",
       "    </tr>\n",
       "    <tr>\n",
       "      <th>2</th>\n",
       "      <td>Guadalajara</td>\n",
       "      <td>Capilla de Jesús</td>\n",
       "      <td>Calz. Federalismo/ C. J. Angulo</td>\n",
       "      <td>20.681984</td>\n",
       "      <td>-103.353835</td>\n",
       "      <td>70291</td>\n",
       "    </tr>\n",
       "    <tr>\n",
       "      <th>3</th>\n",
       "      <td>Guadalajara</td>\n",
       "      <td>Guadalajara Centro</td>\n",
       "      <td>C. Pedro Moreno / Calz. Federalismo</td>\n",
       "      <td>20.675746</td>\n",
       "      <td>-103.354579</td>\n",
       "      <td>69217</td>\n",
       "    </tr>\n",
       "    <tr>\n",
       "      <th>4</th>\n",
       "      <td>Guadalajara</td>\n",
       "      <td>Arcos Vallarta</td>\n",
       "      <td>Av. Vallarta / Av. de Los Arcos</td>\n",
       "      <td>20.674380</td>\n",
       "      <td>-103.384880</td>\n",
       "      <td>68446</td>\n",
       "    </tr>\n",
       "    <tr>\n",
       "      <th>...</th>\n",
       "      <th>...</th>\n",
       "      <td>...</td>\n",
       "      <td>...</td>\n",
       "      <td>...</td>\n",
       "      <td>...</td>\n",
       "      <td>...</td>\n",
       "      <td>...</td>\n",
       "    </tr>\n",
       "    <tr>\n",
       "      <th rowspan=\"5\" valign=\"top\">2020</th>\n",
       "      <th>270</th>\n",
       "      <td>Zapopan</td>\n",
       "      <td>Industrial Los Belenes</td>\n",
       "      <td>Av. J. Parres Arias / C. Ignacio Ja</td>\n",
       "      <td>20.734410</td>\n",
       "      <td>-103.380790</td>\n",
       "      <td>1058</td>\n",
       "    </tr>\n",
       "    <tr>\n",
       "      <th>271</th>\n",
       "      <td>Tlaquepaque</td>\n",
       "      <td>Centro</td>\n",
       "      <td>C. Francisco de Miranda (ex-estacion)</td>\n",
       "      <td>20.638410</td>\n",
       "      <td>-103.313340</td>\n",
       "      <td>1053</td>\n",
       "    </tr>\n",
       "    <tr>\n",
       "      <th>272</th>\n",
       "      <td>Guadalajara</td>\n",
       "      <td>Jardines de la Paz</td>\n",
       "      <td>C. Caballerango / C. Caporales</td>\n",
       "      <td>20.645040</td>\n",
       "      <td>-103.305180</td>\n",
       "      <td>1050</td>\n",
       "    </tr>\n",
       "    <tr>\n",
       "      <th>273</th>\n",
       "      <td>Zapopan</td>\n",
       "      <td>Villas Belenes</td>\n",
       "      <td>Av. V. Carranza / Av. Jose Simeon</td>\n",
       "      <td>20.731202</td>\n",
       "      <td>-103.380651</td>\n",
       "      <td>811</td>\n",
       "    </tr>\n",
       "    <tr>\n",
       "      <th>274</th>\n",
       "      <td>Zapopan</td>\n",
       "      <td>San Isidro Ejidal</td>\n",
       "      <td>C. Francisco Sarabia / Av. Laureles</td>\n",
       "      <td>20.734450</td>\n",
       "      <td>-103.398561</td>\n",
       "      <td>644</td>\n",
       "    </tr>\n",
       "  </tbody>\n",
       "</table>\n",
       "<p>549 rows × 6 columns</p>\n",
       "</div>"
      ],
      "text/plain": [
       "           Start_City      Start_Neighborhood  \\\n",
       "2019 0    Guadalajara      Las Nueve Esquinas   \n",
       "     1    Guadalajara               Americana   \n",
       "     2    Guadalajara        Capilla de Jesús   \n",
       "     3    Guadalajara      Guadalajara Centro   \n",
       "     4    Guadalajara          Arcos Vallarta   \n",
       "...               ...                     ...   \n",
       "2020 270      Zapopan  Industrial Los Belenes   \n",
       "     271  Tlaquepaque                  Centro   \n",
       "     272  Guadalajara      Jardines de la Paz   \n",
       "     273      Zapopan          Villas Belenes   \n",
       "     274      Zapopan       San Isidro Ejidal   \n",
       "\n",
       "                                      Start_Name  Start_Latitude  \\\n",
       "2019 0         Lopez Cotilla/ Marcos Castellanos       20.674087   \n",
       "     1       C. Constancio Hernández/ Av. Juaréz       20.674721   \n",
       "     2           Calz. Federalismo/ C. J. Angulo       20.681984   \n",
       "     3       C. Pedro Moreno / Calz. Federalismo       20.675746   \n",
       "     4           Av. Vallarta / Av. de Los Arcos       20.674380   \n",
       "...                                          ...             ...   \n",
       "2020 270     Av. J. Parres Arias / C. Ignacio Ja       20.734410   \n",
       "     271   C. Francisco de Miranda (ex-estacion)       20.638410   \n",
       "     272          C. Caballerango / C. Caporales       20.645040   \n",
       "     273       Av. V. Carranza / Av. Jose Simeon       20.731202   \n",
       "     274     C. Francisco Sarabia / Av. Laureles       20.734450   \n",
       "\n",
       "          Start_Longitude  Number of Trips  \n",
       "2019 0        -103.356320            92809  \n",
       "     1        -103.358548            77448  \n",
       "     2        -103.353835            70291  \n",
       "     3        -103.354579            69217  \n",
       "     4        -103.384880            68446  \n",
       "...                   ...              ...  \n",
       "2020 270      -103.380790             1058  \n",
       "     271      -103.313340             1053  \n",
       "     272      -103.305180             1050  \n",
       "     273      -103.380651              811  \n",
       "     274      -103.398561              644  \n",
       "\n",
       "[549 rows x 6 columns]"
      ]
     },
     "execution_count": 176,
     "metadata": {},
     "output_type": "execute_result"
    }
   ],
   "source": [
    "startStation_pop_df"
   ]
  },
  {
   "cell_type": "code",
   "execution_count": 177,
   "id": "d35d2f54",
   "metadata": {},
   "outputs": [],
   "source": [
    "startStation_pop_df.reset_index(drop=False, inplace=True)      # reset indices, save old indices\n",
    "startStation_pop_df.rename(columns={'level_0':'Year'}, inplace=True)   # change level 0 indices to year\n",
    "startStation_pop_df.drop('level_1', axis=1, inplace=True)      # remove level 1 indices"
   ]
  },
  {
   "cell_type": "code",
   "execution_count": 178,
   "id": "8f689b7b",
   "metadata": {},
   "outputs": [
    {
     "data": {
      "text/html": [
       "<div>\n",
       "<style scoped>\n",
       "    .dataframe tbody tr th:only-of-type {\n",
       "        vertical-align: middle;\n",
       "    }\n",
       "\n",
       "    .dataframe tbody tr th {\n",
       "        vertical-align: top;\n",
       "    }\n",
       "\n",
       "    .dataframe thead th {\n",
       "        text-align: right;\n",
       "    }\n",
       "</style>\n",
       "<table border=\"1\" class=\"dataframe\">\n",
       "  <thead>\n",
       "    <tr style=\"text-align: right;\">\n",
       "      <th></th>\n",
       "      <th>Year</th>\n",
       "      <th>Start_City</th>\n",
       "      <th>Start_Neighborhood</th>\n",
       "      <th>Start_Name</th>\n",
       "      <th>Start_Latitude</th>\n",
       "      <th>Start_Longitude</th>\n",
       "      <th>Number of Trips</th>\n",
       "    </tr>\n",
       "  </thead>\n",
       "  <tbody>\n",
       "    <tr>\n",
       "      <th>0</th>\n",
       "      <td>2019</td>\n",
       "      <td>Guadalajara</td>\n",
       "      <td>Las Nueve Esquinas</td>\n",
       "      <td>Lopez Cotilla/ Marcos Castellanos</td>\n",
       "      <td>20.674087</td>\n",
       "      <td>-103.356320</td>\n",
       "      <td>92809</td>\n",
       "    </tr>\n",
       "    <tr>\n",
       "      <th>1</th>\n",
       "      <td>2019</td>\n",
       "      <td>Guadalajara</td>\n",
       "      <td>Americana</td>\n",
       "      <td>C. Constancio Hernández/ Av. Juaréz</td>\n",
       "      <td>20.674721</td>\n",
       "      <td>-103.358548</td>\n",
       "      <td>77448</td>\n",
       "    </tr>\n",
       "    <tr>\n",
       "      <th>2</th>\n",
       "      <td>2019</td>\n",
       "      <td>Guadalajara</td>\n",
       "      <td>Capilla de Jesús</td>\n",
       "      <td>Calz. Federalismo/ C. J. Angulo</td>\n",
       "      <td>20.681984</td>\n",
       "      <td>-103.353835</td>\n",
       "      <td>70291</td>\n",
       "    </tr>\n",
       "    <tr>\n",
       "      <th>3</th>\n",
       "      <td>2019</td>\n",
       "      <td>Guadalajara</td>\n",
       "      <td>Guadalajara Centro</td>\n",
       "      <td>C. Pedro Moreno / Calz. Federalismo</td>\n",
       "      <td>20.675746</td>\n",
       "      <td>-103.354579</td>\n",
       "      <td>69217</td>\n",
       "    </tr>\n",
       "    <tr>\n",
       "      <th>4</th>\n",
       "      <td>2019</td>\n",
       "      <td>Guadalajara</td>\n",
       "      <td>Arcos Vallarta</td>\n",
       "      <td>Av. Vallarta / Av. de Los Arcos</td>\n",
       "      <td>20.674380</td>\n",
       "      <td>-103.384880</td>\n",
       "      <td>68446</td>\n",
       "    </tr>\n",
       "  </tbody>\n",
       "</table>\n",
       "</div>"
      ],
      "text/plain": [
       "   Year   Start_City  Start_Neighborhood  \\\n",
       "0  2019  Guadalajara  Las Nueve Esquinas   \n",
       "1  2019  Guadalajara           Americana   \n",
       "2  2019  Guadalajara    Capilla de Jesús   \n",
       "3  2019  Guadalajara  Guadalajara Centro   \n",
       "4  2019  Guadalajara      Arcos Vallarta   \n",
       "\n",
       "                             Start_Name  Start_Latitude  Start_Longitude  \\\n",
       "0     Lopez Cotilla/ Marcos Castellanos       20.674087      -103.356320   \n",
       "1   C. Constancio Hernández/ Av. Juaréz       20.674721      -103.358548   \n",
       "2       Calz. Federalismo/ C. J. Angulo       20.681984      -103.353835   \n",
       "3   C. Pedro Moreno / Calz. Federalismo       20.675746      -103.354579   \n",
       "4       Av. Vallarta / Av. de Los Arcos       20.674380      -103.384880   \n",
       "\n",
       "   Number of Trips  \n",
       "0            92809  \n",
       "1            77448  \n",
       "2            70291  \n",
       "3            69217  \n",
       "4            68446  "
      ]
     },
     "execution_count": 178,
     "metadata": {},
     "output_type": "execute_result"
    }
   ],
   "source": [
    "startStation_pop_df.head(5)"
   ]
  },
  {
   "cell_type": "code",
   "execution_count": null,
   "id": "d6c847a3",
   "metadata": {},
   "outputs": [],
   "source": [
    "# export data\n",
    "# startStation_pop_df.to_csv(\"../../MiBici_Data/Tableau_Datasets/Question_4/popular_start_stations.csv\", index=False, encoding='utf-8')"
   ]
  },
  {
   "cell_type": "markdown",
   "id": "7bcdf6dc",
   "metadata": {},
   "source": [
    "### Google Maps Routes"
   ]
  },
  {
   "cell_type": "markdown",
   "id": "b33be2b9",
   "metadata": {},
   "source": [
    "#### Most Common Routes "
   ]
  },
  {
   "cell_type": "markdown",
   "id": "009bf2f7",
   "metadata": {},
   "source": [
    "Obtain the 30 most common routes per year"
   ]
  },
  {
   "cell_type": "code",
   "execution_count": 187,
   "id": "5d0f24e1",
   "metadata": {},
   "outputs": [],
   "source": [
    "# loop through each yearly Mibici df and obtain the top 30 routes, feed each year into a list and conver into a dataframe\n",
    "overall_stations_df = \\\n",
    "pd.concat([years_df[i].groupby([\"Start_Name\",\"End_Name\"]).size()  \\\n",
    "                      .reset_index(name = \"Number of Trips\")    \\\n",
    "                      .sort_values(\"Number of Trips\", ascending = False) \\\n",
    "                      .reset_index(drop=True).head(30)   \\\n",
    "              for i in range(len(years)) \n",
    "          ], axis=0, keys=years)"
   ]
  },
  {
   "cell_type": "code",
   "execution_count": 188,
   "id": "204f8f9a",
   "metadata": {},
   "outputs": [],
   "source": [
    "# turn hierarchical indices into column for year\n",
    "overall_stations_df.reset_index(inplace=True)\n",
    "\n",
    "# delete index column of [0:14] per year\n",
    "overall_stations_df.drop('level_1', axis=1, inplace=True)\n",
    "\n",
    "# rename 'level_0' column to year\n",
    "overall_stations_df.rename(columns={'level_0': 'Year'}, inplace=True)"
   ]
  },
  {
   "cell_type": "code",
   "execution_count": 189,
   "id": "2a0392cc",
   "metadata": {},
   "outputs": [],
   "source": [
    "# overall_stations_df['Start_City'] = 'Total'\n",
    "overall_stations_df.insert(1, 'Start_City', 'Total') "
   ]
  },
  {
   "cell_type": "code",
   "execution_count": 190,
   "id": "8de7baf1",
   "metadata": {},
   "outputs": [
    {
     "data": {
      "text/html": [
       "<div>\n",
       "<style scoped>\n",
       "    .dataframe tbody tr th:only-of-type {\n",
       "        vertical-align: middle;\n",
       "    }\n",
       "\n",
       "    .dataframe tbody tr th {\n",
       "        vertical-align: top;\n",
       "    }\n",
       "\n",
       "    .dataframe thead th {\n",
       "        text-align: right;\n",
       "    }\n",
       "</style>\n",
       "<table border=\"1\" class=\"dataframe\">\n",
       "  <thead>\n",
       "    <tr style=\"text-align: right;\">\n",
       "      <th></th>\n",
       "      <th>Year</th>\n",
       "      <th>Start_City</th>\n",
       "      <th>Start_Name</th>\n",
       "      <th>End_Name</th>\n",
       "      <th>Number of Trips</th>\n",
       "    </tr>\n",
       "  </thead>\n",
       "  <tbody>\n",
       "    <tr>\n",
       "      <th>0</th>\n",
       "      <td>2019</td>\n",
       "      <td>Total</td>\n",
       "      <td>Av. Vallarta / Av. de Los Arcos</td>\n",
       "      <td>Lopez Cotilla/ Marcos Castellanos</td>\n",
       "      <td>8680</td>\n",
       "    </tr>\n",
       "    <tr>\n",
       "      <th>1</th>\n",
       "      <td>2019</td>\n",
       "      <td>Total</td>\n",
       "      <td>C. Colonias  / C. López Cotilla</td>\n",
       "      <td>Lopez Cotilla/ Marcos Castellanos</td>\n",
       "      <td>6717</td>\n",
       "    </tr>\n",
       "    <tr>\n",
       "      <th>2</th>\n",
       "      <td>2019</td>\n",
       "      <td>Total</td>\n",
       "      <td>C. Marsella / C. López Cotilla</td>\n",
       "      <td>Lopez Cotilla/ Marcos Castellanos</td>\n",
       "      <td>5200</td>\n",
       "    </tr>\n",
       "    <tr>\n",
       "      <th>3</th>\n",
       "      <td>2019</td>\n",
       "      <td>Total</td>\n",
       "      <td>Av. Hidalgo / C. Pedro Loza</td>\n",
       "      <td>Av. Alcalde / C. Hospital</td>\n",
       "      <td>4568</td>\n",
       "    </tr>\n",
       "    <tr>\n",
       "      <th>4</th>\n",
       "      <td>2019</td>\n",
       "      <td>Total</td>\n",
       "      <td>Av. Alcalde / C. Hospital</td>\n",
       "      <td>Av. Hidalgo / C. Pedro Loza</td>\n",
       "      <td>4374</td>\n",
       "    </tr>\n",
       "    <tr>\n",
       "      <th>5</th>\n",
       "      <td>2019</td>\n",
       "      <td>Total</td>\n",
       "      <td>Lopez Cotilla/ Marcos Castellanos</td>\n",
       "      <td>C. Colonias  / C. López Cotilla</td>\n",
       "      <td>4341</td>\n",
       "    </tr>\n",
       "    <tr>\n",
       "      <th>6</th>\n",
       "      <td>2019</td>\n",
       "      <td>Total</td>\n",
       "      <td>C. J. Ruíz de Alarcón / Av Vallarta</td>\n",
       "      <td>Lopez Cotilla/ Marcos Castellanos</td>\n",
       "      <td>4203</td>\n",
       "    </tr>\n",
       "    <tr>\n",
       "      <th>7</th>\n",
       "      <td>2019</td>\n",
       "      <td>Total</td>\n",
       "      <td>C. Libertad / C. Moscú</td>\n",
       "      <td>Lopez Cotilla/ Marcos Castellanos</td>\n",
       "      <td>3888</td>\n",
       "    </tr>\n",
       "    <tr>\n",
       "      <th>8</th>\n",
       "      <td>2019</td>\n",
       "      <td>Total</td>\n",
       "      <td>C. Juan Álvarez / C. Belén</td>\n",
       "      <td>C. Monte Cáucaso / C. Sierra Nevada</td>\n",
       "      <td>3469</td>\n",
       "    </tr>\n",
       "    <tr>\n",
       "      <th>9</th>\n",
       "      <td>2019</td>\n",
       "      <td>Total</td>\n",
       "      <td>Calz. Federalismo/ C. J. Angulo</td>\n",
       "      <td>C. Juan Álvarez / C. Belén</td>\n",
       "      <td>3461</td>\n",
       "    </tr>\n",
       "    <tr>\n",
       "      <th>10</th>\n",
       "      <td>2019</td>\n",
       "      <td>Total</td>\n",
       "      <td>Av. Juárez / Av. 16 de Septiembre</td>\n",
       "      <td>Av. Alcalde / C. Hospital</td>\n",
       "      <td>3221</td>\n",
       "    </tr>\n",
       "    <tr>\n",
       "      <th>11</th>\n",
       "      <td>2019</td>\n",
       "      <td>Total</td>\n",
       "      <td>C. 5 de Mayo/ Av. Revolución</td>\n",
       "      <td>C. 5 de Mayo/ Av. Revolución</td>\n",
       "      <td>3169</td>\n",
       "    </tr>\n",
       "    <tr>\n",
       "      <th>12</th>\n",
       "      <td>2019</td>\n",
       "      <td>Total</td>\n",
       "      <td>C. Degollado / Av. Hidalgo</td>\n",
       "      <td>C. Degollado / Av. Hidalgo</td>\n",
       "      <td>3135</td>\n",
       "    </tr>\n",
       "    <tr>\n",
       "      <th>13</th>\n",
       "      <td>2019</td>\n",
       "      <td>Total</td>\n",
       "      <td>C. Montenegro / Av. Chapultepec</td>\n",
       "      <td>C. Montenegro / Av. Chapultepec</td>\n",
       "      <td>3096</td>\n",
       "    </tr>\n",
       "    <tr>\n",
       "      <th>14</th>\n",
       "      <td>2019</td>\n",
       "      <td>Total</td>\n",
       "      <td>Lopez Cotilla/ Marcos Castellanos</td>\n",
       "      <td>Av. La Paz / Av. Federalismo</td>\n",
       "      <td>3070</td>\n",
       "    </tr>\n",
       "    <tr>\n",
       "      <th>15</th>\n",
       "      <td>2019</td>\n",
       "      <td>Total</td>\n",
       "      <td>C. J. Angulo/C José Clemente Orozco</td>\n",
       "      <td>Calz. Federalismo/ C. J. Angulo</td>\n",
       "      <td>3064</td>\n",
       "    </tr>\n",
       "    <tr>\n",
       "      <th>16</th>\n",
       "      <td>2019</td>\n",
       "      <td>Total</td>\n",
       "      <td>Av. Alcalde / C. Hospital</td>\n",
       "      <td>Av. Juárez / Av. 16 de Septiembre</td>\n",
       "      <td>2950</td>\n",
       "    </tr>\n",
       "    <tr>\n",
       "      <th>17</th>\n",
       "      <td>2019</td>\n",
       "      <td>Total</td>\n",
       "      <td>C. Pedro Moreno / Calz. Federalismo</td>\n",
       "      <td>C. Degollado / Av. Hidalgo</td>\n",
       "      <td>2942</td>\n",
       "    </tr>\n",
       "    <tr>\n",
       "      <th>18</th>\n",
       "      <td>2019</td>\n",
       "      <td>Total</td>\n",
       "      <td>Calz. Federalismo/ C. J. Angulo</td>\n",
       "      <td>C. J. Angulo/C José Clemente Orozco</td>\n",
       "      <td>2935</td>\n",
       "    </tr>\n",
       "    <tr>\n",
       "      <th>19</th>\n",
       "      <td>2019</td>\n",
       "      <td>Total</td>\n",
       "      <td>C. Duque de Rivas/ C. López Cotilla</td>\n",
       "      <td>Lopez Cotilla/ Marcos Castellanos</td>\n",
       "      <td>2906</td>\n",
       "    </tr>\n",
       "    <tr>\n",
       "      <th>20</th>\n",
       "      <td>2019</td>\n",
       "      <td>Total</td>\n",
       "      <td>C. Mezquitán / Av. Hidalgo</td>\n",
       "      <td>C. Mezquitán / Av. Hidalgo</td>\n",
       "      <td>2904</td>\n",
       "    </tr>\n",
       "    <tr>\n",
       "      <th>21</th>\n",
       "      <td>2019</td>\n",
       "      <td>Total</td>\n",
       "      <td>C. Monte Cáucaso / C. Sierra Nevada</td>\n",
       "      <td>C. Juan Álvarez / C. Belén</td>\n",
       "      <td>2842</td>\n",
       "    </tr>\n",
       "    <tr>\n",
       "      <th>22</th>\n",
       "      <td>2019</td>\n",
       "      <td>Total</td>\n",
       "      <td>Av. Alcalde / C. Hospital</td>\n",
       "      <td>Av. Alcalde / C. Hospital</td>\n",
       "      <td>2747</td>\n",
       "    </tr>\n",
       "    <tr>\n",
       "      <th>23</th>\n",
       "      <td>2019</td>\n",
       "      <td>Total</td>\n",
       "      <td>Lopez Cotilla/ Marcos Castellanos</td>\n",
       "      <td>C. Libertad / C. Moscú</td>\n",
       "      <td>2739</td>\n",
       "    </tr>\n",
       "    <tr>\n",
       "      <th>24</th>\n",
       "      <td>2019</td>\n",
       "      <td>Total</td>\n",
       "      <td>C. Miguel Blanco / C. Penitenciaria</td>\n",
       "      <td>C. Miguel Blanco / C. Penitenciaria</td>\n",
       "      <td>2737</td>\n",
       "    </tr>\n",
       "    <tr>\n",
       "      <th>25</th>\n",
       "      <td>2019</td>\n",
       "      <td>Total</td>\n",
       "      <td>C. Nicolás Romero / C. Reforma</td>\n",
       "      <td>C. Nicolás Romero / C. Reforma</td>\n",
       "      <td>2707</td>\n",
       "    </tr>\n",
       "    <tr>\n",
       "      <th>26</th>\n",
       "      <td>2019</td>\n",
       "      <td>Total</td>\n",
       "      <td>C. Lope de Vega / Av. La Paz</td>\n",
       "      <td>Lopez Cotilla/ Marcos Castellanos</td>\n",
       "      <td>2703</td>\n",
       "    </tr>\n",
       "    <tr>\n",
       "      <th>27</th>\n",
       "      <td>2019</td>\n",
       "      <td>Total</td>\n",
       "      <td>C. Libertad /  C. Argentina</td>\n",
       "      <td>Lopez Cotilla/ Marcos Castellanos</td>\n",
       "      <td>2701</td>\n",
       "    </tr>\n",
       "    <tr>\n",
       "      <th>28</th>\n",
       "      <td>2019</td>\n",
       "      <td>Total</td>\n",
       "      <td>Av. Vallarta / Av. de Los Arcos</td>\n",
       "      <td>C. Constancio Hernández/ Av. Juaréz</td>\n",
       "      <td>2658</td>\n",
       "    </tr>\n",
       "    <tr>\n",
       "      <th>29</th>\n",
       "      <td>2019</td>\n",
       "      <td>Total</td>\n",
       "      <td>C. Guadalupe Zuno / Av. Chapultepec</td>\n",
       "      <td>Lopez Cotilla/ Marcos Castellanos</td>\n",
       "      <td>2631</td>\n",
       "    </tr>\n",
       "    <tr>\n",
       "      <th>30</th>\n",
       "      <td>2020</td>\n",
       "      <td>Total</td>\n",
       "      <td>C. Miguel Blanco / C. Penitenciaria</td>\n",
       "      <td>C. Miguel Blanco / C. Penitenciaria</td>\n",
       "      <td>3363</td>\n",
       "    </tr>\n",
       "    <tr>\n",
       "      <th>31</th>\n",
       "      <td>2020</td>\n",
       "      <td>Total</td>\n",
       "      <td>C. Hospital / C. Alameda</td>\n",
       "      <td>C. Hospital / C. Alameda</td>\n",
       "      <td>3207</td>\n",
       "    </tr>\n",
       "    <tr>\n",
       "      <th>32</th>\n",
       "      <td>2020</td>\n",
       "      <td>Total</td>\n",
       "      <td>Av. Vallarta / Av. de Los Arcos</td>\n",
       "      <td>Lopez Cotilla/ Marcos Castellanos</td>\n",
       "      <td>3070</td>\n",
       "    </tr>\n",
       "    <tr>\n",
       "      <th>33</th>\n",
       "      <td>2020</td>\n",
       "      <td>Total</td>\n",
       "      <td>C. Colonias  / C. López Cotilla</td>\n",
       "      <td>Lopez Cotilla/ Marcos Castellanos</td>\n",
       "      <td>3055</td>\n",
       "    </tr>\n",
       "    <tr>\n",
       "      <th>34</th>\n",
       "      <td>2020</td>\n",
       "      <td>Total</td>\n",
       "      <td>Av. Hidalgo / C. Pedro Loza</td>\n",
       "      <td>Av. Alcalde / C. Hospital</td>\n",
       "      <td>2861</td>\n",
       "    </tr>\n",
       "    <tr>\n",
       "      <th>35</th>\n",
       "      <td>2020</td>\n",
       "      <td>Total</td>\n",
       "      <td>C. Marsella / C. López Cotilla</td>\n",
       "      <td>Lopez Cotilla/ Marcos Castellanos</td>\n",
       "      <td>2838</td>\n",
       "    </tr>\n",
       "    <tr>\n",
       "      <th>36</th>\n",
       "      <td>2020</td>\n",
       "      <td>Total</td>\n",
       "      <td>Av. Alcalde / C. Hospital</td>\n",
       "      <td>Av. Hidalgo / C. Pedro Loza</td>\n",
       "      <td>2831</td>\n",
       "    </tr>\n",
       "    <tr>\n",
       "      <th>37</th>\n",
       "      <td>2020</td>\n",
       "      <td>Total</td>\n",
       "      <td>C. 5 de Mayo/ Av. Revolución</td>\n",
       "      <td>C. 5 de Mayo/ Av. Revolución</td>\n",
       "      <td>2746</td>\n",
       "    </tr>\n",
       "    <tr>\n",
       "      <th>38</th>\n",
       "      <td>2020</td>\n",
       "      <td>Total</td>\n",
       "      <td>Av. Juárez / Av. 16 de Septiembre</td>\n",
       "      <td>Av. Alcalde / C. Hospital</td>\n",
       "      <td>2666</td>\n",
       "    </tr>\n",
       "    <tr>\n",
       "      <th>39</th>\n",
       "      <td>2020</td>\n",
       "      <td>Total</td>\n",
       "      <td>Av. Alcalde / C. Hospital</td>\n",
       "      <td>Av. Alcalde / C. Hospital</td>\n",
       "      <td>2624</td>\n",
       "    </tr>\n",
       "    <tr>\n",
       "      <th>40</th>\n",
       "      <td>2020</td>\n",
       "      <td>Total</td>\n",
       "      <td>Av. Alcalde / C. Hospital</td>\n",
       "      <td>Av. Juárez / Av. 16 de Septiembre</td>\n",
       "      <td>2620</td>\n",
       "    </tr>\n",
       "    <tr>\n",
       "      <th>41</th>\n",
       "      <td>2020</td>\n",
       "      <td>Total</td>\n",
       "      <td>C. Nicolás Romero / C. Reforma</td>\n",
       "      <td>C. Nicolás Romero / C. Reforma</td>\n",
       "      <td>2584</td>\n",
       "    </tr>\n",
       "    <tr>\n",
       "      <th>42</th>\n",
       "      <td>2020</td>\n",
       "      <td>Total</td>\n",
       "      <td>C. Mezquitán / Av. Hidalgo</td>\n",
       "      <td>C. Mezquitán / Av. Hidalgo</td>\n",
       "      <td>2527</td>\n",
       "    </tr>\n",
       "    <tr>\n",
       "      <th>43</th>\n",
       "      <td>2020</td>\n",
       "      <td>Total</td>\n",
       "      <td>C. Montenegro / Av. Chapultepec</td>\n",
       "      <td>C. Montenegro / Av. Chapultepec</td>\n",
       "      <td>2159</td>\n",
       "    </tr>\n",
       "    <tr>\n",
       "      <th>44</th>\n",
       "      <td>2020</td>\n",
       "      <td>Total</td>\n",
       "      <td>C. J. Ruíz de Alarcón / Av Vallarta</td>\n",
       "      <td>Lopez Cotilla/ Marcos Castellanos</td>\n",
       "      <td>2157</td>\n",
       "    </tr>\n",
       "    <tr>\n",
       "      <th>45</th>\n",
       "      <td>2020</td>\n",
       "      <td>Total</td>\n",
       "      <td>C. C. Orozco/C. Gral. Eulogio Parra</td>\n",
       "      <td>C. C. Orozco/C. Gral. Eulogio Parra</td>\n",
       "      <td>2146</td>\n",
       "    </tr>\n",
       "    <tr>\n",
       "      <th>46</th>\n",
       "      <td>2020</td>\n",
       "      <td>Total</td>\n",
       "      <td>Calz. Federalismo/ C. J. Angulo</td>\n",
       "      <td>C. Juan Álvarez / C. Belén</td>\n",
       "      <td>2012</td>\n",
       "    </tr>\n",
       "    <tr>\n",
       "      <th>47</th>\n",
       "      <td>2020</td>\n",
       "      <td>Total</td>\n",
       "      <td>Lopez Cotilla/ Marcos Castellanos</td>\n",
       "      <td>C. Colonias  / C. López Cotilla</td>\n",
       "      <td>1998</td>\n",
       "    </tr>\n",
       "    <tr>\n",
       "      <th>48</th>\n",
       "      <td>2020</td>\n",
       "      <td>Total</td>\n",
       "      <td>C. Libertad / C. Moscú</td>\n",
       "      <td>Lopez Cotilla/ Marcos Castellanos</td>\n",
       "      <td>1879</td>\n",
       "    </tr>\n",
       "    <tr>\n",
       "      <th>49</th>\n",
       "      <td>2020</td>\n",
       "      <td>Total</td>\n",
       "      <td>Av. Hidalgo / C. Pedro Loza</td>\n",
       "      <td>Av. Juárez / Calz. Independencia</td>\n",
       "      <td>1823</td>\n",
       "    </tr>\n",
       "    <tr>\n",
       "      <th>50</th>\n",
       "      <td>2020</td>\n",
       "      <td>Total</td>\n",
       "      <td>Av. Hidalgo / C. Pedro Loza</td>\n",
       "      <td>C. Jesús García/Av. Alcalde</td>\n",
       "      <td>1726</td>\n",
       "    </tr>\n",
       "    <tr>\n",
       "      <th>51</th>\n",
       "      <td>2020</td>\n",
       "      <td>Total</td>\n",
       "      <td>Av. 16 de Sept. / C. Miguel Blanco</td>\n",
       "      <td>Av. Hidalgo / C. Pedro Loza</td>\n",
       "      <td>1721</td>\n",
       "    </tr>\n",
       "    <tr>\n",
       "      <th>52</th>\n",
       "      <td>2020</td>\n",
       "      <td>Total</td>\n",
       "      <td>Av. Alcalde / C. Hospital</td>\n",
       "      <td>Av. Alcalde /Av. Manuel A. Camacho</td>\n",
       "      <td>1675</td>\n",
       "    </tr>\n",
       "    <tr>\n",
       "      <th>53</th>\n",
       "      <td>2020</td>\n",
       "      <td>Total</td>\n",
       "      <td>C. Degollado / Av. Hidalgo</td>\n",
       "      <td>C. Degollado / Av. Hidalgo</td>\n",
       "      <td>1662</td>\n",
       "    </tr>\n",
       "    <tr>\n",
       "      <th>54</th>\n",
       "      <td>2020</td>\n",
       "      <td>Total</td>\n",
       "      <td>C. Juan Manuel / C. Andrés Terán</td>\n",
       "      <td>C. Juan Manuel / C. Andrés Terán</td>\n",
       "      <td>1657</td>\n",
       "    </tr>\n",
       "    <tr>\n",
       "      <th>55</th>\n",
       "      <td>2020</td>\n",
       "      <td>Total</td>\n",
       "      <td>Av. Hidalgo / C. Pedro Loza</td>\n",
       "      <td>Av. 16 de Sept. / C. Miguel Blanco</td>\n",
       "      <td>1650</td>\n",
       "    </tr>\n",
       "    <tr>\n",
       "      <th>56</th>\n",
       "      <td>2020</td>\n",
       "      <td>Total</td>\n",
       "      <td>Calz. Federalismo/ C. J. Angulo</td>\n",
       "      <td>C. J. Angulo/C José Clemente Orozco</td>\n",
       "      <td>1642</td>\n",
       "    </tr>\n",
       "    <tr>\n",
       "      <th>57</th>\n",
       "      <td>2020</td>\n",
       "      <td>Total</td>\n",
       "      <td>Av. Alcalde / C. Hospital</td>\n",
       "      <td>Av. 16 de Sept. / C. Miguel Blanco</td>\n",
       "      <td>1638</td>\n",
       "    </tr>\n",
       "    <tr>\n",
       "      <th>58</th>\n",
       "      <td>2020</td>\n",
       "      <td>Total</td>\n",
       "      <td>C. Juan Álvarez / C. Belén</td>\n",
       "      <td>Calz. Federalismo/ C. J. Angulo</td>\n",
       "      <td>1626</td>\n",
       "    </tr>\n",
       "    <tr>\n",
       "      <th>59</th>\n",
       "      <td>2020</td>\n",
       "      <td>Total</td>\n",
       "      <td>Av. Juárez / Av. 16 de Septiembre</td>\n",
       "      <td>Av. Juárez / Calz. Independencia</td>\n",
       "      <td>1622</td>\n",
       "    </tr>\n",
       "  </tbody>\n",
       "</table>\n",
       "</div>"
      ],
      "text/plain": [
       "    Year Start_City                            Start_Name  \\\n",
       "0   2019      Total       Av. Vallarta / Av. de Los Arcos   \n",
       "1   2019      Total       C. Colonias  / C. López Cotilla   \n",
       "2   2019      Total        C. Marsella / C. López Cotilla   \n",
       "3   2019      Total           Av. Hidalgo / C. Pedro Loza   \n",
       "4   2019      Total             Av. Alcalde / C. Hospital   \n",
       "5   2019      Total     Lopez Cotilla/ Marcos Castellanos   \n",
       "6   2019      Total   C. J. Ruíz de Alarcón / Av Vallarta   \n",
       "7   2019      Total                C. Libertad / C. Moscú   \n",
       "8   2019      Total            C. Juan Álvarez / C. Belén   \n",
       "9   2019      Total       Calz. Federalismo/ C. J. Angulo   \n",
       "10  2019      Total     Av. Juárez / Av. 16 de Septiembre   \n",
       "11  2019      Total          C. 5 de Mayo/ Av. Revolución   \n",
       "12  2019      Total            C. Degollado / Av. Hidalgo   \n",
       "13  2019      Total       C. Montenegro / Av. Chapultepec   \n",
       "14  2019      Total     Lopez Cotilla/ Marcos Castellanos   \n",
       "15  2019      Total   C. J. Angulo/C José Clemente Orozco   \n",
       "16  2019      Total             Av. Alcalde / C. Hospital   \n",
       "17  2019      Total   C. Pedro Moreno / Calz. Federalismo   \n",
       "18  2019      Total       Calz. Federalismo/ C. J. Angulo   \n",
       "19  2019      Total   C. Duque de Rivas/ C. López Cotilla   \n",
       "20  2019      Total            C. Mezquitán / Av. Hidalgo   \n",
       "21  2019      Total   C. Monte Cáucaso / C. Sierra Nevada   \n",
       "22  2019      Total             Av. Alcalde / C. Hospital   \n",
       "23  2019      Total     Lopez Cotilla/ Marcos Castellanos   \n",
       "24  2019      Total   C. Miguel Blanco / C. Penitenciaria   \n",
       "25  2019      Total        C. Nicolás Romero / C. Reforma   \n",
       "26  2019      Total          C. Lope de Vega / Av. La Paz   \n",
       "27  2019      Total           C. Libertad /  C. Argentina   \n",
       "28  2019      Total       Av. Vallarta / Av. de Los Arcos   \n",
       "29  2019      Total   C. Guadalupe Zuno / Av. Chapultepec   \n",
       "30  2020      Total   C. Miguel Blanco / C. Penitenciaria   \n",
       "31  2020      Total              C. Hospital / C. Alameda   \n",
       "32  2020      Total       Av. Vallarta / Av. de Los Arcos   \n",
       "33  2020      Total       C. Colonias  / C. López Cotilla   \n",
       "34  2020      Total           Av. Hidalgo / C. Pedro Loza   \n",
       "35  2020      Total        C. Marsella / C. López Cotilla   \n",
       "36  2020      Total             Av. Alcalde / C. Hospital   \n",
       "37  2020      Total          C. 5 de Mayo/ Av. Revolución   \n",
       "38  2020      Total     Av. Juárez / Av. 16 de Septiembre   \n",
       "39  2020      Total             Av. Alcalde / C. Hospital   \n",
       "40  2020      Total             Av. Alcalde / C. Hospital   \n",
       "41  2020      Total        C. Nicolás Romero / C. Reforma   \n",
       "42  2020      Total            C. Mezquitán / Av. Hidalgo   \n",
       "43  2020      Total       C. Montenegro / Av. Chapultepec   \n",
       "44  2020      Total   C. J. Ruíz de Alarcón / Av Vallarta   \n",
       "45  2020      Total   C. C. Orozco/C. Gral. Eulogio Parra   \n",
       "46  2020      Total       Calz. Federalismo/ C. J. Angulo   \n",
       "47  2020      Total     Lopez Cotilla/ Marcos Castellanos   \n",
       "48  2020      Total                C. Libertad / C. Moscú   \n",
       "49  2020      Total           Av. Hidalgo / C. Pedro Loza   \n",
       "50  2020      Total           Av. Hidalgo / C. Pedro Loza   \n",
       "51  2020      Total    Av. 16 de Sept. / C. Miguel Blanco   \n",
       "52  2020      Total             Av. Alcalde / C. Hospital   \n",
       "53  2020      Total            C. Degollado / Av. Hidalgo   \n",
       "54  2020      Total      C. Juan Manuel / C. Andrés Terán   \n",
       "55  2020      Total           Av. Hidalgo / C. Pedro Loza   \n",
       "56  2020      Total       Calz. Federalismo/ C. J. Angulo   \n",
       "57  2020      Total             Av. Alcalde / C. Hospital   \n",
       "58  2020      Total            C. Juan Álvarez / C. Belén   \n",
       "59  2020      Total     Av. Juárez / Av. 16 de Septiembre   \n",
       "\n",
       "                                End_Name  Number of Trips  \n",
       "0      Lopez Cotilla/ Marcos Castellanos             8680  \n",
       "1      Lopez Cotilla/ Marcos Castellanos             6717  \n",
       "2      Lopez Cotilla/ Marcos Castellanos             5200  \n",
       "3              Av. Alcalde / C. Hospital             4568  \n",
       "4            Av. Hidalgo / C. Pedro Loza             4374  \n",
       "5        C. Colonias  / C. López Cotilla             4341  \n",
       "6      Lopez Cotilla/ Marcos Castellanos             4203  \n",
       "7      Lopez Cotilla/ Marcos Castellanos             3888  \n",
       "8    C. Monte Cáucaso / C. Sierra Nevada             3469  \n",
       "9             C. Juan Álvarez / C. Belén             3461  \n",
       "10             Av. Alcalde / C. Hospital             3221  \n",
       "11          C. 5 de Mayo/ Av. Revolución             3169  \n",
       "12            C. Degollado / Av. Hidalgo             3135  \n",
       "13       C. Montenegro / Av. Chapultepec             3096  \n",
       "14          Av. La Paz / Av. Federalismo             3070  \n",
       "15       Calz. Federalismo/ C. J. Angulo             3064  \n",
       "16     Av. Juárez / Av. 16 de Septiembre             2950  \n",
       "17            C. Degollado / Av. Hidalgo             2942  \n",
       "18   C. J. Angulo/C José Clemente Orozco             2935  \n",
       "19     Lopez Cotilla/ Marcos Castellanos             2906  \n",
       "20            C. Mezquitán / Av. Hidalgo             2904  \n",
       "21            C. Juan Álvarez / C. Belén             2842  \n",
       "22             Av. Alcalde / C. Hospital             2747  \n",
       "23                C. Libertad / C. Moscú             2739  \n",
       "24   C. Miguel Blanco / C. Penitenciaria             2737  \n",
       "25        C. Nicolás Romero / C. Reforma             2707  \n",
       "26     Lopez Cotilla/ Marcos Castellanos             2703  \n",
       "27     Lopez Cotilla/ Marcos Castellanos             2701  \n",
       "28   C. Constancio Hernández/ Av. Juaréz             2658  \n",
       "29     Lopez Cotilla/ Marcos Castellanos             2631  \n",
       "30   C. Miguel Blanco / C. Penitenciaria             3363  \n",
       "31              C. Hospital / C. Alameda             3207  \n",
       "32     Lopez Cotilla/ Marcos Castellanos             3070  \n",
       "33     Lopez Cotilla/ Marcos Castellanos             3055  \n",
       "34             Av. Alcalde / C. Hospital             2861  \n",
       "35     Lopez Cotilla/ Marcos Castellanos             2838  \n",
       "36           Av. Hidalgo / C. Pedro Loza             2831  \n",
       "37          C. 5 de Mayo/ Av. Revolución             2746  \n",
       "38             Av. Alcalde / C. Hospital             2666  \n",
       "39             Av. Alcalde / C. Hospital             2624  \n",
       "40     Av. Juárez / Av. 16 de Septiembre             2620  \n",
       "41        C. Nicolás Romero / C. Reforma             2584  \n",
       "42            C. Mezquitán / Av. Hidalgo             2527  \n",
       "43       C. Montenegro / Av. Chapultepec             2159  \n",
       "44     Lopez Cotilla/ Marcos Castellanos             2157  \n",
       "45   C. C. Orozco/C. Gral. Eulogio Parra             2146  \n",
       "46            C. Juan Álvarez / C. Belén             2012  \n",
       "47       C. Colonias  / C. López Cotilla             1998  \n",
       "48     Lopez Cotilla/ Marcos Castellanos             1879  \n",
       "49      Av. Juárez / Calz. Independencia             1823  \n",
       "50           C. Jesús García/Av. Alcalde             1726  \n",
       "51           Av. Hidalgo / C. Pedro Loza             1721  \n",
       "52    Av. Alcalde /Av. Manuel A. Camacho             1675  \n",
       "53            C. Degollado / Av. Hidalgo             1662  \n",
       "54      C. Juan Manuel / C. Andrés Terán             1657  \n",
       "55    Av. 16 de Sept. / C. Miguel Blanco             1650  \n",
       "56   C. J. Angulo/C José Clemente Orozco             1642  \n",
       "57    Av. 16 de Sept. / C. Miguel Blanco             1638  \n",
       "58       Calz. Federalismo/ C. J. Angulo             1626  \n",
       "59      Av. Juárez / Calz. Independencia             1622  "
      ]
     },
     "execution_count": 190,
     "metadata": {},
     "output_type": "execute_result"
    }
   ],
   "source": [
    "overall_stations_df"
   ]
  },
  {
   "cell_type": "markdown",
   "id": "8a2637a4",
   "metadata": {},
   "source": [
    "Per city per year"
   ]
  },
  {
   "cell_type": "code",
   "execution_count": 191,
   "id": "d6f96b9b",
   "metadata": {},
   "outputs": [],
   "source": [
    "# for each year of data, get counts for each unique route\n",
    "# rename the counts column to 'Number of trips'\n",
    "# sort dataframe by # of trips max to min\n",
    "# save the indicies: City, Start/End Name as columns\n",
    "# return the top 50 routes in each city\n",
    "muni_stations_df = \\\n",
    "pd.concat([years_df[i].groupby([\"Start_City\", \"Start_Name\", \"End_Name\"]).size() \\\n",
    "                      .reset_index(name = \"Number of Trips\")                    \\\n",
    "                      .sort_values(\"Number of Trips\", ascending = False)        \\\n",
    "                      .reset_index(drop=False)                                  \\\n",
    "                      .groupby('Start_City').head(30)                             \n",
    "           for i in range(len(years)) \n",
    "          ], axis=0, keys=years).reset_index(drop=False)"
   ]
  },
  {
   "cell_type": "code",
   "execution_count": 192,
   "id": "54d2ffac",
   "metadata": {},
   "outputs": [],
   "source": [
    "# delete index column of [0:14] per year\n",
    "muni_stations_df.drop(['level_1', 'index'], axis=1, inplace=True)\n",
    "\n",
    "# rename 'level_0' column to year\n",
    "muni_stations_df.rename(columns={'level_0': 'Year'}, inplace=True)"
   ]
  },
  {
   "cell_type": "code",
   "execution_count": 193,
   "id": "b2184d3b",
   "metadata": {},
   "outputs": [
    {
     "data": {
      "text/html": [
       "<div>\n",
       "<style scoped>\n",
       "    .dataframe tbody tr th:only-of-type {\n",
       "        vertical-align: middle;\n",
       "    }\n",
       "\n",
       "    .dataframe tbody tr th {\n",
       "        vertical-align: top;\n",
       "    }\n",
       "\n",
       "    .dataframe thead th {\n",
       "        text-align: right;\n",
       "    }\n",
       "</style>\n",
       "<table border=\"1\" class=\"dataframe\">\n",
       "  <thead>\n",
       "    <tr style=\"text-align: right;\">\n",
       "      <th></th>\n",
       "      <th>Year</th>\n",
       "      <th>Start_City</th>\n",
       "      <th>Start_Name</th>\n",
       "      <th>End_Name</th>\n",
       "      <th>Number of Trips</th>\n",
       "    </tr>\n",
       "  </thead>\n",
       "  <tbody>\n",
       "    <tr>\n",
       "      <th>0</th>\n",
       "      <td>2019</td>\n",
       "      <td>Guadalajara</td>\n",
       "      <td>Av. Vallarta / Av. de Los Arcos</td>\n",
       "      <td>Lopez Cotilla/ Marcos Castellanos</td>\n",
       "      <td>8680</td>\n",
       "    </tr>\n",
       "    <tr>\n",
       "      <th>1</th>\n",
       "      <td>2019</td>\n",
       "      <td>Guadalajara</td>\n",
       "      <td>C. Colonias  / C. López Cotilla</td>\n",
       "      <td>Lopez Cotilla/ Marcos Castellanos</td>\n",
       "      <td>6717</td>\n",
       "    </tr>\n",
       "    <tr>\n",
       "      <th>2</th>\n",
       "      <td>2019</td>\n",
       "      <td>Guadalajara</td>\n",
       "      <td>C. Marsella / C. López Cotilla</td>\n",
       "      <td>Lopez Cotilla/ Marcos Castellanos</td>\n",
       "      <td>5200</td>\n",
       "    </tr>\n",
       "    <tr>\n",
       "      <th>3</th>\n",
       "      <td>2019</td>\n",
       "      <td>Guadalajara</td>\n",
       "      <td>Av. Hidalgo / C. Pedro Loza</td>\n",
       "      <td>Av. Alcalde / C. Hospital</td>\n",
       "      <td>4568</td>\n",
       "    </tr>\n",
       "    <tr>\n",
       "      <th>4</th>\n",
       "      <td>2019</td>\n",
       "      <td>Guadalajara</td>\n",
       "      <td>Av. Alcalde / C. Hospital</td>\n",
       "      <td>Av. Hidalgo / C. Pedro Loza</td>\n",
       "      <td>4374</td>\n",
       "    </tr>\n",
       "    <tr>\n",
       "      <th>...</th>\n",
       "      <td>...</td>\n",
       "      <td>...</td>\n",
       "      <td>...</td>\n",
       "      <td>...</td>\n",
       "      <td>...</td>\n",
       "    </tr>\n",
       "    <tr>\n",
       "      <th>175</th>\n",
       "      <td>2020</td>\n",
       "      <td>Tlaquepaque</td>\n",
       "      <td>C. Juárez / Av. Niños Héroes</td>\n",
       "      <td>C. Miguel Hidalgo / Calz. Revolució</td>\n",
       "      <td>312</td>\n",
       "    </tr>\n",
       "    <tr>\n",
       "      <th>176</th>\n",
       "      <td>2020</td>\n",
       "      <td>Tlaquepaque</td>\n",
       "      <td>C. Juárez / Av. Niños Héroes</td>\n",
       "      <td>C. Corregidora / Blvrd. García B.</td>\n",
       "      <td>311</td>\n",
       "    </tr>\n",
       "    <tr>\n",
       "      <th>177</th>\n",
       "      <td>2020</td>\n",
       "      <td>Tlaquepaque</td>\n",
       "      <td>BlvrdGarcía Barragán/C. Río Tajo</td>\n",
       "      <td>C. Guadalupe Victoria /Del Ejercito</td>\n",
       "      <td>292</td>\n",
       "    </tr>\n",
       "    <tr>\n",
       "      <th>178</th>\n",
       "      <td>2020</td>\n",
       "      <td>Tlaquepaque</td>\n",
       "      <td>C. Juárez / Av. Niños Héroes</td>\n",
       "      <td>C. Jalisco / C. Hidalgo</td>\n",
       "      <td>286</td>\n",
       "    </tr>\n",
       "    <tr>\n",
       "      <th>179</th>\n",
       "      <td>2020</td>\n",
       "      <td>Tlaquepaque</td>\n",
       "      <td>C. Miguel Hidalgo / Calz. Revolució</td>\n",
       "      <td>BlvrdGarcía Barragán/C. Río Tajo</td>\n",
       "      <td>285</td>\n",
       "    </tr>\n",
       "  </tbody>\n",
       "</table>\n",
       "<p>180 rows × 5 columns</p>\n",
       "</div>"
      ],
      "text/plain": [
       "     Year   Start_City                            Start_Name  \\\n",
       "0    2019  Guadalajara       Av. Vallarta / Av. de Los Arcos   \n",
       "1    2019  Guadalajara       C. Colonias  / C. López Cotilla   \n",
       "2    2019  Guadalajara        C. Marsella / C. López Cotilla   \n",
       "3    2019  Guadalajara           Av. Hidalgo / C. Pedro Loza   \n",
       "4    2019  Guadalajara             Av. Alcalde / C. Hospital   \n",
       "..    ...          ...                                   ...   \n",
       "175  2020  Tlaquepaque          C. Juárez / Av. Niños Héroes   \n",
       "176  2020  Tlaquepaque          C. Juárez / Av. Niños Héroes   \n",
       "177  2020  Tlaquepaque      BlvrdGarcía Barragán/C. Río Tajo   \n",
       "178  2020  Tlaquepaque          C. Juárez / Av. Niños Héroes   \n",
       "179  2020  Tlaquepaque   C. Miguel Hidalgo / Calz. Revolució   \n",
       "\n",
       "                                 End_Name  Number of Trips  \n",
       "0       Lopez Cotilla/ Marcos Castellanos             8680  \n",
       "1       Lopez Cotilla/ Marcos Castellanos             6717  \n",
       "2       Lopez Cotilla/ Marcos Castellanos             5200  \n",
       "3               Av. Alcalde / C. Hospital             4568  \n",
       "4             Av. Hidalgo / C. Pedro Loza             4374  \n",
       "..                                    ...              ...  \n",
       "175   C. Miguel Hidalgo / Calz. Revolució              312  \n",
       "176     C. Corregidora / Blvrd. García B.              311  \n",
       "177   C. Guadalupe Victoria /Del Ejercito              292  \n",
       "178               C. Jalisco / C. Hidalgo              286  \n",
       "179      BlvrdGarcía Barragán/C. Río Tajo              285  \n",
       "\n",
       "[180 rows x 5 columns]"
      ]
     },
     "execution_count": 193,
     "metadata": {},
     "output_type": "execute_result"
    }
   ],
   "source": [
    "muni_stations_df"
   ]
  },
  {
   "cell_type": "markdown",
   "id": "b1907fde",
   "metadata": {},
   "source": [
    "Use match index to obtain additional info for each start/end station"
   ]
  },
  {
   "cell_type": "code",
   "execution_count": 194,
   "id": "d888cdc1",
   "metadata": {},
   "outputs": [],
   "source": [
    "# combine two dataframes (by city & overall)\n",
    "pop_stations_df = pd.concat([muni_stations_df, overall_stations_df], axis=0).reset_index(drop=True)\n",
    "pop_stations_df.rename(columns={'Start_City':'Category'},inplace=True)"
   ]
  },
  {
   "cell_type": "code",
   "execution_count": 195,
   "id": "d9187364",
   "metadata": {},
   "outputs": [
    {
     "data": {
      "text/html": [
       "<div>\n",
       "<style scoped>\n",
       "    .dataframe tbody tr th:only-of-type {\n",
       "        vertical-align: middle;\n",
       "    }\n",
       "\n",
       "    .dataframe tbody tr th {\n",
       "        vertical-align: top;\n",
       "    }\n",
       "\n",
       "    .dataframe thead th {\n",
       "        text-align: right;\n",
       "    }\n",
       "</style>\n",
       "<table border=\"1\" class=\"dataframe\">\n",
       "  <thead>\n",
       "    <tr style=\"text-align: right;\">\n",
       "      <th></th>\n",
       "      <th>Year</th>\n",
       "      <th>Category</th>\n",
       "      <th>Start_Name</th>\n",
       "      <th>End_Name</th>\n",
       "      <th>Number of Trips</th>\n",
       "    </tr>\n",
       "  </thead>\n",
       "  <tbody>\n",
       "    <tr>\n",
       "      <th>0</th>\n",
       "      <td>2019</td>\n",
       "      <td>Guadalajara</td>\n",
       "      <td>Av. Vallarta / Av. de Los Arcos</td>\n",
       "      <td>Lopez Cotilla/ Marcos Castellanos</td>\n",
       "      <td>8680</td>\n",
       "    </tr>\n",
       "    <tr>\n",
       "      <th>1</th>\n",
       "      <td>2019</td>\n",
       "      <td>Guadalajara</td>\n",
       "      <td>C. Colonias  / C. López Cotilla</td>\n",
       "      <td>Lopez Cotilla/ Marcos Castellanos</td>\n",
       "      <td>6717</td>\n",
       "    </tr>\n",
       "    <tr>\n",
       "      <th>2</th>\n",
       "      <td>2019</td>\n",
       "      <td>Guadalajara</td>\n",
       "      <td>C. Marsella / C. López Cotilla</td>\n",
       "      <td>Lopez Cotilla/ Marcos Castellanos</td>\n",
       "      <td>5200</td>\n",
       "    </tr>\n",
       "    <tr>\n",
       "      <th>3</th>\n",
       "      <td>2019</td>\n",
       "      <td>Guadalajara</td>\n",
       "      <td>Av. Hidalgo / C. Pedro Loza</td>\n",
       "      <td>Av. Alcalde / C. Hospital</td>\n",
       "      <td>4568</td>\n",
       "    </tr>\n",
       "    <tr>\n",
       "      <th>4</th>\n",
       "      <td>2019</td>\n",
       "      <td>Guadalajara</td>\n",
       "      <td>Av. Alcalde / C. Hospital</td>\n",
       "      <td>Av. Hidalgo / C. Pedro Loza</td>\n",
       "      <td>4374</td>\n",
       "    </tr>\n",
       "    <tr>\n",
       "      <th>...</th>\n",
       "      <td>...</td>\n",
       "      <td>...</td>\n",
       "      <td>...</td>\n",
       "      <td>...</td>\n",
       "      <td>...</td>\n",
       "    </tr>\n",
       "    <tr>\n",
       "      <th>235</th>\n",
       "      <td>2020</td>\n",
       "      <td>Total</td>\n",
       "      <td>Av. Hidalgo / C. Pedro Loza</td>\n",
       "      <td>Av. 16 de Sept. / C. Miguel Blanco</td>\n",
       "      <td>1650</td>\n",
       "    </tr>\n",
       "    <tr>\n",
       "      <th>236</th>\n",
       "      <td>2020</td>\n",
       "      <td>Total</td>\n",
       "      <td>Calz. Federalismo/ C. J. Angulo</td>\n",
       "      <td>C. J. Angulo/C José Clemente Orozco</td>\n",
       "      <td>1642</td>\n",
       "    </tr>\n",
       "    <tr>\n",
       "      <th>237</th>\n",
       "      <td>2020</td>\n",
       "      <td>Total</td>\n",
       "      <td>Av. Alcalde / C. Hospital</td>\n",
       "      <td>Av. 16 de Sept. / C. Miguel Blanco</td>\n",
       "      <td>1638</td>\n",
       "    </tr>\n",
       "    <tr>\n",
       "      <th>238</th>\n",
       "      <td>2020</td>\n",
       "      <td>Total</td>\n",
       "      <td>C. Juan Álvarez / C. Belén</td>\n",
       "      <td>Calz. Federalismo/ C. J. Angulo</td>\n",
       "      <td>1626</td>\n",
       "    </tr>\n",
       "    <tr>\n",
       "      <th>239</th>\n",
       "      <td>2020</td>\n",
       "      <td>Total</td>\n",
       "      <td>Av. Juárez / Av. 16 de Septiembre</td>\n",
       "      <td>Av. Juárez / Calz. Independencia</td>\n",
       "      <td>1622</td>\n",
       "    </tr>\n",
       "  </tbody>\n",
       "</table>\n",
       "<p>240 rows × 5 columns</p>\n",
       "</div>"
      ],
      "text/plain": [
       "     Year     Category                          Start_Name  \\\n",
       "0    2019  Guadalajara     Av. Vallarta / Av. de Los Arcos   \n",
       "1    2019  Guadalajara     C. Colonias  / C. López Cotilla   \n",
       "2    2019  Guadalajara      C. Marsella / C. López Cotilla   \n",
       "3    2019  Guadalajara         Av. Hidalgo / C. Pedro Loza   \n",
       "4    2019  Guadalajara           Av. Alcalde / C. Hospital   \n",
       "..    ...          ...                                 ...   \n",
       "235  2020        Total         Av. Hidalgo / C. Pedro Loza   \n",
       "236  2020        Total     Calz. Federalismo/ C. J. Angulo   \n",
       "237  2020        Total           Av. Alcalde / C. Hospital   \n",
       "238  2020        Total          C. Juan Álvarez / C. Belén   \n",
       "239  2020        Total   Av. Juárez / Av. 16 de Septiembre   \n",
       "\n",
       "                                 End_Name  Number of Trips  \n",
       "0       Lopez Cotilla/ Marcos Castellanos             8680  \n",
       "1       Lopez Cotilla/ Marcos Castellanos             6717  \n",
       "2       Lopez Cotilla/ Marcos Castellanos             5200  \n",
       "3               Av. Alcalde / C. Hospital             4568  \n",
       "4             Av. Hidalgo / C. Pedro Loza             4374  \n",
       "..                                    ...              ...  \n",
       "235    Av. 16 de Sept. / C. Miguel Blanco             1650  \n",
       "236   C. J. Angulo/C José Clemente Orozco             1642  \n",
       "237    Av. 16 de Sept. / C. Miguel Blanco             1638  \n",
       "238       Calz. Federalismo/ C. J. Angulo             1626  \n",
       "239      Av. Juárez / Calz. Independencia             1622  \n",
       "\n",
       "[240 rows x 5 columns]"
      ]
     },
     "execution_count": 195,
     "metadata": {},
     "output_type": "execute_result"
    }
   ],
   "source": [
    "pop_stations_df"
   ]
  },
  {
   "cell_type": "code",
   "execution_count": 196,
   "id": "7108c731",
   "metadata": {},
   "outputs": [],
   "source": [
    "# import station dataframe\n",
    "all_stations_new_df = pd.read_csv('../../MiBici_Data/nomenclatura_2022_11_updated.csv', encoding='utf-8')"
   ]
  },
  {
   "cell_type": "code",
   "execution_count": 197,
   "id": "94e130f3",
   "metadata": {},
   "outputs": [],
   "source": [
    "# Match index for STARTING Station\n",
    "pop_stations_df = pop_stations_df.merge(all_stations_new_df, how='left', left_on='Start_Name', right_on='name')\n",
    "\n",
    "# Rename columns for start station\n",
    "pop_stations_df.rename(columns=({'latitude'      : 'Start_Latitude',  \n",
    "                                 'longitude'     : 'Start_Longitude',\n",
    "                                 'status'        : 'Start_Status',\n",
    "                                 'geometry'      : 'Start_Geometry',\n",
    "                                 'address'       : 'Start_Address',\n",
    "                                 'city'          : 'Start_City',\n",
    "                                 'neighbourhood' : 'Start_Neighborhood'}\n",
    "                               ), inplace=True)\n",
    "\n",
    "pop_stations_df.drop(['id', 'name', 'obcn', 'location'], axis=1, inplace=True)"
   ]
  },
  {
   "cell_type": "code",
   "execution_count": 198,
   "id": "264f9510",
   "metadata": {},
   "outputs": [
    {
     "data": {
      "text/html": [
       "<div>\n",
       "<style scoped>\n",
       "    .dataframe tbody tr th:only-of-type {\n",
       "        vertical-align: middle;\n",
       "    }\n",
       "\n",
       "    .dataframe tbody tr th {\n",
       "        vertical-align: top;\n",
       "    }\n",
       "\n",
       "    .dataframe thead th {\n",
       "        text-align: right;\n",
       "    }\n",
       "</style>\n",
       "<table border=\"1\" class=\"dataframe\">\n",
       "  <thead>\n",
       "    <tr style=\"text-align: right;\">\n",
       "      <th></th>\n",
       "      <th>Year</th>\n",
       "      <th>Category</th>\n",
       "      <th>Start_Name</th>\n",
       "      <th>End_Name</th>\n",
       "      <th>Number of Trips</th>\n",
       "      <th>Start_Latitude</th>\n",
       "      <th>Start_Longitude</th>\n",
       "      <th>Start_Status</th>\n",
       "      <th>Start_Geometry</th>\n",
       "      <th>Start_Address</th>\n",
       "      <th>Start_City</th>\n",
       "      <th>Start_Neighborhood</th>\n",
       "    </tr>\n",
       "  </thead>\n",
       "  <tbody>\n",
       "    <tr>\n",
       "      <th>0</th>\n",
       "      <td>2019</td>\n",
       "      <td>Guadalajara</td>\n",
       "      <td>Av. Vallarta / Av. de Los Arcos</td>\n",
       "      <td>Lopez Cotilla/ Marcos Castellanos</td>\n",
       "      <td>8680</td>\n",
       "      <td>20.674380</td>\n",
       "      <td>-103.384880</td>\n",
       "      <td>IN_SERVICE</td>\n",
       "      <td>20.67438,-103.38488</td>\n",
       "      <td>Los Arcos, Avenida Ignacio L. Vallarta, 44130,...</td>\n",
       "      <td>Guadalajara</td>\n",
       "      <td>Arcos Vallarta</td>\n",
       "    </tr>\n",
       "    <tr>\n",
       "      <th>1</th>\n",
       "      <td>2019</td>\n",
       "      <td>Guadalajara</td>\n",
       "      <td>C. Colonias  / C. López Cotilla</td>\n",
       "      <td>Lopez Cotilla/ Marcos Castellanos</td>\n",
       "      <td>6717</td>\n",
       "      <td>20.674132</td>\n",
       "      <td>-103.366139</td>\n",
       "      <td>IN_SERVICE</td>\n",
       "      <td>20.674132,-103.366139</td>\n",
       "      <td>129, Calle Colonias, 44140, Calle Colonias, Gu...</td>\n",
       "      <td>Guadalajara</td>\n",
       "      <td>Americana</td>\n",
       "    </tr>\n",
       "    <tr>\n",
       "      <th>2</th>\n",
       "      <td>2019</td>\n",
       "      <td>Guadalajara</td>\n",
       "      <td>C. Marsella / C. López Cotilla</td>\n",
       "      <td>Lopez Cotilla/ Marcos Castellanos</td>\n",
       "      <td>5200</td>\n",
       "      <td>20.673321</td>\n",
       "      <td>-103.370571</td>\n",
       "      <td>IN_SERVICE</td>\n",
       "      <td>20.673321,-103.370571</td>\n",
       "      <td>MiBici, Calle Marsella, 44140, Calle Marsella,...</td>\n",
       "      <td>Guadalajara</td>\n",
       "      <td>Obrera</td>\n",
       "    </tr>\n",
       "    <tr>\n",
       "      <th>3</th>\n",
       "      <td>2019</td>\n",
       "      <td>Guadalajara</td>\n",
       "      <td>Av. Hidalgo / C. Pedro Loza</td>\n",
       "      <td>Av. Alcalde / C. Hospital</td>\n",
       "      <td>4568</td>\n",
       "      <td>20.677419</td>\n",
       "      <td>-103.347983</td>\n",
       "      <td>IN_SERVICE</td>\n",
       "      <td>20.677419,-103.347983</td>\n",
       "      <td>MiBici, Avenida Hidalgo, 44100, Avenida Hidalg...</td>\n",
       "      <td>Guadalajara</td>\n",
       "      <td>Guadalajara Centro</td>\n",
       "    </tr>\n",
       "    <tr>\n",
       "      <th>4</th>\n",
       "      <td>2019</td>\n",
       "      <td>Guadalajara</td>\n",
       "      <td>Av. Alcalde / C. Hospital</td>\n",
       "      <td>Av. Hidalgo / C. Pedro Loza</td>\n",
       "      <td>4374</td>\n",
       "      <td>20.685040</td>\n",
       "      <td>-103.347960</td>\n",
       "      <td>IN_SERVICE</td>\n",
       "      <td>20.68504,-103.34796</td>\n",
       "      <td>MiBici, Avenida Fray Antonio Alcalde, 44280, A...</td>\n",
       "      <td>Guadalajara</td>\n",
       "      <td>Centro Barranquitas</td>\n",
       "    </tr>\n",
       "  </tbody>\n",
       "</table>\n",
       "</div>"
      ],
      "text/plain": [
       "   Year     Category                        Start_Name  \\\n",
       "0  2019  Guadalajara   Av. Vallarta / Av. de Los Arcos   \n",
       "1  2019  Guadalajara   C. Colonias  / C. López Cotilla   \n",
       "2  2019  Guadalajara    C. Marsella / C. López Cotilla   \n",
       "3  2019  Guadalajara       Av. Hidalgo / C. Pedro Loza   \n",
       "4  2019  Guadalajara         Av. Alcalde / C. Hospital   \n",
       "\n",
       "                             End_Name  Number of Trips  Start_Latitude  \\\n",
       "0   Lopez Cotilla/ Marcos Castellanos             8680       20.674380   \n",
       "1   Lopez Cotilla/ Marcos Castellanos             6717       20.674132   \n",
       "2   Lopez Cotilla/ Marcos Castellanos             5200       20.673321   \n",
       "3           Av. Alcalde / C. Hospital             4568       20.677419   \n",
       "4         Av. Hidalgo / C. Pedro Loza             4374       20.685040   \n",
       "\n",
       "   Start_Longitude Start_Status         Start_Geometry  \\\n",
       "0      -103.384880   IN_SERVICE    20.67438,-103.38488   \n",
       "1      -103.366139   IN_SERVICE  20.674132,-103.366139   \n",
       "2      -103.370571   IN_SERVICE  20.673321,-103.370571   \n",
       "3      -103.347983   IN_SERVICE  20.677419,-103.347983   \n",
       "4      -103.347960   IN_SERVICE    20.68504,-103.34796   \n",
       "\n",
       "                                       Start_Address   Start_City  \\\n",
       "0  Los Arcos, Avenida Ignacio L. Vallarta, 44130,...  Guadalajara   \n",
       "1  129, Calle Colonias, 44140, Calle Colonias, Gu...  Guadalajara   \n",
       "2  MiBici, Calle Marsella, 44140, Calle Marsella,...  Guadalajara   \n",
       "3  MiBici, Avenida Hidalgo, 44100, Avenida Hidalg...  Guadalajara   \n",
       "4  MiBici, Avenida Fray Antonio Alcalde, 44280, A...  Guadalajara   \n",
       "\n",
       "    Start_Neighborhood  \n",
       "0       Arcos Vallarta  \n",
       "1            Americana  \n",
       "2               Obrera  \n",
       "3   Guadalajara Centro  \n",
       "4  Centro Barranquitas  "
      ]
     },
     "execution_count": 198,
     "metadata": {},
     "output_type": "execute_result"
    }
   ],
   "source": [
    "pop_stations_df.head(5)"
   ]
  },
  {
   "cell_type": "code",
   "execution_count": 199,
   "id": "3ece7948",
   "metadata": {},
   "outputs": [],
   "source": [
    "# Match index for ENDING Stations\n",
    "pop_stations_df = pop_stations_df.merge(all_stations_new_df, how='left', left_on='End_Name', right_on='name')\n",
    "\n",
    "# Rename columns for start station\n",
    "pop_stations_df.rename(columns=({'latitude'      : 'End_Latitude',  \n",
    "                                 'longitude'     : 'End_Longitude',\n",
    "                                 'status'        : 'End_Status',\n",
    "                                 'geometry'      : 'End_Geometry',\n",
    "                                 'address'       : 'End_Address',\n",
    "                                 'city'          : 'End_City',\n",
    "                                 'neighbourhood' : 'End_Neighborhood'}\n",
    "                               ), inplace=True)\n",
    "\n",
    "pop_stations_df.drop(['id', 'name', 'obcn', 'location'], axis=1, inplace=True)"
   ]
  },
  {
   "cell_type": "code",
   "execution_count": 200,
   "id": "2d0d0961",
   "metadata": {},
   "outputs": [
    {
     "data": {
      "text/html": [
       "<div>\n",
       "<style scoped>\n",
       "    .dataframe tbody tr th:only-of-type {\n",
       "        vertical-align: middle;\n",
       "    }\n",
       "\n",
       "    .dataframe tbody tr th {\n",
       "        vertical-align: top;\n",
       "    }\n",
       "\n",
       "    .dataframe thead th {\n",
       "        text-align: right;\n",
       "    }\n",
       "</style>\n",
       "<table border=\"1\" class=\"dataframe\">\n",
       "  <thead>\n",
       "    <tr style=\"text-align: right;\">\n",
       "      <th></th>\n",
       "      <th>Year</th>\n",
       "      <th>Category</th>\n",
       "      <th>Start_Name</th>\n",
       "      <th>End_Name</th>\n",
       "      <th>Number of Trips</th>\n",
       "      <th>Start_Latitude</th>\n",
       "      <th>Start_Longitude</th>\n",
       "      <th>Start_Status</th>\n",
       "      <th>Start_Geometry</th>\n",
       "      <th>Start_Address</th>\n",
       "      <th>Start_City</th>\n",
       "      <th>Start_Neighborhood</th>\n",
       "      <th>End_Latitude</th>\n",
       "      <th>End_Longitude</th>\n",
       "      <th>End_Status</th>\n",
       "      <th>End_Geometry</th>\n",
       "      <th>End_Address</th>\n",
       "      <th>End_City</th>\n",
       "      <th>End_Neighborhood</th>\n",
       "    </tr>\n",
       "  </thead>\n",
       "  <tbody>\n",
       "    <tr>\n",
       "      <th>0</th>\n",
       "      <td>2019</td>\n",
       "      <td>Guadalajara</td>\n",
       "      <td>Av. Vallarta / Av. de Los Arcos</td>\n",
       "      <td>Lopez Cotilla/ Marcos Castellanos</td>\n",
       "      <td>8680</td>\n",
       "      <td>20.674380</td>\n",
       "      <td>-103.384880</td>\n",
       "      <td>IN_SERVICE</td>\n",
       "      <td>20.67438,-103.38488</td>\n",
       "      <td>Los Arcos, Avenida Ignacio L. Vallarta, 44130,...</td>\n",
       "      <td>Guadalajara</td>\n",
       "      <td>Arcos Vallarta</td>\n",
       "      <td>20.674087</td>\n",
       "      <td>-103.356320</td>\n",
       "      <td>IN_SERVICE</td>\n",
       "      <td>20.6740865,-103.3563196</td>\n",
       "      <td>771, Calle López Cotilla, 44100, Calle López C...</td>\n",
       "      <td>Guadalajara</td>\n",
       "      <td>Las Nueve Esquinas</td>\n",
       "    </tr>\n",
       "    <tr>\n",
       "      <th>1</th>\n",
       "      <td>2019</td>\n",
       "      <td>Guadalajara</td>\n",
       "      <td>C. Colonias  / C. López Cotilla</td>\n",
       "      <td>Lopez Cotilla/ Marcos Castellanos</td>\n",
       "      <td>6717</td>\n",
       "      <td>20.674132</td>\n",
       "      <td>-103.366139</td>\n",
       "      <td>IN_SERVICE</td>\n",
       "      <td>20.674132,-103.366139</td>\n",
       "      <td>129, Calle Colonias, 44140, Calle Colonias, Gu...</td>\n",
       "      <td>Guadalajara</td>\n",
       "      <td>Americana</td>\n",
       "      <td>20.674087</td>\n",
       "      <td>-103.356320</td>\n",
       "      <td>IN_SERVICE</td>\n",
       "      <td>20.6740865,-103.3563196</td>\n",
       "      <td>771, Calle López Cotilla, 44100, Calle López C...</td>\n",
       "      <td>Guadalajara</td>\n",
       "      <td>Las Nueve Esquinas</td>\n",
       "    </tr>\n",
       "    <tr>\n",
       "      <th>2</th>\n",
       "      <td>2019</td>\n",
       "      <td>Guadalajara</td>\n",
       "      <td>C. Marsella / C. López Cotilla</td>\n",
       "      <td>Lopez Cotilla/ Marcos Castellanos</td>\n",
       "      <td>5200</td>\n",
       "      <td>20.673321</td>\n",
       "      <td>-103.370571</td>\n",
       "      <td>IN_SERVICE</td>\n",
       "      <td>20.673321,-103.370571</td>\n",
       "      <td>MiBici, Calle Marsella, 44140, Calle Marsella,...</td>\n",
       "      <td>Guadalajara</td>\n",
       "      <td>Obrera</td>\n",
       "      <td>20.674087</td>\n",
       "      <td>-103.356320</td>\n",
       "      <td>IN_SERVICE</td>\n",
       "      <td>20.6740865,-103.3563196</td>\n",
       "      <td>771, Calle López Cotilla, 44100, Calle López C...</td>\n",
       "      <td>Guadalajara</td>\n",
       "      <td>Las Nueve Esquinas</td>\n",
       "    </tr>\n",
       "    <tr>\n",
       "      <th>3</th>\n",
       "      <td>2019</td>\n",
       "      <td>Guadalajara</td>\n",
       "      <td>Av. Hidalgo / C. Pedro Loza</td>\n",
       "      <td>Av. Alcalde / C. Hospital</td>\n",
       "      <td>4568</td>\n",
       "      <td>20.677419</td>\n",
       "      <td>-103.347983</td>\n",
       "      <td>IN_SERVICE</td>\n",
       "      <td>20.677419,-103.347983</td>\n",
       "      <td>MiBici, Avenida Hidalgo, 44100, Avenida Hidalg...</td>\n",
       "      <td>Guadalajara</td>\n",
       "      <td>Guadalajara Centro</td>\n",
       "      <td>20.685040</td>\n",
       "      <td>-103.347960</td>\n",
       "      <td>IN_SERVICE</td>\n",
       "      <td>20.68504,-103.34796</td>\n",
       "      <td>MiBici, Avenida Fray Antonio Alcalde, 44280, A...</td>\n",
       "      <td>Guadalajara</td>\n",
       "      <td>Centro Barranquitas</td>\n",
       "    </tr>\n",
       "    <tr>\n",
       "      <th>4</th>\n",
       "      <td>2019</td>\n",
       "      <td>Guadalajara</td>\n",
       "      <td>Av. Alcalde / C. Hospital</td>\n",
       "      <td>Av. Hidalgo / C. Pedro Loza</td>\n",
       "      <td>4374</td>\n",
       "      <td>20.685040</td>\n",
       "      <td>-103.347960</td>\n",
       "      <td>IN_SERVICE</td>\n",
       "      <td>20.68504,-103.34796</td>\n",
       "      <td>MiBici, Avenida Fray Antonio Alcalde, 44280, A...</td>\n",
       "      <td>Guadalajara</td>\n",
       "      <td>Centro Barranquitas</td>\n",
       "      <td>20.677419</td>\n",
       "      <td>-103.347983</td>\n",
       "      <td>IN_SERVICE</td>\n",
       "      <td>20.677419,-103.347983</td>\n",
       "      <td>MiBici, Avenida Hidalgo, 44100, Avenida Hidalg...</td>\n",
       "      <td>Guadalajara</td>\n",
       "      <td>Guadalajara Centro</td>\n",
       "    </tr>\n",
       "  </tbody>\n",
       "</table>\n",
       "</div>"
      ],
      "text/plain": [
       "   Year     Category                        Start_Name  \\\n",
       "0  2019  Guadalajara   Av. Vallarta / Av. de Los Arcos   \n",
       "1  2019  Guadalajara   C. Colonias  / C. López Cotilla   \n",
       "2  2019  Guadalajara    C. Marsella / C. López Cotilla   \n",
       "3  2019  Guadalajara       Av. Hidalgo / C. Pedro Loza   \n",
       "4  2019  Guadalajara         Av. Alcalde / C. Hospital   \n",
       "\n",
       "                             End_Name  Number of Trips  Start_Latitude  \\\n",
       "0   Lopez Cotilla/ Marcos Castellanos             8680       20.674380   \n",
       "1   Lopez Cotilla/ Marcos Castellanos             6717       20.674132   \n",
       "2   Lopez Cotilla/ Marcos Castellanos             5200       20.673321   \n",
       "3           Av. Alcalde / C. Hospital             4568       20.677419   \n",
       "4         Av. Hidalgo / C. Pedro Loza             4374       20.685040   \n",
       "\n",
       "   Start_Longitude Start_Status         Start_Geometry  \\\n",
       "0      -103.384880   IN_SERVICE    20.67438,-103.38488   \n",
       "1      -103.366139   IN_SERVICE  20.674132,-103.366139   \n",
       "2      -103.370571   IN_SERVICE  20.673321,-103.370571   \n",
       "3      -103.347983   IN_SERVICE  20.677419,-103.347983   \n",
       "4      -103.347960   IN_SERVICE    20.68504,-103.34796   \n",
       "\n",
       "                                       Start_Address   Start_City  \\\n",
       "0  Los Arcos, Avenida Ignacio L. Vallarta, 44130,...  Guadalajara   \n",
       "1  129, Calle Colonias, 44140, Calle Colonias, Gu...  Guadalajara   \n",
       "2  MiBici, Calle Marsella, 44140, Calle Marsella,...  Guadalajara   \n",
       "3  MiBici, Avenida Hidalgo, 44100, Avenida Hidalg...  Guadalajara   \n",
       "4  MiBici, Avenida Fray Antonio Alcalde, 44280, A...  Guadalajara   \n",
       "\n",
       "    Start_Neighborhood  End_Latitude  End_Longitude  End_Status  \\\n",
       "0       Arcos Vallarta     20.674087    -103.356320  IN_SERVICE   \n",
       "1            Americana     20.674087    -103.356320  IN_SERVICE   \n",
       "2               Obrera     20.674087    -103.356320  IN_SERVICE   \n",
       "3   Guadalajara Centro     20.685040    -103.347960  IN_SERVICE   \n",
       "4  Centro Barranquitas     20.677419    -103.347983  IN_SERVICE   \n",
       "\n",
       "              End_Geometry                                        End_Address  \\\n",
       "0  20.6740865,-103.3563196  771, Calle López Cotilla, 44100, Calle López C...   \n",
       "1  20.6740865,-103.3563196  771, Calle López Cotilla, 44100, Calle López C...   \n",
       "2  20.6740865,-103.3563196  771, Calle López Cotilla, 44100, Calle López C...   \n",
       "3      20.68504,-103.34796  MiBici, Avenida Fray Antonio Alcalde, 44280, A...   \n",
       "4    20.677419,-103.347983  MiBici, Avenida Hidalgo, 44100, Avenida Hidalg...   \n",
       "\n",
       "      End_City     End_Neighborhood  \n",
       "0  Guadalajara   Las Nueve Esquinas  \n",
       "1  Guadalajara   Las Nueve Esquinas  \n",
       "2  Guadalajara   Las Nueve Esquinas  \n",
       "3  Guadalajara  Centro Barranquitas  \n",
       "4  Guadalajara   Guadalajara Centro  "
      ]
     },
     "execution_count": 200,
     "metadata": {},
     "output_type": "execute_result"
    }
   ],
   "source": [
    "pop_stations_df.head(5)"
   ]
  },
  {
   "cell_type": "code",
   "execution_count": 201,
   "id": "2bd7c6cd",
   "metadata": {},
   "outputs": [],
   "source": [
    "# export data\n",
    "# pop_stations_df.to_csv('../../MiBici_Data/Tableau_Datasets/Question_4/popular_routes_count.csv', index=False, encoding = 'utf-8')"
   ]
  },
  {
   "cell_type": "markdown",
   "id": "eab8f294",
   "metadata": {},
   "source": [
    "#### Route for Popular Trips"
   ]
  },
  {
   "cell_type": "markdown",
   "id": "cec95e27",
   "metadata": {},
   "source": [
    "This function creates the google.maps url needed to obtain the directions between any two points\n"
   ]
  },
  {
   "cell_type": "code",
   "execution_count": 202,
   "id": "e8058645",
   "metadata": {},
   "outputs": [],
   "source": [
    "# Google API Key\n",
    "API_Key = Path('../../MiBici_Data/GDirections_API_Key.txt').read_text()\n",
    "\n",
    "# avoid highways and find directions for a cyclist\n",
    "avoid = 'highway'\n",
    "transport_mode = 'bicycling'\n",
    "\n",
    "# Function\n",
    "def google_directions(s_lat, s_lng, e_lat, e_lng, avd, trnsprt_mode, API_k):\n",
    "    \n",
    "    # build url address for directions\n",
    "    url = \"https://maps.googleapis.com/maps/api/directions/json?\"     \\\n",
    "          + \"origin=\" + s_lat + \"%2C\" + s_lng                         \\\n",
    "          + \"&destination=\" + e_lat + \"%2C\" + e_lng                   \\\n",
    "          + \"&avoid=\" + avd                                           \\\n",
    "          + \"&mode=\" + trnsprt_mode                                   \\\n",
    "          + \"&key=\" + API_k\n",
    "    \n",
    "    payload={}\n",
    "    headers = {}\n",
    "    \n",
    "    # Request access to the google apis webpage.\n",
    "    response = requests.request(\"GET\", url, headers=headers, data=payload)\n",
    "    return response"
   ]
  },
  {
   "cell_type": "markdown",
   "id": "46ea9c89",
   "metadata": {},
   "source": [
    "Use google directions API function to obtain the lat/lng coordinates of top 30 routes per year & by category"
   ]
  },
  {
   "cell_type": "code",
   "execution_count": 203,
   "id": "da351d01",
   "metadata": {},
   "outputs": [],
   "source": [
    "list = []\n",
    "\n",
    "# loop through each row, enter start/end lat/lng info into google maps to obtain bicycle route.\n",
    "for i in pop_stations_df.index:\n",
    "    \n",
    "    # Request access to the google apis webpage. Enter lat/lng data for each route in df \n",
    "    response = google_directions(pop_stations_df['Start_Latitude'][i].astype('str'), \n",
    "                                 pop_stations_df['Start_Longitude'][i].astype('str'), \n",
    "                                 pop_stations_df['End_Latitude'][i].astype('str'), \n",
    "                                 pop_stations_df['End_Longitude'][i].astype('str'), \n",
    "                                 avoid, transport_mode, API_Key)\n",
    "    \n",
    "    # Obtain polyline of route and convert it into a list of tuple lat/lngs\n",
    "    # append to list\n",
    "    list.append(polyline.decode(response.json()['routes'][0]['overview_polyline']['points'])) \n",
    "\n",
    "# Clear API key\n",
    "API_Key = ''"
   ]
  },
  {
   "cell_type": "code",
   "execution_count": 204,
   "id": "e05fa6ce",
   "metadata": {},
   "outputs": [],
   "source": [
    "pop_stations_df['Route'] = pd.Series(list)"
   ]
  },
  {
   "cell_type": "code",
   "execution_count": 205,
   "id": "ccfb5158",
   "metadata": {},
   "outputs": [
    {
     "data": {
      "text/html": [
       "<div>\n",
       "<style scoped>\n",
       "    .dataframe tbody tr th:only-of-type {\n",
       "        vertical-align: middle;\n",
       "    }\n",
       "\n",
       "    .dataframe tbody tr th {\n",
       "        vertical-align: top;\n",
       "    }\n",
       "\n",
       "    .dataframe thead th {\n",
       "        text-align: right;\n",
       "    }\n",
       "</style>\n",
       "<table border=\"1\" class=\"dataframe\">\n",
       "  <thead>\n",
       "    <tr style=\"text-align: right;\">\n",
       "      <th></th>\n",
       "      <th>Year</th>\n",
       "      <th>Category</th>\n",
       "      <th>Start_Name</th>\n",
       "      <th>End_Name</th>\n",
       "      <th>Number of Trips</th>\n",
       "      <th>Start_Latitude</th>\n",
       "      <th>Start_Longitude</th>\n",
       "      <th>Start_Status</th>\n",
       "      <th>Start_Geometry</th>\n",
       "      <th>Start_Address</th>\n",
       "      <th>Start_City</th>\n",
       "      <th>Start_Neighborhood</th>\n",
       "      <th>End_Latitude</th>\n",
       "      <th>End_Longitude</th>\n",
       "      <th>End_Status</th>\n",
       "      <th>End_Geometry</th>\n",
       "      <th>End_Address</th>\n",
       "      <th>End_City</th>\n",
       "      <th>End_Neighborhood</th>\n",
       "      <th>Route</th>\n",
       "    </tr>\n",
       "  </thead>\n",
       "  <tbody>\n",
       "    <tr>\n",
       "      <th>0</th>\n",
       "      <td>2019</td>\n",
       "      <td>Guadalajara</td>\n",
       "      <td>Av. Vallarta / Av. de Los Arcos</td>\n",
       "      <td>Lopez Cotilla/ Marcos Castellanos</td>\n",
       "      <td>8680</td>\n",
       "      <td>20.674380</td>\n",
       "      <td>-103.384880</td>\n",
       "      <td>IN_SERVICE</td>\n",
       "      <td>20.67438,-103.38488</td>\n",
       "      <td>Los Arcos, Avenida Ignacio L. Vallarta, 44130,...</td>\n",
       "      <td>Guadalajara</td>\n",
       "      <td>Arcos Vallarta</td>\n",
       "      <td>20.674087</td>\n",
       "      <td>-103.356320</td>\n",
       "      <td>IN_SERVICE</td>\n",
       "      <td>20.6740865,-103.3563196</td>\n",
       "      <td>771, Calle López Cotilla, 44100, Calle López C...</td>\n",
       "      <td>Guadalajara</td>\n",
       "      <td>Las Nueve Esquinas</td>\n",
       "      <td>[(20.67446, -103.38488), (20.67446, -103.38533...</td>\n",
       "    </tr>\n",
       "    <tr>\n",
       "      <th>1</th>\n",
       "      <td>2019</td>\n",
       "      <td>Guadalajara</td>\n",
       "      <td>C. Colonias  / C. López Cotilla</td>\n",
       "      <td>Lopez Cotilla/ Marcos Castellanos</td>\n",
       "      <td>6717</td>\n",
       "      <td>20.674132</td>\n",
       "      <td>-103.366139</td>\n",
       "      <td>IN_SERVICE</td>\n",
       "      <td>20.674132,-103.366139</td>\n",
       "      <td>129, Calle Colonias, 44140, Calle Colonias, Gu...</td>\n",
       "      <td>Guadalajara</td>\n",
       "      <td>Americana</td>\n",
       "      <td>20.674087</td>\n",
       "      <td>-103.356320</td>\n",
       "      <td>IN_SERVICE</td>\n",
       "      <td>20.6740865,-103.3563196</td>\n",
       "      <td>771, Calle López Cotilla, 44100, Calle López C...</td>\n",
       "      <td>Guadalajara</td>\n",
       "      <td>Las Nueve Esquinas</td>\n",
       "      <td>[(20.67413, -103.36614), (20.6738, -103.36613)...</td>\n",
       "    </tr>\n",
       "    <tr>\n",
       "      <th>2</th>\n",
       "      <td>2019</td>\n",
       "      <td>Guadalajara</td>\n",
       "      <td>C. Marsella / C. López Cotilla</td>\n",
       "      <td>Lopez Cotilla/ Marcos Castellanos</td>\n",
       "      <td>5200</td>\n",
       "      <td>20.673321</td>\n",
       "      <td>-103.370571</td>\n",
       "      <td>IN_SERVICE</td>\n",
       "      <td>20.673321,-103.370571</td>\n",
       "      <td>MiBici, Calle Marsella, 44140, Calle Marsella,...</td>\n",
       "      <td>Guadalajara</td>\n",
       "      <td>Obrera</td>\n",
       "      <td>20.674087</td>\n",
       "      <td>-103.356320</td>\n",
       "      <td>IN_SERVICE</td>\n",
       "      <td>20.6740865,-103.3563196</td>\n",
       "      <td>771, Calle López Cotilla, 44100, Calle López C...</td>\n",
       "      <td>Guadalajara</td>\n",
       "      <td>Las Nueve Esquinas</td>\n",
       "      <td>[(20.67332, -103.37055), (20.67368, -103.37056...</td>\n",
       "    </tr>\n",
       "    <tr>\n",
       "      <th>3</th>\n",
       "      <td>2019</td>\n",
       "      <td>Guadalajara</td>\n",
       "      <td>Av. Hidalgo / C. Pedro Loza</td>\n",
       "      <td>Av. Alcalde / C. Hospital</td>\n",
       "      <td>4568</td>\n",
       "      <td>20.677419</td>\n",
       "      <td>-103.347983</td>\n",
       "      <td>IN_SERVICE</td>\n",
       "      <td>20.677419,-103.347983</td>\n",
       "      <td>MiBici, Avenida Hidalgo, 44100, Avenida Hidalg...</td>\n",
       "      <td>Guadalajara</td>\n",
       "      <td>Guadalajara Centro</td>\n",
       "      <td>20.685040</td>\n",
       "      <td>-103.347960</td>\n",
       "      <td>IN_SERVICE</td>\n",
       "      <td>20.68504,-103.34796</td>\n",
       "      <td>MiBici, Avenida Fray Antonio Alcalde, 44280, A...</td>\n",
       "      <td>Guadalajara</td>\n",
       "      <td>Centro Barranquitas</td>\n",
       "      <td>[(20.6774, -103.34798), (20.67743, -103.34712)...</td>\n",
       "    </tr>\n",
       "    <tr>\n",
       "      <th>4</th>\n",
       "      <td>2019</td>\n",
       "      <td>Guadalajara</td>\n",
       "      <td>Av. Alcalde / C. Hospital</td>\n",
       "      <td>Av. Hidalgo / C. Pedro Loza</td>\n",
       "      <td>4374</td>\n",
       "      <td>20.685040</td>\n",
       "      <td>-103.347960</td>\n",
       "      <td>IN_SERVICE</td>\n",
       "      <td>20.68504,-103.34796</td>\n",
       "      <td>MiBici, Avenida Fray Antonio Alcalde, 44280, A...</td>\n",
       "      <td>Guadalajara</td>\n",
       "      <td>Centro Barranquitas</td>\n",
       "      <td>20.677419</td>\n",
       "      <td>-103.347983</td>\n",
       "      <td>IN_SERVICE</td>\n",
       "      <td>20.677419,-103.347983</td>\n",
       "      <td>MiBici, Avenida Hidalgo, 44100, Avenida Hidalg...</td>\n",
       "      <td>Guadalajara</td>\n",
       "      <td>Guadalajara Centro</td>\n",
       "      <td>[(20.68504, -103.34797), (20.68279, -103.34783...</td>\n",
       "    </tr>\n",
       "    <tr>\n",
       "      <th>5</th>\n",
       "      <td>2019</td>\n",
       "      <td>Guadalajara</td>\n",
       "      <td>Lopez Cotilla/ Marcos Castellanos</td>\n",
       "      <td>C. Colonias  / C. López Cotilla</td>\n",
       "      <td>4341</td>\n",
       "      <td>20.674087</td>\n",
       "      <td>-103.356320</td>\n",
       "      <td>IN_SERVICE</td>\n",
       "      <td>20.6740865,-103.3563196</td>\n",
       "      <td>771, Calle López Cotilla, 44100, Calle López C...</td>\n",
       "      <td>Guadalajara</td>\n",
       "      <td>Las Nueve Esquinas</td>\n",
       "      <td>20.674132</td>\n",
       "      <td>-103.366139</td>\n",
       "      <td>IN_SERVICE</td>\n",
       "      <td>20.674132,-103.366139</td>\n",
       "      <td>129, Calle Colonias, 44140, Calle Colonias, Gu...</td>\n",
       "      <td>Guadalajara</td>\n",
       "      <td>Americana</td>\n",
       "      <td>[(20.67407, -103.35632), (20.67412, -103.35548...</td>\n",
       "    </tr>\n",
       "    <tr>\n",
       "      <th>6</th>\n",
       "      <td>2019</td>\n",
       "      <td>Guadalajara</td>\n",
       "      <td>C. J. Ruíz de Alarcón / Av Vallarta</td>\n",
       "      <td>Lopez Cotilla/ Marcos Castellanos</td>\n",
       "      <td>4203</td>\n",
       "      <td>20.674480</td>\n",
       "      <td>-103.376180</td>\n",
       "      <td>IN_SERVICE</td>\n",
       "      <td>20.67448,-103.37618</td>\n",
       "      <td>Oxxo, Avenida Ignacio L. Vallarta, 44158, Aven...</td>\n",
       "      <td>Guadalajara</td>\n",
       "      <td>Ladrón de Guevara</td>\n",
       "      <td>20.674087</td>\n",
       "      <td>-103.356320</td>\n",
       "      <td>IN_SERVICE</td>\n",
       "      <td>20.6740865,-103.3563196</td>\n",
       "      <td>771, Calle López Cotilla, 44100, Calle López C...</td>\n",
       "      <td>Guadalajara</td>\n",
       "      <td>Las Nueve Esquinas</td>\n",
       "      <td>[(20.67448, -103.37618), (20.67354, -103.37617...</td>\n",
       "    </tr>\n",
       "    <tr>\n",
       "      <th>7</th>\n",
       "      <td>2019</td>\n",
       "      <td>Guadalajara</td>\n",
       "      <td>C. Libertad / C. Moscú</td>\n",
       "      <td>Lopez Cotilla/ Marcos Castellanos</td>\n",
       "      <td>3888</td>\n",
       "      <td>20.673072</td>\n",
       "      <td>-103.365055</td>\n",
       "      <td>IN_SERVICE</td>\n",
       "      <td>20.673072,-103.365055</td>\n",
       "      <td>MiBici, Avenida Libertad, 44170, Avenida Liber...</td>\n",
       "      <td>Guadalajara</td>\n",
       "      <td>Americana</td>\n",
       "      <td>20.674087</td>\n",
       "      <td>-103.356320</td>\n",
       "      <td>IN_SERVICE</td>\n",
       "      <td>20.6740865,-103.3563196</td>\n",
       "      <td>771, Calle López Cotilla, 44100, Calle López C...</td>\n",
       "      <td>Guadalajara</td>\n",
       "      <td>Las Nueve Esquinas</td>\n",
       "      <td>[(20.67305, -103.36506), (20.67321, -103.36555...</td>\n",
       "    </tr>\n",
       "  </tbody>\n",
       "</table>\n",
       "</div>"
      ],
      "text/plain": [
       "   Year     Category                            Start_Name  \\\n",
       "0  2019  Guadalajara       Av. Vallarta / Av. de Los Arcos   \n",
       "1  2019  Guadalajara       C. Colonias  / C. López Cotilla   \n",
       "2  2019  Guadalajara        C. Marsella / C. López Cotilla   \n",
       "3  2019  Guadalajara           Av. Hidalgo / C. Pedro Loza   \n",
       "4  2019  Guadalajara             Av. Alcalde / C. Hospital   \n",
       "5  2019  Guadalajara     Lopez Cotilla/ Marcos Castellanos   \n",
       "6  2019  Guadalajara   C. J. Ruíz de Alarcón / Av Vallarta   \n",
       "7  2019  Guadalajara                C. Libertad / C. Moscú   \n",
       "\n",
       "                             End_Name  Number of Trips  Start_Latitude  \\\n",
       "0   Lopez Cotilla/ Marcos Castellanos             8680       20.674380   \n",
       "1   Lopez Cotilla/ Marcos Castellanos             6717       20.674132   \n",
       "2   Lopez Cotilla/ Marcos Castellanos             5200       20.673321   \n",
       "3           Av. Alcalde / C. Hospital             4568       20.677419   \n",
       "4         Av. Hidalgo / C. Pedro Loza             4374       20.685040   \n",
       "5     C. Colonias  / C. López Cotilla             4341       20.674087   \n",
       "6   Lopez Cotilla/ Marcos Castellanos             4203       20.674480   \n",
       "7   Lopez Cotilla/ Marcos Castellanos             3888       20.673072   \n",
       "\n",
       "   Start_Longitude Start_Status           Start_Geometry  \\\n",
       "0      -103.384880   IN_SERVICE      20.67438,-103.38488   \n",
       "1      -103.366139   IN_SERVICE    20.674132,-103.366139   \n",
       "2      -103.370571   IN_SERVICE    20.673321,-103.370571   \n",
       "3      -103.347983   IN_SERVICE    20.677419,-103.347983   \n",
       "4      -103.347960   IN_SERVICE      20.68504,-103.34796   \n",
       "5      -103.356320   IN_SERVICE  20.6740865,-103.3563196   \n",
       "6      -103.376180   IN_SERVICE      20.67448,-103.37618   \n",
       "7      -103.365055   IN_SERVICE    20.673072,-103.365055   \n",
       "\n",
       "                                       Start_Address   Start_City  \\\n",
       "0  Los Arcos, Avenida Ignacio L. Vallarta, 44130,...  Guadalajara   \n",
       "1  129, Calle Colonias, 44140, Calle Colonias, Gu...  Guadalajara   \n",
       "2  MiBici, Calle Marsella, 44140, Calle Marsella,...  Guadalajara   \n",
       "3  MiBici, Avenida Hidalgo, 44100, Avenida Hidalg...  Guadalajara   \n",
       "4  MiBici, Avenida Fray Antonio Alcalde, 44280, A...  Guadalajara   \n",
       "5  771, Calle López Cotilla, 44100, Calle López C...  Guadalajara   \n",
       "6  Oxxo, Avenida Ignacio L. Vallarta, 44158, Aven...  Guadalajara   \n",
       "7  MiBici, Avenida Libertad, 44170, Avenida Liber...  Guadalajara   \n",
       "\n",
       "    Start_Neighborhood  End_Latitude  End_Longitude  End_Status  \\\n",
       "0       Arcos Vallarta     20.674087    -103.356320  IN_SERVICE   \n",
       "1            Americana     20.674087    -103.356320  IN_SERVICE   \n",
       "2               Obrera     20.674087    -103.356320  IN_SERVICE   \n",
       "3   Guadalajara Centro     20.685040    -103.347960  IN_SERVICE   \n",
       "4  Centro Barranquitas     20.677419    -103.347983  IN_SERVICE   \n",
       "5   Las Nueve Esquinas     20.674132    -103.366139  IN_SERVICE   \n",
       "6    Ladrón de Guevara     20.674087    -103.356320  IN_SERVICE   \n",
       "7            Americana     20.674087    -103.356320  IN_SERVICE   \n",
       "\n",
       "              End_Geometry                                        End_Address  \\\n",
       "0  20.6740865,-103.3563196  771, Calle López Cotilla, 44100, Calle López C...   \n",
       "1  20.6740865,-103.3563196  771, Calle López Cotilla, 44100, Calle López C...   \n",
       "2  20.6740865,-103.3563196  771, Calle López Cotilla, 44100, Calle López C...   \n",
       "3      20.68504,-103.34796  MiBici, Avenida Fray Antonio Alcalde, 44280, A...   \n",
       "4    20.677419,-103.347983  MiBici, Avenida Hidalgo, 44100, Avenida Hidalg...   \n",
       "5    20.674132,-103.366139  129, Calle Colonias, 44140, Calle Colonias, Gu...   \n",
       "6  20.6740865,-103.3563196  771, Calle López Cotilla, 44100, Calle López C...   \n",
       "7  20.6740865,-103.3563196  771, Calle López Cotilla, 44100, Calle López C...   \n",
       "\n",
       "      End_City     End_Neighborhood  \\\n",
       "0  Guadalajara   Las Nueve Esquinas   \n",
       "1  Guadalajara   Las Nueve Esquinas   \n",
       "2  Guadalajara   Las Nueve Esquinas   \n",
       "3  Guadalajara  Centro Barranquitas   \n",
       "4  Guadalajara   Guadalajara Centro   \n",
       "5  Guadalajara            Americana   \n",
       "6  Guadalajara   Las Nueve Esquinas   \n",
       "7  Guadalajara   Las Nueve Esquinas   \n",
       "\n",
       "                                               Route  \n",
       "0  [(20.67446, -103.38488), (20.67446, -103.38533...  \n",
       "1  [(20.67413, -103.36614), (20.6738, -103.36613)...  \n",
       "2  [(20.67332, -103.37055), (20.67368, -103.37056...  \n",
       "3  [(20.6774, -103.34798), (20.67743, -103.34712)...  \n",
       "4  [(20.68504, -103.34797), (20.68279, -103.34783...  \n",
       "5  [(20.67407, -103.35632), (20.67412, -103.35548...  \n",
       "6  [(20.67448, -103.37618), (20.67354, -103.37617...  \n",
       "7  [(20.67305, -103.36506), (20.67321, -103.36555...  "
      ]
     },
     "execution_count": 205,
     "metadata": {},
     "output_type": "execute_result"
    }
   ],
   "source": [
    "pop_stations_df.head(8)"
   ]
  },
  {
   "cell_type": "markdown",
   "id": "d9cb1a67",
   "metadata": {},
   "source": [
    "Format dataframe for Tableau:\n",
    "* A path ID for every unique path. \n",
    "* Order of Points column: index order of lat/lng per path\n",
    "* Latitude and longitude coordinates for every location\n",
    "* Route name\n",
    "* number of trips"
   ]
  },
  {
   "cell_type": "code",
   "execution_count": 206,
   "id": "29c3dc3d",
   "metadata": {},
   "outputs": [],
   "source": [
    "temp_df       = pd.DataFrame()\n",
    "tab_routes_df = pd.DataFrame()\n",
    "\n",
    "# loop through each row, for each route, create appropriate dataframe format and append to 'tab_routes_df'\n",
    "for i in pop_stations_df.index:\n",
    "    temp_df = pd.DataFrame(pop_stations_df.Route[i], columns = ['Latitude', 'Longitude'])\n",
    "    temp_df['Order of Points'] = temp_df.index + 1\n",
    "    temp_df['Path ID']         = pd.DataFrame([i + 1]*len(temp_df))\n",
    "    temp_df['Line']            = pd.DataFrame([i + 1]*len(temp_df))\n",
    "    temp_df['Start Name']      = pd.DataFrame([pop_stations_df['Start_Name'][i]]*len(temp_df))\n",
    "    temp_df['End Name']        = pd.DataFrame([pop_stations_df['End_Name'][i]]*len(temp_df))\n",
    "    temp_df['Number of Trips'] = pd.DataFrame([pop_stations_df['Number of Trips'][i]]*len(temp_df))\n",
    "    temp_df['Year']            = pd.DataFrame([pop_stations_df['Year'][i]]*len(temp_df))\n",
    "    temp_df['Category']        = pd.DataFrame([pop_stations_df['Category'][i]]*len(temp_df))\n",
    "     \n",
    "    tab_routes_df = pd.concat([tab_routes_df, temp_df], axis=0)\n",
    "    \n",
    "    temp_df = pd.DataFrame()"
   ]
  },
  {
   "cell_type": "code",
   "execution_count": 207,
   "id": "893b9565",
   "metadata": {},
   "outputs": [
    {
     "data": {
      "text/html": [
       "<div>\n",
       "<style scoped>\n",
       "    .dataframe tbody tr th:only-of-type {\n",
       "        vertical-align: middle;\n",
       "    }\n",
       "\n",
       "    .dataframe tbody tr th {\n",
       "        vertical-align: top;\n",
       "    }\n",
       "\n",
       "    .dataframe thead th {\n",
       "        text-align: right;\n",
       "    }\n",
       "</style>\n",
       "<table border=\"1\" class=\"dataframe\">\n",
       "  <thead>\n",
       "    <tr style=\"text-align: right;\">\n",
       "      <th></th>\n",
       "      <th>Latitude</th>\n",
       "      <th>Longitude</th>\n",
       "      <th>Order of Points</th>\n",
       "      <th>Path ID</th>\n",
       "      <th>Line</th>\n",
       "      <th>Start Name</th>\n",
       "      <th>End Name</th>\n",
       "      <th>Number of Trips</th>\n",
       "      <th>Year</th>\n",
       "      <th>Category</th>\n",
       "    </tr>\n",
       "  </thead>\n",
       "  <tbody>\n",
       "    <tr>\n",
       "      <th>0</th>\n",
       "      <td>20.67446</td>\n",
       "      <td>-103.38488</td>\n",
       "      <td>1</td>\n",
       "      <td>1</td>\n",
       "      <td>1</td>\n",
       "      <td>Av. Vallarta / Av. de Los Arcos</td>\n",
       "      <td>Lopez Cotilla/ Marcos Castellanos</td>\n",
       "      <td>8680</td>\n",
       "      <td>2019</td>\n",
       "      <td>Guadalajara</td>\n",
       "    </tr>\n",
       "    <tr>\n",
       "      <th>1</th>\n",
       "      <td>20.67446</td>\n",
       "      <td>-103.38533</td>\n",
       "      <td>2</td>\n",
       "      <td>1</td>\n",
       "      <td>1</td>\n",
       "      <td>Av. Vallarta / Av. de Los Arcos</td>\n",
       "      <td>Lopez Cotilla/ Marcos Castellanos</td>\n",
       "      <td>8680</td>\n",
       "      <td>2019</td>\n",
       "      <td>Guadalajara</td>\n",
       "    </tr>\n",
       "    <tr>\n",
       "      <th>2</th>\n",
       "      <td>20.67440</td>\n",
       "      <td>-103.38533</td>\n",
       "      <td>3</td>\n",
       "      <td>1</td>\n",
       "      <td>1</td>\n",
       "      <td>Av. Vallarta / Av. de Los Arcos</td>\n",
       "      <td>Lopez Cotilla/ Marcos Castellanos</td>\n",
       "      <td>8680</td>\n",
       "      <td>2019</td>\n",
       "      <td>Guadalajara</td>\n",
       "    </tr>\n",
       "    <tr>\n",
       "      <th>3</th>\n",
       "      <td>20.67431</td>\n",
       "      <td>-103.38535</td>\n",
       "      <td>4</td>\n",
       "      <td>1</td>\n",
       "      <td>1</td>\n",
       "      <td>Av. Vallarta / Av. de Los Arcos</td>\n",
       "      <td>Lopez Cotilla/ Marcos Castellanos</td>\n",
       "      <td>8680</td>\n",
       "      <td>2019</td>\n",
       "      <td>Guadalajara</td>\n",
       "    </tr>\n",
       "    <tr>\n",
       "      <th>4</th>\n",
       "      <td>20.67419</td>\n",
       "      <td>-103.38540</td>\n",
       "      <td>5</td>\n",
       "      <td>1</td>\n",
       "      <td>1</td>\n",
       "      <td>Av. Vallarta / Av. de Los Arcos</td>\n",
       "      <td>Lopez Cotilla/ Marcos Castellanos</td>\n",
       "      <td>8680</td>\n",
       "      <td>2019</td>\n",
       "      <td>Guadalajara</td>\n",
       "    </tr>\n",
       "    <tr>\n",
       "      <th>...</th>\n",
       "      <td>...</td>\n",
       "      <td>...</td>\n",
       "      <td>...</td>\n",
       "      <td>...</td>\n",
       "      <td>...</td>\n",
       "      <td>...</td>\n",
       "      <td>...</td>\n",
       "      <td>...</td>\n",
       "      <td>...</td>\n",
       "      <td>...</td>\n",
       "    </tr>\n",
       "    <tr>\n",
       "      <th>9</th>\n",
       "      <td>20.67537</td>\n",
       "      <td>-103.34326</td>\n",
       "      <td>10</td>\n",
       "      <td>240</td>\n",
       "      <td>240</td>\n",
       "      <td>Av. Juárez / Av. 16 de Septiembre</td>\n",
       "      <td>Av. Juárez / Calz. Independencia</td>\n",
       "      <td>1622</td>\n",
       "      <td>2020</td>\n",
       "      <td>Total</td>\n",
       "    </tr>\n",
       "    <tr>\n",
       "      <th>10</th>\n",
       "      <td>20.67534</td>\n",
       "      <td>-103.34357</td>\n",
       "      <td>11</td>\n",
       "      <td>240</td>\n",
       "      <td>240</td>\n",
       "      <td>Av. Juárez / Av. 16 de Septiembre</td>\n",
       "      <td>Av. Juárez / Calz. Independencia</td>\n",
       "      <td>1622</td>\n",
       "      <td>2020</td>\n",
       "      <td>Total</td>\n",
       "    </tr>\n",
       "    <tr>\n",
       "      <th>11</th>\n",
       "      <td>20.67527</td>\n",
       "      <td>-103.34375</td>\n",
       "      <td>12</td>\n",
       "      <td>240</td>\n",
       "      <td>240</td>\n",
       "      <td>Av. Juárez / Av. 16 de Septiembre</td>\n",
       "      <td>Av. Juárez / Calz. Independencia</td>\n",
       "      <td>1622</td>\n",
       "      <td>2020</td>\n",
       "      <td>Total</td>\n",
       "    </tr>\n",
       "    <tr>\n",
       "      <th>12</th>\n",
       "      <td>20.67533</td>\n",
       "      <td>-103.34292</td>\n",
       "      <td>13</td>\n",
       "      <td>240</td>\n",
       "      <td>240</td>\n",
       "      <td>Av. Juárez / Av. 16 de Septiembre</td>\n",
       "      <td>Av. Juárez / Calz. Independencia</td>\n",
       "      <td>1622</td>\n",
       "      <td>2020</td>\n",
       "      <td>Total</td>\n",
       "    </tr>\n",
       "    <tr>\n",
       "      <th>13</th>\n",
       "      <td>20.67537</td>\n",
       "      <td>-103.34205</td>\n",
       "      <td>14</td>\n",
       "      <td>240</td>\n",
       "      <td>240</td>\n",
       "      <td>Av. Juárez / Av. 16 de Septiembre</td>\n",
       "      <td>Av. Juárez / Calz. Independencia</td>\n",
       "      <td>1622</td>\n",
       "      <td>2020</td>\n",
       "      <td>Total</td>\n",
       "    </tr>\n",
       "  </tbody>\n",
       "</table>\n",
       "<p>4497 rows × 10 columns</p>\n",
       "</div>"
      ],
      "text/plain": [
       "    Latitude  Longitude  Order of Points  Path ID  Line  \\\n",
       "0   20.67446 -103.38488                1        1     1   \n",
       "1   20.67446 -103.38533                2        1     1   \n",
       "2   20.67440 -103.38533                3        1     1   \n",
       "3   20.67431 -103.38535                4        1     1   \n",
       "4   20.67419 -103.38540                5        1     1   \n",
       "..       ...        ...              ...      ...   ...   \n",
       "9   20.67537 -103.34326               10      240   240   \n",
       "10  20.67534 -103.34357               11      240   240   \n",
       "11  20.67527 -103.34375               12      240   240   \n",
       "12  20.67533 -103.34292               13      240   240   \n",
       "13  20.67537 -103.34205               14      240   240   \n",
       "\n",
       "                            Start Name                            End Name  \\\n",
       "0      Av. Vallarta / Av. de Los Arcos   Lopez Cotilla/ Marcos Castellanos   \n",
       "1      Av. Vallarta / Av. de Los Arcos   Lopez Cotilla/ Marcos Castellanos   \n",
       "2      Av. Vallarta / Av. de Los Arcos   Lopez Cotilla/ Marcos Castellanos   \n",
       "3      Av. Vallarta / Av. de Los Arcos   Lopez Cotilla/ Marcos Castellanos   \n",
       "4      Av. Vallarta / Av. de Los Arcos   Lopez Cotilla/ Marcos Castellanos   \n",
       "..                                 ...                                 ...   \n",
       "9    Av. Juárez / Av. 16 de Septiembre    Av. Juárez / Calz. Independencia   \n",
       "10   Av. Juárez / Av. 16 de Septiembre    Av. Juárez / Calz. Independencia   \n",
       "11   Av. Juárez / Av. 16 de Septiembre    Av. Juárez / Calz. Independencia   \n",
       "12   Av. Juárez / Av. 16 de Septiembre    Av. Juárez / Calz. Independencia   \n",
       "13   Av. Juárez / Av. 16 de Septiembre    Av. Juárez / Calz. Independencia   \n",
       "\n",
       "    Number of Trips  Year     Category  \n",
       "0              8680  2019  Guadalajara  \n",
       "1              8680  2019  Guadalajara  \n",
       "2              8680  2019  Guadalajara  \n",
       "3              8680  2019  Guadalajara  \n",
       "4              8680  2019  Guadalajara  \n",
       "..              ...   ...          ...  \n",
       "9              1622  2020        Total  \n",
       "10             1622  2020        Total  \n",
       "11             1622  2020        Total  \n",
       "12             1622  2020        Total  \n",
       "13             1622  2020        Total  \n",
       "\n",
       "[4497 rows x 10 columns]"
      ]
     },
     "execution_count": 207,
     "metadata": {},
     "output_type": "execute_result"
    }
   ],
   "source": [
    "tab_routes_df"
   ]
  },
  {
   "cell_type": "markdown",
   "id": "a932222e",
   "metadata": {},
   "source": [
    "Export data"
   ]
  },
  {
   "cell_type": "code",
   "execution_count": 208,
   "id": "29a40c9f",
   "metadata": {},
   "outputs": [],
   "source": [
    "tab_routes_df.to_csv('../../MiBici_Data/Tableau_Datasets/Question_4/map_routes_count.csv', index=False, encoding = 'utf-8')"
   ]
  }
 ],
 "metadata": {
  "kernelspec": {
   "display_name": "Python 3 (ipykernel)",
   "language": "python",
   "name": "python3"
  },
  "language_info": {
   "codemirror_mode": {
    "name": "ipython",
    "version": 3
   },
   "file_extension": ".py",
   "mimetype": "text/x-python",
   "name": "python",
   "nbconvert_exporter": "python",
   "pygments_lexer": "ipython3",
   "version": "3.9.7"
  },
  "toc": {
   "base_numbering": 1,
   "nav_menu": {},
   "number_sections": true,
   "sideBar": true,
   "skip_h1_title": false,
   "title_cell": "Table of Contents",
   "title_sidebar": "Contents",
   "toc_cell": false,
   "toc_position": {
    "height": "calc(100% - 180px)",
    "left": "10px",
    "top": "150px",
    "width": "264.938px"
   },
   "toc_section_display": true,
   "toc_window_display": true
  },
  "varInspector": {
   "cols": {
    "lenName": 16,
    "lenType": 16,
    "lenVar": 40
   },
   "kernels_config": {
    "python": {
     "delete_cmd_postfix": "",
     "delete_cmd_prefix": "del ",
     "library": "var_list.py",
     "varRefreshCmd": "print(var_dic_list())"
    },
    "r": {
     "delete_cmd_postfix": ") ",
     "delete_cmd_prefix": "rm(",
     "library": "var_list.r",
     "varRefreshCmd": "cat(var_dic_list()) "
    }
   },
   "position": {
    "height": "779.4px",
    "left": "571.625px",
    "right": "20px",
    "top": "160px",
    "width": "427.519px"
   },
   "types_to_exclude": [
    "module",
    "function",
    "builtin_function_or_method",
    "instance",
    "_Feature"
   ],
   "window_display": false
  }
 },
 "nbformat": 4,
 "nbformat_minor": 5
}
